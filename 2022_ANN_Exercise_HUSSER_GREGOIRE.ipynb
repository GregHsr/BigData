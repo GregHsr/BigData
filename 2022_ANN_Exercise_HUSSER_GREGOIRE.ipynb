{
 "cells": [
  {
   "cell_type": "markdown",
   "id": "dad1ce57-67fb-4b22-bc02-8bd8b7aad9eb",
   "metadata": {
    "tags": []
   },
   "source": [
    " # <strong> Introduction to artificial neural networks </strong>\n",
    " Spring 2023 - Toulouse INP/ENSEEIHT<br /> \n",
    " by Ruming PAN & Mohamed SAADI<br /> \n",
    " Last update: 20-01-2023<br /> \n",
    " \n",
    " This notebook contains three parts:<br />\n",
    " <ol>\n",
    "  <li><strong>Part 1: Building a neural network</strong>, in which a function ```ANN``` builds a DNN (dense neural network) knowing the number of layers (hidden + output), the number of neurons per layer, and given the parameters (weights and biases) for each layer. You are asked to implement an additional activation function (e.g., linear, ReLU) following the example given for the logistic function and test them in new ANN.</li>\n",
    "  <li><strong>Part 2: Training a neural network</strong>, where a set of data \"abalone_data.xlsx\" is given to train a DNN by back-propagating the gradient of a loss function with respect to the network parameters. You are required to do three things: (1) define the training and test datasets, (2) scale the features, and most importantly (3) complete the function ```ANN_backpro``` to successfully run the algorithm. </li>\n",
    "  <li><strong>Part 3: Make your life easier with Keras</strong>, where you are asked to implement a similar DNN using ```keras```, which is a high-level interface for ```TensorFlow```, a famous framework for deep machine learning. The objective here is to present one of the most used libraries in python-based machine learning eco-system. As you will notice, the implementation is very friendly and easy.</li>\n",
    "</ol> \n",
    " "
   ]
  },
  {
   "cell_type": "markdown",
   "id": "96d764ef-555f-4788-a195-a33fdd3767bf",
   "metadata": {
    "tags": []
   },
   "source": [
    "## <strong>Part 1: Building a neural network</strong>\n",
    " In this part, you are required to understand the structure of a neural network and build one given a number of layer ```NL``` and a list of number of neurons per layer ```NpL```."
   ]
  },
  {
   "cell_type": "markdown",
   "id": "6d8aae1b-d6d9-4cb8-97a9-c9fae30f3fe0",
   "metadata": {
    "tags": []
   },
   "source": [
    "### Step 1: Import libraries, define global functions and hyperparameters"
   ]
  },
  {
   "cell_type": "markdown",
   "id": "8b14d628-1419-4e93-9930-a70e5f6f87e3",
   "metadata": {},
   "source": [
    "<strong>Task 1:</strong> Based on the example provided for the logistic function, build new activation functions (tanh, ReLU, and linear) in order to use them later for the neural network."
   ]
  },
  {
   "cell_type": "code",
   "execution_count": 11,
   "id": "c3523df9-46de-4f00-95be-12eb6bf168d8",
   "metadata": {},
   "outputs": [],
   "source": [
    "import numpy as np\n",
    "import pandas as pd\n",
    "import matplotlib.pyplot as plt \n",
    "import sys\n",
    "import tensorflow as tf\n",
    "from tensorflow import keras\n",
    "\n",
    "## a function that takes a dataframe and returns some basic stastics of its columns\n",
    "def datasum(df):\n",
    "    dfmin = df.apply(np.min, 0)\n",
    "    dfmedian = df.apply(np.median, 0)\n",
    "    dfmean = df.apply(np.mean,0)\n",
    "    dfmax = df.apply(np.max, 0)\n",
    "    dfstd = df.apply(np.std, 0)\n",
    "    dfsummary = pd.DataFrame(np.array([dfmean, dfstd, dfmin, dfmedian, dfmax]), columns=list(df.columns[:]))\n",
    "    dfsummary[\"Statistic\"] = [\"mean\", \"std\", \"min\", \"median\", \"max\"]\n",
    "    xcol = dfsummary.shape[1]\n",
    "    colarr = [dfsummary.columns[xcol-1]]\n",
    "    for item in dfsummary.columns[0:(xcol-1)]:\n",
    "        colarr.append(item)\n",
    "    dfto = dfsummary[colarr]\n",
    "    return dfto\n",
    "\n",
    "## activation functions and their derivatives\n",
    "def logistic(x, mode = \"n\"):\n",
    "    '''\n",
    "    mode = \"n\" : returns f(x)\n",
    "    mode = \"d\": returns f'(x)\n",
    "    '''\n",
    "    t = np.exp(-x)\n",
    "    if mode == \"n\":\n",
    "        fx = 1/(1+t)\n",
    "    if mode == \"d\":\n",
    "        fx = t/(1+t)**2\n",
    "    return fx\n",
    "\n",
    "## define new functions here\n",
    "\n",
    "def tanh(x, mode = \"n\"):\n",
    "    '''\n",
    "    mode = \"n\" : returns f(x)\n",
    "    mode = \"d\": returns f'(x)\n",
    "    '''\n",
    "    p = np.exp(x)\n",
    "    n = np.exp(-x)\n",
    "    if mode == \"n\":\n",
    "        fx = p-n/(p+n)\n",
    "    if mode == \"d\":\n",
    "        fx = 1- (p-n/(p+n))**2\n",
    "    return fx\n",
    "\n",
    "def relu(x, mode = \"n\"):\n",
    "    '''\n",
    "    mode = \"n\" : returns f(x)\n",
    "    mode = \"d\": returns f'(x)\n",
    "    '''\n",
    "    if mode == \"n\":\n",
    "        fx = np.where(x < 0, 0, x)\n",
    "    if mode == \"d\":\n",
    "        fx = np.where(x < 0, 0, x)\n",
    "        fx = np.where(x >= 0, 1, x)\n",
    "    return fx\n",
    "\n",
    "def Linear(x, mode = \"n\"):\n",
    "    '''\n",
    "    mode = \"n\" : returns f(x)\n",
    "    mode = \"d\": returns f'(x)\n",
    "    '''\n",
    "    if mode == \"n\":\n",
    "        fx = x\n",
    "    if mode == \"d\":\n",
    "        fx = 1\n",
    "    return fx"
   ]
  },
  {
   "cell_type": "markdown",
   "id": "9756a2c4-d0aa-406c-83e5-7cb7612118f8",
   "metadata": {},
   "source": [
    "#### Hyperparameters: number of layers, size of each layer, and activation function per layer\n",
    "<strong>Indication:</strong> The hyperparameters ```NL```, ```NpL``` and ```Nfx``` are very important throughout the code. They define the number of layers, the number of neurons per each layer, and the number of input features. Always make sure that the size of ```NpL``` and ```ActivFun``` is equal to ```NL```."
   ]
  },
  {
   "cell_type": "code",
   "execution_count": 12,
   "id": "f9ad18c0-1f28-4b53-a7ed-d7afc91d3cc5",
   "metadata": {},
   "outputs": [
    {
     "name": "stdout",
     "output_type": "stream",
     "text": [
      "Number of neurons per layer:  [3, 1]\n",
      "Number of neurons from the previous layer:  [2, 3]\n"
     ]
    }
   ],
   "source": [
    "## NL is the number of layers including the hidden layers AND the output layer\n",
    "NL = 2\n",
    "## NpL defines the number of neurones per each layer. The length of NpL should be exactly equal to NL\n",
    "NpL = [3, 1]\n",
    "## ActivFun defines the activation functions per each layer\n",
    "ActivFun = ['logistic', 'logistic']\n",
    "\n",
    "## Add the number of features x\n",
    "Nfx = 2\n",
    "## List of size of layers -1: important for automatic definition of parameters\n",
    "NpLm1 = [Nfx]\n",
    "for iL in np.arange(len(NpL)-1):\n",
    "    NpLm1.append(NpL[iL])\n",
    "print(\"Number of neurons per layer: \", NpL)\n",
    "print(\"Number of neurons from the previous layer: \", NpLm1)"
   ]
  },
  {
   "cell_type": "markdown",
   "id": "5534c71d-16a5-4983-91ca-a17eaf93d704",
   "metadata": {},
   "source": [
    "#### Initialization of parameters\n",
    "<strong>Task 2:</strong> Initialize the parameters (weights and biases) using the function ```np.random.rand``` (https://numpy.org/doc/stable/reference/random/generated/numpy.random.rand.html). Convenient initial parameter values should be between -1 and 1."
   ]
  },
  {
   "cell_type": "code",
   "execution_count": 13,
   "id": "f87b7284-6901-4ebb-ad03-7a4f084b38ad",
   "metadata": {},
   "outputs": [
    {
     "name": "stdout",
     "output_type": "stream",
     "text": [
      "(3, 2)\n",
      "(3,)\n"
     ]
    }
   ],
   "source": [
    "## List of weights and biases\n",
    "Wts = []\n",
    "bias = []\n",
    "for iL in np.arange(len(NpL)):\n",
    "    ## random initialization\n",
    "    ## the initial parameters should be between -1 and 1\n",
    "    ## use the function np.random.rand to make random initializations (but these will be between 0 and 1)\n",
    "    WL = (np.random.rand(NpL[iL], NpLm1[iL])-0.5)*2\n",
    "    bL = (np.random.rand(NpL[iL])-0.5)*2\n",
    "    ## appending\n",
    "    Wts.append(WL)\n",
    "    bias.append(bL)\n",
    "print(Wts[0].shape)\n",
    "print(bias[0].shape)"
   ]
  },
  {
   "cell_type": "markdown",
   "id": "b1489f56-3100-4d8d-b896-ec61e8fefd23",
   "metadata": {
    "tags": []
   },
   "source": [
    "### Step 2: Construct the neural network"
   ]
  },
  {
   "cell_type": "markdown",
   "id": "f2d8ca49-503a-42b0-aff5-8ac97870d7f3",
   "metadata": {},
   "source": [
    "<strong>Task 3:</strong> Complete this function with the equations for each layer to compute the vectors $z_{L}$ and their activation $y_{L} = \\sigma(z_{L})$. The function should return a list ```z``` and a list ```y``` that have ```NpL``` arrays each."
   ]
  },
  {
   "cell_type": "code",
   "execution_count": 14,
   "id": "394fa3c3-b925-4139-94bf-d8926b19a5ff",
   "metadata": {},
   "outputs": [],
   "source": [
    "def ANN(x, NpL, Nfx, Wts, bias, ActivFun):\n",
    "    '''\n",
    "    This function computes the output of a neural network containing NL layers\n",
    "    where NL is the length of NpL. \n",
    "    o NpL contains the number of neurons per each hidden layer + the output layer. \n",
    "    o Nfx is the number of input features.\n",
    "    o Wts is a list that contains the 2D arrays of weights for each layer.\n",
    "    Each 2D array of weights has dimensions nL x nL-1, nL being the number of neurons\n",
    "    of current layer L, and nL-1 the number of neurons (or features) of layer L-1.\n",
    "    o bias is a list of 1D arrays of weights for each layer.\n",
    "    Each 1D array has dimensions nL x 1. When there are many data points (or members), say\n",
    "    n data points, the bias should be repeated using the function np.tile.\n",
    "    o ActivFun contains the name of the activation function for each layer.\n",
    "    '''\n",
    "    #print('x shape:', x.shape)\n",
    "    #print('NpL:', NpL)\n",
    "    #print('Nfx:', Nfx)\n",
    "    #print('Wts:', len(Wts))\n",
    "\n",
    "    n = x.shape[1]\n",
    "    yLm1 = x\n",
    "\n",
    "    #print('n vaut:', n)\n",
    "    #print('NL vaut:', len(NpL))\n",
    "    \n",
    "    ## z is a list that saves the zL arrays for each hidden and output layer\n",
    "    z = []\n",
    "    ## similarly, y is a list that saves the yL arrays. Specifically, yL[NL-1] contains the output.\n",
    "    y = []\n",
    "    for iL in np.arange(len(NpL)):\n",
    "        ## parameters\n",
    "        WL = Wts[iL]\n",
    "        bL = bias[iL]\n",
    "        ## multiplication\n",
    "        ## make sure that the operation is correct for n individual points.\n",
    "        ## the dimension of zL should be nL x n. Since bL is nL x 1, use np.tile to overcome this issue.\n",
    "        #print('WL shape:', WL.shape)\n",
    "        #print('yLm1 shape:', yLm1.shape)\n",
    "        #print('bL shape:', bL.shape)\n",
    "        \n",
    "        zL = np.dot(WL, yLm1) + np.tile(bL,(n,1)).T\n",
    "        z.append(zL)\n",
    "\n",
    "        #print('zL shape:', zL.shape)\n",
    "        #print('bL shape:', bL.shape)\n",
    "        #print(\"n\",n)\n",
    "\n",
    "        ## activation\n",
    "        ## to call a function given its name, use the function fx = globals()[\"fun_name\"]\n",
    "        sigma = globals()[ActivFun[iL]]\n",
    "        yL = sigma(zL)\n",
    "        y.append(yL)\n",
    "        ## move to next layer\n",
    "        yLm1 = yL\n",
    "    return y,z"
   ]
  },
  {
   "cell_type": "markdown",
   "id": "71d5a04e-934c-4581-959a-80a248f88955",
   "metadata": {
    "tags": []
   },
   "source": [
    "### Step 3: Verify that the ANN works for a simple example"
   ]
  },
  {
   "cell_type": "code",
   "execution_count": 15,
   "id": "974c4cfb-ec16-4965-bb56-4c58f0ed574f",
   "metadata": {},
   "outputs": [
    {
     "name": "stdout",
     "output_type": "stream",
     "text": [
      "(4, 2)\n",
      "[[0 0]\n",
      " [0 1]\n",
      " [1 0]\n",
      " [1 1]]\n"
     ]
    }
   ],
   "source": [
    "## Input: 4 data points x 2 features (Nfx = 2)\n",
    "input_features = np.array([[0,0], \n",
    "                           [0,1], \n",
    "                           [1,0], \n",
    "                           [1,1]])\n",
    "print(input_features.shape)\n",
    "print(input_features)"
   ]
  },
  {
   "cell_type": "code",
   "execution_count": 16,
   "id": "114e5650-c1ab-45b5-964c-ae5fa86d1049",
   "metadata": {},
   "outputs": [
    {
     "name": "stdout",
     "output_type": "stream",
     "text": [
      "(4, 1)\n",
      "[[0]\n",
      " [1]\n",
      " [1]\n",
      " [1]]\n"
     ]
    }
   ],
   "source": [
    "# Output: 4 data points x 1 feature\n",
    "target_output = np.array([[0], [1], [1], [1]])\n",
    "print(target_output.shape)\n",
    "print(target_output)"
   ]
  },
  {
   "cell_type": "markdown",
   "id": "a3007438-db04-41c0-b8ff-f8979d623d60",
   "metadata": {
    "tags": []
   },
   "source": [
    "#### Generate outputs for the 4 individuals\n",
    "Run this cell to test your neural network. It should deliver an output ysim of shape (n,1), where n is the number of data points (NOT features)."
   ]
  },
  {
   "cell_type": "code",
   "execution_count": 17,
   "id": "1bd5b6d4-42df-4369-b1cb-7c810591382a",
   "metadata": {},
   "outputs": [
    {
     "name": "stdout",
     "output_type": "stream",
     "text": [
      "(4, 1)\n"
     ]
    }
   ],
   "source": [
    "## This where you can test your neural network\n",
    "x_in = input_features.T\n",
    "y,z = ANN(x = x_in, NpL = NpL, Nfx = Nfx, Wts = Wts, bias = bias, ActivFun = ActivFun)\n",
    "ysim = y[NL-1].T\n",
    "print(ysim.shape)"
   ]
  },
  {
   "cell_type": "markdown",
   "id": "970e5665-4ef6-4d0f-ac01-b433335d741b",
   "metadata": {},
   "source": [
    "#### Goodness of fit: MSE and RMSE\n",
    "<strong>Task 4:</strong> Complete the equation of MSE and RMSE to estimate the errors of the simulation output of the neural network. Use the matrix product to compute the MSE."
   ]
  },
  {
   "cell_type": "code",
   "execution_count": 18,
   "id": "566beb62-ba89-4d96-9296-0cdb112551d9",
   "metadata": {},
   "outputs": [
    {
     "name": "stdout",
     "output_type": "stream",
     "text": [
      "MSE =  [[0.22330218]]\n",
      "RMSE =  [[0.4725486]]\n"
     ]
    }
   ],
   "source": [
    "n = target_output.shape[0]\n",
    "MSE = np.dot((target_output - ysim).T,(target_output - ysim))/n\n",
    "print(\"MSE = \", MSE)\n",
    "\n",
    "RMSE = np.sqrt(MSE)\n",
    "print(\"RMSE = \", RMSE)"
   ]
  },
  {
   "cell_type": "markdown",
   "id": "1342e97d-0aa0-425d-a088-5d56c0e91205",
   "metadata": {},
   "source": [
    "## <strong>Part 2: Training a neural network</strong>\n",
    " In this part, a backpropagation algorithm is implemented to train the neural network."
   ]
  },
  {
   "cell_type": "markdown",
   "id": "b60de4bf-e0f8-43e4-b46e-c19178980f89",
   "metadata": {
    "tags": []
   },
   "source": [
    "### Step 1: Read the data, define the training and the test datasets"
   ]
  },
  {
   "cell_type": "markdown",
   "id": "81668774-7c27-4b55-bb2d-56c847cb8dec",
   "metadata": {
    "tags": []
   },
   "source": [
    "#### Reading the dataset\n",
    "Any machine learning task involves preparing/preprocessing the data to make it ready for digestion by the machine learning algorithm.\n",
    "\n",
    "At this stage, the data has a 2D shape (lines = individuals or data points, columns = features). The dimensions of the shape of the data help you define the structure of your neural network.\n",
    "\n",
    "The \"abalone_data.xlsx\" dataset that are used for this exercise can be downloaded from https://archive.ics.uci.edu/ml/machine-learning-databases/abalone/. They contain measurements of the following properties of 4177 members of marine snails (<em>haliotis</em>):\n",
    "<ol>\n",
    "  <li><em>Type</em>: male (1), immature (0), female (-1); </li>\n",
    "  <li><em>LongestShell_mm</em>: longest shell measurement in mm; </li>\n",
    "  <li><em>Diameter_mm</em>: length perpendicular to LongestShell in mm;</li>\n",
    "  <li><em>Height_mm</em>: height of the member with meat in shell in mm;</li>\n",
    "  <li><em>WholeWeight_g</em>: mass of the whole abalone in g;</li>\n",
    "  <li><em>ShuckedWeight_g</em>: weight of meat in the abalone in g;</li>  \n",
    "  <li><em>VisceraWeight_g</em>: gut weight of the abalone (after bleeding) in g;</li>\n",
    "  <li><em>ShellWeight_g</em>: weight of the abalone after being dried in g;</li>\n",
    "  <li><em>Age_yr</em>: age of the abalone in years.</li>\n",
    "</ol> \n",
    " \n",
    "The objective of the exercise is to succeed at predicting the age of the abalone knowing its gender, form, and weight."
   ]
  },
  {
   "cell_type": "markdown",
   "id": "b042e30d-1c19-4ec6-9a06-cf99eb3998b8",
   "metadata": {},
   "source": [
    "<strong>Task 5:</strong> Complete the first instruction ```pd.read_excel``` to read the dataset."
   ]
  },
  {
   "cell_type": "code",
   "execution_count": 19,
   "id": "0fa2512e-0bad-4597-99f8-f38ec666b99f",
   "metadata": {},
   "outputs": [
    {
     "data": {
      "text/html": [
       "<style type=\"text/css\">\n",
       "</style>\n",
       "<table id=\"T_de2f1\">\n",
       "  <caption>Few lines of the dataset :</caption>\n",
       "  <thead>\n",
       "    <tr>\n",
       "      <th class=\"blank level0\" >&nbsp;</th>\n",
       "      <th id=\"T_de2f1_level0_col0\" class=\"col_heading level0 col0\" >Type</th>\n",
       "      <th id=\"T_de2f1_level0_col1\" class=\"col_heading level0 col1\" >LongestShell_mm</th>\n",
       "      <th id=\"T_de2f1_level0_col2\" class=\"col_heading level0 col2\" >Diameter_mm</th>\n",
       "      <th id=\"T_de2f1_level0_col3\" class=\"col_heading level0 col3\" >Height_mm</th>\n",
       "      <th id=\"T_de2f1_level0_col4\" class=\"col_heading level0 col4\" >WholeWeight_g</th>\n",
       "      <th id=\"T_de2f1_level0_col5\" class=\"col_heading level0 col5\" >ShuckedWeight_g</th>\n",
       "      <th id=\"T_de2f1_level0_col6\" class=\"col_heading level0 col6\" >VisceraWeight_g</th>\n",
       "      <th id=\"T_de2f1_level0_col7\" class=\"col_heading level0 col7\" >ShellWeight_g</th>\n",
       "      <th id=\"T_de2f1_level0_col8\" class=\"col_heading level0 col8\" >Age_yr</th>\n",
       "    </tr>\n",
       "  </thead>\n",
       "  <tbody>\n",
       "    <tr>\n",
       "      <th id=\"T_de2f1_level0_row0\" class=\"row_heading level0 row0\" >0</th>\n",
       "      <td id=\"T_de2f1_row0_col0\" class=\"data row0 col0\" >1.00</td>\n",
       "      <td id=\"T_de2f1_row0_col1\" class=\"data row0 col1\" >0.46</td>\n",
       "      <td id=\"T_de2f1_row0_col2\" class=\"data row0 col2\" >0.36</td>\n",
       "      <td id=\"T_de2f1_row0_col3\" class=\"data row0 col3\" >0.10</td>\n",
       "      <td id=\"T_de2f1_row0_col4\" class=\"data row0 col4\" >0.51</td>\n",
       "      <td id=\"T_de2f1_row0_col5\" class=\"data row0 col5\" >0.22</td>\n",
       "      <td id=\"T_de2f1_row0_col6\" class=\"data row0 col6\" >0.10</td>\n",
       "      <td id=\"T_de2f1_row0_col7\" class=\"data row0 col7\" >0.15</td>\n",
       "      <td id=\"T_de2f1_row0_col8\" class=\"data row0 col8\" >15.00</td>\n",
       "    </tr>\n",
       "    <tr>\n",
       "      <th id=\"T_de2f1_level0_row1\" class=\"row_heading level0 row1\" >1</th>\n",
       "      <td id=\"T_de2f1_row1_col0\" class=\"data row1 col0\" >1.00</td>\n",
       "      <td id=\"T_de2f1_row1_col1\" class=\"data row1 col1\" >0.35</td>\n",
       "      <td id=\"T_de2f1_row1_col2\" class=\"data row1 col2\" >0.27</td>\n",
       "      <td id=\"T_de2f1_row1_col3\" class=\"data row1 col3\" >0.09</td>\n",
       "      <td id=\"T_de2f1_row1_col4\" class=\"data row1 col4\" >0.23</td>\n",
       "      <td id=\"T_de2f1_row1_col5\" class=\"data row1 col5\" >0.10</td>\n",
       "      <td id=\"T_de2f1_row1_col6\" class=\"data row1 col6\" >0.05</td>\n",
       "      <td id=\"T_de2f1_row1_col7\" class=\"data row1 col7\" >0.07</td>\n",
       "      <td id=\"T_de2f1_row1_col8\" class=\"data row1 col8\" >7.00</td>\n",
       "    </tr>\n",
       "    <tr>\n",
       "      <th id=\"T_de2f1_level0_row2\" class=\"row_heading level0 row2\" >2</th>\n",
       "      <td id=\"T_de2f1_row2_col0\" class=\"data row2 col0\" >-1.00</td>\n",
       "      <td id=\"T_de2f1_row2_col1\" class=\"data row2 col1\" >0.53</td>\n",
       "      <td id=\"T_de2f1_row2_col2\" class=\"data row2 col2\" >0.42</td>\n",
       "      <td id=\"T_de2f1_row2_col3\" class=\"data row2 col3\" >0.14</td>\n",
       "      <td id=\"T_de2f1_row2_col4\" class=\"data row2 col4\" >0.68</td>\n",
       "      <td id=\"T_de2f1_row2_col5\" class=\"data row2 col5\" >0.26</td>\n",
       "      <td id=\"T_de2f1_row2_col6\" class=\"data row2 col6\" >0.14</td>\n",
       "      <td id=\"T_de2f1_row2_col7\" class=\"data row2 col7\" >0.21</td>\n",
       "      <td id=\"T_de2f1_row2_col8\" class=\"data row2 col8\" >9.00</td>\n",
       "    </tr>\n",
       "    <tr>\n",
       "      <th id=\"T_de2f1_level0_row3\" class=\"row_heading level0 row3\" >3</th>\n",
       "      <td id=\"T_de2f1_row3_col0\" class=\"data row3 col0\" >1.00</td>\n",
       "      <td id=\"T_de2f1_row3_col1\" class=\"data row3 col1\" >0.44</td>\n",
       "      <td id=\"T_de2f1_row3_col2\" class=\"data row3 col2\" >0.36</td>\n",
       "      <td id=\"T_de2f1_row3_col3\" class=\"data row3 col3\" >0.12</td>\n",
       "      <td id=\"T_de2f1_row3_col4\" class=\"data row3 col4\" >0.52</td>\n",
       "      <td id=\"T_de2f1_row3_col5\" class=\"data row3 col5\" >0.22</td>\n",
       "      <td id=\"T_de2f1_row3_col6\" class=\"data row3 col6\" >0.11</td>\n",
       "      <td id=\"T_de2f1_row3_col7\" class=\"data row3 col7\" >0.15</td>\n",
       "      <td id=\"T_de2f1_row3_col8\" class=\"data row3 col8\" >10.00</td>\n",
       "    </tr>\n",
       "    <tr>\n",
       "      <th id=\"T_de2f1_level0_row4\" class=\"row_heading level0 row4\" >4</th>\n",
       "      <td id=\"T_de2f1_row4_col0\" class=\"data row4 col0\" >0.00</td>\n",
       "      <td id=\"T_de2f1_row4_col1\" class=\"data row4 col1\" >0.33</td>\n",
       "      <td id=\"T_de2f1_row4_col2\" class=\"data row4 col2\" >0.26</td>\n",
       "      <td id=\"T_de2f1_row4_col3\" class=\"data row4 col3\" >0.08</td>\n",
       "      <td id=\"T_de2f1_row4_col4\" class=\"data row4 col4\" >0.20</td>\n",
       "      <td id=\"T_de2f1_row4_col5\" class=\"data row4 col5\" >0.09</td>\n",
       "      <td id=\"T_de2f1_row4_col6\" class=\"data row4 col6\" >0.04</td>\n",
       "      <td id=\"T_de2f1_row4_col7\" class=\"data row4 col7\" >0.06</td>\n",
       "      <td id=\"T_de2f1_row4_col8\" class=\"data row4 col8\" >7.00</td>\n",
       "    </tr>\n",
       "  </tbody>\n",
       "</table>\n"
      ],
      "text/plain": [
       "<pandas.io.formats.style.Styler at 0x2d42f801390>"
      ]
     },
     "metadata": {},
     "output_type": "display_data"
    },
    {
     "data": {
      "text/html": [
       "<style type=\"text/css\">\n",
       "</style>\n",
       "<table id=\"T_ffd85\">\n",
       "  <caption>Statistics of the dataset</caption>\n",
       "  <thead>\n",
       "    <tr>\n",
       "      <th id=\"T_ffd85_level0_col0\" class=\"col_heading level0 col0\" >Statistic</th>\n",
       "      <th id=\"T_ffd85_level0_col1\" class=\"col_heading level0 col1\" >Type</th>\n",
       "      <th id=\"T_ffd85_level0_col2\" class=\"col_heading level0 col2\" >LongestShell_mm</th>\n",
       "      <th id=\"T_ffd85_level0_col3\" class=\"col_heading level0 col3\" >Diameter_mm</th>\n",
       "      <th id=\"T_ffd85_level0_col4\" class=\"col_heading level0 col4\" >Height_mm</th>\n",
       "      <th id=\"T_ffd85_level0_col5\" class=\"col_heading level0 col5\" >WholeWeight_g</th>\n",
       "      <th id=\"T_ffd85_level0_col6\" class=\"col_heading level0 col6\" >ShuckedWeight_g</th>\n",
       "      <th id=\"T_ffd85_level0_col7\" class=\"col_heading level0 col7\" >VisceraWeight_g</th>\n",
       "      <th id=\"T_ffd85_level0_col8\" class=\"col_heading level0 col8\" >ShellWeight_g</th>\n",
       "      <th id=\"T_ffd85_level0_col9\" class=\"col_heading level0 col9\" >Age_yr</th>\n",
       "    </tr>\n",
       "  </thead>\n",
       "  <tbody>\n",
       "    <tr>\n",
       "      <td id=\"T_ffd85_row0_col0\" class=\"data row0 col0\" >mean</td>\n",
       "      <td id=\"T_ffd85_row0_col1\" class=\"data row0 col1\" >0.052909</td>\n",
       "      <td id=\"T_ffd85_row0_col2\" class=\"data row0 col2\" >0.523992</td>\n",
       "      <td id=\"T_ffd85_row0_col3\" class=\"data row0 col3\" >0.407881</td>\n",
       "      <td id=\"T_ffd85_row0_col4\" class=\"data row0 col4\" >0.139516</td>\n",
       "      <td id=\"T_ffd85_row0_col5\" class=\"data row0 col5\" >0.828742</td>\n",
       "      <td id=\"T_ffd85_row0_col6\" class=\"data row0 col6\" >0.359367</td>\n",
       "      <td id=\"T_ffd85_row0_col7\" class=\"data row0 col7\" >0.180594</td>\n",
       "      <td id=\"T_ffd85_row0_col8\" class=\"data row0 col8\" >0.238831</td>\n",
       "      <td id=\"T_ffd85_row0_col9\" class=\"data row0 col9\" >9.933684</td>\n",
       "    </tr>\n",
       "    <tr>\n",
       "      <td id=\"T_ffd85_row1_col0\" class=\"data row1 col0\" >std</td>\n",
       "      <td id=\"T_ffd85_row1_col1\" class=\"data row1 col1\" >0.822142</td>\n",
       "      <td id=\"T_ffd85_row1_col2\" class=\"data row1 col2\" >0.120079</td>\n",
       "      <td id=\"T_ffd85_row1_col3\" class=\"data row1 col3\" >0.099228</td>\n",
       "      <td id=\"T_ffd85_row1_col4\" class=\"data row1 col4\" >0.041822</td>\n",
       "      <td id=\"T_ffd85_row1_col5\" class=\"data row1 col5\" >0.490330</td>\n",
       "      <td id=\"T_ffd85_row1_col6\" class=\"data row1 col6\" >0.221936</td>\n",
       "      <td id=\"T_ffd85_row1_col7\" class=\"data row1 col7\" >0.109601</td>\n",
       "      <td id=\"T_ffd85_row1_col8\" class=\"data row1 col8\" >0.139186</td>\n",
       "      <td id=\"T_ffd85_row1_col9\" class=\"data row1 col9\" >3.223783</td>\n",
       "    </tr>\n",
       "    <tr>\n",
       "      <td id=\"T_ffd85_row2_col0\" class=\"data row2 col0\" >min</td>\n",
       "      <td id=\"T_ffd85_row2_col1\" class=\"data row2 col1\" >-1.000000</td>\n",
       "      <td id=\"T_ffd85_row2_col2\" class=\"data row2 col2\" >0.075000</td>\n",
       "      <td id=\"T_ffd85_row2_col3\" class=\"data row2 col3\" >0.055000</td>\n",
       "      <td id=\"T_ffd85_row2_col4\" class=\"data row2 col4\" >0.000000</td>\n",
       "      <td id=\"T_ffd85_row2_col5\" class=\"data row2 col5\" >0.002000</td>\n",
       "      <td id=\"T_ffd85_row2_col6\" class=\"data row2 col6\" >0.001000</td>\n",
       "      <td id=\"T_ffd85_row2_col7\" class=\"data row2 col7\" >0.000500</td>\n",
       "      <td id=\"T_ffd85_row2_col8\" class=\"data row2 col8\" >0.001500</td>\n",
       "      <td id=\"T_ffd85_row2_col9\" class=\"data row2 col9\" >1.000000</td>\n",
       "    </tr>\n",
       "    <tr>\n",
       "      <td id=\"T_ffd85_row3_col0\" class=\"data row3 col0\" >median</td>\n",
       "      <td id=\"T_ffd85_row3_col1\" class=\"data row3 col1\" >0.000000</td>\n",
       "      <td id=\"T_ffd85_row3_col2\" class=\"data row3 col2\" >0.545000</td>\n",
       "      <td id=\"T_ffd85_row3_col3\" class=\"data row3 col3\" >0.425000</td>\n",
       "      <td id=\"T_ffd85_row3_col4\" class=\"data row3 col4\" >0.140000</td>\n",
       "      <td id=\"T_ffd85_row3_col5\" class=\"data row3 col5\" >0.799500</td>\n",
       "      <td id=\"T_ffd85_row3_col6\" class=\"data row3 col6\" >0.336000</td>\n",
       "      <td id=\"T_ffd85_row3_col7\" class=\"data row3 col7\" >0.171000</td>\n",
       "      <td id=\"T_ffd85_row3_col8\" class=\"data row3 col8\" >0.234000</td>\n",
       "      <td id=\"T_ffd85_row3_col9\" class=\"data row3 col9\" >9.000000</td>\n",
       "    </tr>\n",
       "    <tr>\n",
       "      <td id=\"T_ffd85_row4_col0\" class=\"data row4 col0\" >max</td>\n",
       "      <td id=\"T_ffd85_row4_col1\" class=\"data row4 col1\" >1.000000</td>\n",
       "      <td id=\"T_ffd85_row4_col2\" class=\"data row4 col2\" >0.815000</td>\n",
       "      <td id=\"T_ffd85_row4_col3\" class=\"data row4 col3\" >0.650000</td>\n",
       "      <td id=\"T_ffd85_row4_col4\" class=\"data row4 col4\" >1.130000</td>\n",
       "      <td id=\"T_ffd85_row4_col5\" class=\"data row4 col5\" >2.825500</td>\n",
       "      <td id=\"T_ffd85_row4_col6\" class=\"data row4 col6\" >1.488000</td>\n",
       "      <td id=\"T_ffd85_row4_col7\" class=\"data row4 col7\" >0.760000</td>\n",
       "      <td id=\"T_ffd85_row4_col8\" class=\"data row4 col8\" >1.005000</td>\n",
       "      <td id=\"T_ffd85_row4_col9\" class=\"data row4 col9\" >29.000000</td>\n",
       "    </tr>\n",
       "  </tbody>\n",
       "</table>\n"
      ],
      "text/plain": [
       "<pandas.io.formats.style.Styler at 0x2d42d2dc8e0>"
      ]
     },
     "metadata": {},
     "output_type": "display_data"
    }
   ],
   "source": [
    "df = pd.read_excel(\"abalone_data.xlsx\", sheet_name=\"Sheet1\")\n",
    "display(df.head(5).style.format(\"{0:.2f}\").set_caption(\"Few lines of the dataset :\"))\n",
    "dfsum = datasum(df)\n",
    "pd.options.display.float_format = '{:,.2f}'.format\n",
    "display(dfsum.style.hide(axis = \"index\").set_caption(\"Statistics of the dataset\"))"
   ]
  },
  {
   "cell_type": "markdown",
   "id": "aa151f77-adf9-44d7-abcf-dd0138ac06d9",
   "metadata": {},
   "source": [
    "#### Training and test datasets"
   ]
  },
  {
   "cell_type": "markdown",
   "id": "ad7b7b25-91fa-42b1-8199-668c2197ca6f",
   "metadata": {},
   "source": [
    "<strong>Task 6:</strong> After reading the dataset, complete the instructions using ```df.sample``` and ```df.drop``` to split the data into train and test datasets."
   ]
  },
  {
   "cell_type": "code",
   "execution_count": 20,
   "id": "870a38bc-be46-4b48-8b6d-99e0793f23e2",
   "metadata": {},
   "outputs": [
    {
     "name": "stdout",
     "output_type": "stream",
     "text": [
      "percTrain 0.7000239406272444\n",
      "percTest 0.29997605937275557\n"
     ]
    }
   ],
   "source": [
    "## percentage of data to be used for training\n",
    "percTrain = 0.7\n",
    "\n",
    "## index of training and test\n",
    "#trainindex = np.random.rand(len(df)) < percTrain\n",
    "dftrain = df.sample(frac = percTrain, axis = 0)\n",
    "dftest = df.drop(dftrain.index)\n",
    "\n",
    "print(\"percTrain\",len(dftrain)/len(df))\n",
    "print(\"percTest\",len(dftest)/len(df))"
   ]
  },
  {
   "cell_type": "markdown",
   "id": "f79be5dc-1211-4f43-a0d5-4c003f50cf03",
   "metadata": {},
   "source": [
    "#### Defining features and output variables"
   ]
  },
  {
   "cell_type": "markdown",
   "id": "85a21213-5d5a-48eb-9ccf-0c0b4702365f",
   "metadata": {},
   "source": [
    "<strong>Task 7:</strong> Complete the instructions to define the target/output/dependent variable (age of the abalone) and the attributes/input/independent variables (remaining variables). "
   ]
  },
  {
   "cell_type": "code",
   "execution_count": 21,
   "id": "a2686eaf-5431-45fe-9c35-a4423890b367",
   "metadata": {},
   "outputs": [
    {
     "name": "stdout",
     "output_type": "stream",
     "text": [
      "xtrain.head       Type  LongestShell_mm  Diameter_mm  Height_mm  WholeWeight_g  \\\n",
      "520      1             0.21         0.15       0.05           0.04   \n",
      "3039     1             0.57         0.45       0.14           0.95   \n",
      "681      1             0.48         0.37       0.14           0.57   \n",
      "4140    -1             0.65         0.54       0.19           1.24   \n",
      "299      1             0.37         0.28       0.10           0.23   \n",
      "\n",
      "      ShuckedWeight_g  VisceraWeight_g  ShellWeight_g  \n",
      "520              0.02             0.01           0.01  \n",
      "3039             0.40             0.22           0.28  \n",
      "681              0.20             0.14           0.17  \n",
      "4140             0.47             0.24           0.42  \n",
      "299              0.09             0.06           0.07  \n",
      "Shape of original data :  (4177, 9)\n",
      "xtrain :  (2924, 8) ytrain :  (2924,)\n",
      "xtest  :  (1253, 8) ytest  :  (1253,)\n"
     ]
    }
   ],
   "source": [
    "ytrain = dftrain.Age_yr\n",
    "xtrain = dftrain.drop(\"Age_yr\", axis = 1)\n",
    "\n",
    "print(\"xtrain.head\" ,xtrain.head())\n",
    "\n",
    "ytest = dftest.Age_yr\n",
    "xtest = dftest.drop(\"Age_yr\", axis = 1)\n",
    " \n",
    "## printing some information\n",
    "print('Shape of original data : ', df.shape)\n",
    "print('xtrain : ',xtrain.shape, 'ytrain : ',ytrain.shape)\n",
    "print('xtest  : ',xtest.shape,  'ytest  : ',ytest.shape)"
   ]
  },
  {
   "cell_type": "markdown",
   "id": "0fe48c69-9b0f-425f-9bde-f197b6985645",
   "metadata": {},
   "source": [
    "#### Scaling the data"
   ]
  },
  {
   "cell_type": "markdown",
   "id": "bd11566c-b3bd-402f-a72e-9edac0bcb137",
   "metadata": {},
   "source": [
    "<strong>Task 8:</strong> Estimate the mean and standard deviation for each column/feature from the <ins>train</ins> dataset and use them to scale both the train and the test datasets."
   ]
  },
  {
   "cell_type": "code",
   "execution_count": 22,
   "id": "da817fc5-9145-4ce1-8e01-e681db1ee91c",
   "metadata": {},
   "outputs": [],
   "source": [
    "## estimate the mean and the standard deviation from the train dataset\n",
    "xmean = xtrain.mean()\n",
    "xstd = xtrain.std()\n",
    "## scaling\n",
    "xtrain_scl = (xtrain - xmean)/xstd\n",
    "xtest_scl = (xtest - xmean)/xstd "
   ]
  },
  {
   "cell_type": "code",
   "execution_count": 23,
   "id": "20de3846-0fc6-4bed-bc0b-e3f24db3398a",
   "metadata": {},
   "outputs": [
    {
     "data": {
      "text/html": [
       "<style type=\"text/css\">\n",
       "</style>\n",
       "<table id=\"T_bff75\">\n",
       "  <caption>Statistics of the dataset - before scaling</caption>\n",
       "  <thead>\n",
       "    <tr>\n",
       "      <th id=\"T_bff75_level0_col0\" class=\"col_heading level0 col0\" >Statistic</th>\n",
       "      <th id=\"T_bff75_level0_col1\" class=\"col_heading level0 col1\" >Type</th>\n",
       "      <th id=\"T_bff75_level0_col2\" class=\"col_heading level0 col2\" >LongestShell_mm</th>\n",
       "      <th id=\"T_bff75_level0_col3\" class=\"col_heading level0 col3\" >Diameter_mm</th>\n",
       "      <th id=\"T_bff75_level0_col4\" class=\"col_heading level0 col4\" >Height_mm</th>\n",
       "      <th id=\"T_bff75_level0_col5\" class=\"col_heading level0 col5\" >WholeWeight_g</th>\n",
       "      <th id=\"T_bff75_level0_col6\" class=\"col_heading level0 col6\" >ShuckedWeight_g</th>\n",
       "      <th id=\"T_bff75_level0_col7\" class=\"col_heading level0 col7\" >VisceraWeight_g</th>\n",
       "      <th id=\"T_bff75_level0_col8\" class=\"col_heading level0 col8\" >ShellWeight_g</th>\n",
       "    </tr>\n",
       "  </thead>\n",
       "  <tbody>\n",
       "    <tr>\n",
       "      <td id=\"T_bff75_row0_col0\" class=\"data row0 col0\" >mean</td>\n",
       "      <td id=\"T_bff75_row0_col1\" class=\"data row0 col1\" >0.055062</td>\n",
       "      <td id=\"T_bff75_row0_col2\" class=\"data row0 col2\" >0.524147</td>\n",
       "      <td id=\"T_bff75_row0_col3\" class=\"data row0 col3\" >0.407758</td>\n",
       "      <td id=\"T_bff75_row0_col4\" class=\"data row0 col4\" >0.139983</td>\n",
       "      <td id=\"T_bff75_row0_col5\" class=\"data row0 col5\" >0.828769</td>\n",
       "      <td id=\"T_bff75_row0_col6\" class=\"data row0 col6\" >0.359141</td>\n",
       "      <td id=\"T_bff75_row0_col7\" class=\"data row0 col7\" >0.180659</td>\n",
       "      <td id=\"T_bff75_row0_col8\" class=\"data row0 col8\" >0.238924</td>\n",
       "    </tr>\n",
       "    <tr>\n",
       "      <td id=\"T_bff75_row1_col0\" class=\"data row1 col0\" >std</td>\n",
       "      <td id=\"T_bff75_row1_col1\" class=\"data row1 col1\" >0.821674</td>\n",
       "      <td id=\"T_bff75_row1_col2\" class=\"data row1 col2\" >0.120669</td>\n",
       "      <td id=\"T_bff75_row1_col3\" class=\"data row1 col3\" >0.099638</td>\n",
       "      <td id=\"T_bff75_row1_col4\" class=\"data row1 col4\" >0.043308</td>\n",
       "      <td id=\"T_bff75_row1_col5\" class=\"data row1 col5\" >0.489912</td>\n",
       "      <td id=\"T_bff75_row1_col6\" class=\"data row1 col6\" >0.221940</td>\n",
       "      <td id=\"T_bff75_row1_col7\" class=\"data row1 col7\" >0.109902</td>\n",
       "      <td id=\"T_bff75_row1_col8\" class=\"data row1 col8\" >0.138614</td>\n",
       "    </tr>\n",
       "    <tr>\n",
       "      <td id=\"T_bff75_row2_col0\" class=\"data row2 col0\" >min</td>\n",
       "      <td id=\"T_bff75_row2_col1\" class=\"data row2 col1\" >-1.000000</td>\n",
       "      <td id=\"T_bff75_row2_col2\" class=\"data row2 col2\" >0.075000</td>\n",
       "      <td id=\"T_bff75_row2_col3\" class=\"data row2 col3\" >0.055000</td>\n",
       "      <td id=\"T_bff75_row2_col4\" class=\"data row2 col4\" >0.000000</td>\n",
       "      <td id=\"T_bff75_row2_col5\" class=\"data row2 col5\" >0.002000</td>\n",
       "      <td id=\"T_bff75_row2_col6\" class=\"data row2 col6\" >0.001000</td>\n",
       "      <td id=\"T_bff75_row2_col7\" class=\"data row2 col7\" >0.000500</td>\n",
       "      <td id=\"T_bff75_row2_col8\" class=\"data row2 col8\" >0.001500</td>\n",
       "    </tr>\n",
       "    <tr>\n",
       "      <td id=\"T_bff75_row3_col0\" class=\"data row3 col0\" >median</td>\n",
       "      <td id=\"T_bff75_row3_col1\" class=\"data row3 col1\" >0.000000</td>\n",
       "      <td id=\"T_bff75_row3_col2\" class=\"data row3 col2\" >0.545000</td>\n",
       "      <td id=\"T_bff75_row3_col3\" class=\"data row3 col3\" >0.425000</td>\n",
       "      <td id=\"T_bff75_row3_col4\" class=\"data row3 col4\" >0.145000</td>\n",
       "      <td id=\"T_bff75_row3_col5\" class=\"data row3 col5\" >0.800000</td>\n",
       "      <td id=\"T_bff75_row3_col6\" class=\"data row3 col6\" >0.335000</td>\n",
       "      <td id=\"T_bff75_row3_col7\" class=\"data row3 col7\" >0.170000</td>\n",
       "      <td id=\"T_bff75_row3_col8\" class=\"data row3 col8\" >0.235000</td>\n",
       "    </tr>\n",
       "    <tr>\n",
       "      <td id=\"T_bff75_row4_col0\" class=\"data row4 col0\" >max</td>\n",
       "      <td id=\"T_bff75_row4_col1\" class=\"data row4 col1\" >1.000000</td>\n",
       "      <td id=\"T_bff75_row4_col2\" class=\"data row4 col2\" >0.815000</td>\n",
       "      <td id=\"T_bff75_row4_col3\" class=\"data row4 col3\" >0.650000</td>\n",
       "      <td id=\"T_bff75_row4_col4\" class=\"data row4 col4\" >1.130000</td>\n",
       "      <td id=\"T_bff75_row4_col5\" class=\"data row4 col5\" >2.825500</td>\n",
       "      <td id=\"T_bff75_row4_col6\" class=\"data row4 col6\" >1.488000</td>\n",
       "      <td id=\"T_bff75_row4_col7\" class=\"data row4 col7\" >0.760000</td>\n",
       "      <td id=\"T_bff75_row4_col8\" class=\"data row4 col8\" >1.005000</td>\n",
       "    </tr>\n",
       "  </tbody>\n",
       "</table>\n"
      ],
      "text/plain": [
       "<pandas.io.formats.style.Styler at 0x2d424e516c0>"
      ]
     },
     "metadata": {},
     "output_type": "display_data"
    },
    {
     "data": {
      "text/html": [
       "<style type=\"text/css\">\n",
       "</style>\n",
       "<table id=\"T_7d9a6\">\n",
       "  <caption>Statistics of the dataset - after scaling</caption>\n",
       "  <thead>\n",
       "    <tr>\n",
       "      <th id=\"T_7d9a6_level0_col0\" class=\"col_heading level0 col0\" >Statistic</th>\n",
       "      <th id=\"T_7d9a6_level0_col1\" class=\"col_heading level0 col1\" >Type</th>\n",
       "      <th id=\"T_7d9a6_level0_col2\" class=\"col_heading level0 col2\" >LongestShell_mm</th>\n",
       "      <th id=\"T_7d9a6_level0_col3\" class=\"col_heading level0 col3\" >Diameter_mm</th>\n",
       "      <th id=\"T_7d9a6_level0_col4\" class=\"col_heading level0 col4\" >Height_mm</th>\n",
       "      <th id=\"T_7d9a6_level0_col5\" class=\"col_heading level0 col5\" >WholeWeight_g</th>\n",
       "      <th id=\"T_7d9a6_level0_col6\" class=\"col_heading level0 col6\" >ShuckedWeight_g</th>\n",
       "      <th id=\"T_7d9a6_level0_col7\" class=\"col_heading level0 col7\" >VisceraWeight_g</th>\n",
       "      <th id=\"T_7d9a6_level0_col8\" class=\"col_heading level0 col8\" >ShellWeight_g</th>\n",
       "    </tr>\n",
       "  </thead>\n",
       "  <tbody>\n",
       "    <tr>\n",
       "      <td id=\"T_7d9a6_row0_col0\" class=\"data row0 col0\" >mean</td>\n",
       "      <td id=\"T_7d9a6_row0_col1\" class=\"data row0 col1\" >0.000000</td>\n",
       "      <td id=\"T_7d9a6_row0_col2\" class=\"data row0 col2\" >0.000000</td>\n",
       "      <td id=\"T_7d9a6_row0_col3\" class=\"data row0 col3\" >0.000000</td>\n",
       "      <td id=\"T_7d9a6_row0_col4\" class=\"data row0 col4\" >0.000000</td>\n",
       "      <td id=\"T_7d9a6_row0_col5\" class=\"data row0 col5\" >-0.000000</td>\n",
       "      <td id=\"T_7d9a6_row0_col6\" class=\"data row0 col6\" >-0.000000</td>\n",
       "      <td id=\"T_7d9a6_row0_col7\" class=\"data row0 col7\" >0.000000</td>\n",
       "      <td id=\"T_7d9a6_row0_col8\" class=\"data row0 col8\" >-0.000000</td>\n",
       "    </tr>\n",
       "    <tr>\n",
       "      <td id=\"T_7d9a6_row1_col0\" class=\"data row1 col0\" >std</td>\n",
       "      <td id=\"T_7d9a6_row1_col1\" class=\"data row1 col1\" >0.999829</td>\n",
       "      <td id=\"T_7d9a6_row1_col2\" class=\"data row1 col2\" >0.999829</td>\n",
       "      <td id=\"T_7d9a6_row1_col3\" class=\"data row1 col3\" >0.999829</td>\n",
       "      <td id=\"T_7d9a6_row1_col4\" class=\"data row1 col4\" >0.999829</td>\n",
       "      <td id=\"T_7d9a6_row1_col5\" class=\"data row1 col5\" >0.999829</td>\n",
       "      <td id=\"T_7d9a6_row1_col6\" class=\"data row1 col6\" >0.999829</td>\n",
       "      <td id=\"T_7d9a6_row1_col7\" class=\"data row1 col7\" >0.999829</td>\n",
       "      <td id=\"T_7d9a6_row1_col8\" class=\"data row1 col8\" >0.999829</td>\n",
       "    </tr>\n",
       "    <tr>\n",
       "      <td id=\"T_7d9a6_row2_col0\" class=\"data row2 col0\" >min</td>\n",
       "      <td id=\"T_7d9a6_row2_col1\" class=\"data row2 col1\" >-1.283819</td>\n",
       "      <td id=\"T_7d9a6_row2_col2\" class=\"data row2 col2\" >-3.721508</td>\n",
       "      <td id=\"T_7d9a6_row2_col3\" class=\"data row2 col3\" >-3.539799</td>\n",
       "      <td id=\"T_7d9a6_row2_col4\" class=\"data row2 col4\" >-3.231742</td>\n",
       "      <td id=\"T_7d9a6_row2_col5\" class=\"data row2 col5\" >-1.687299</td>\n",
       "      <td id=\"T_7d9a6_row2_col6\" class=\"data row2 col6\" >-1.613412</td>\n",
       "      <td id=\"T_7d9a6_row2_col7\" class=\"data row2 col7\" >-1.638983</td>\n",
       "      <td id=\"T_7d9a6_row2_col8\" class=\"data row2 col8\" >-1.712554</td>\n",
       "    </tr>\n",
       "    <tr>\n",
       "      <td id=\"T_7d9a6_row3_col0\" class=\"data row3 col0\" >median</td>\n",
       "      <td id=\"T_7d9a6_row3_col1\" class=\"data row3 col1\" >-0.067000</td>\n",
       "      <td id=\"T_7d9a6_row3_col2\" class=\"data row3 col2\" >0.172785</td>\n",
       "      <td id=\"T_7d9a6_row3_col3\" class=\"data row3 col3\" >0.173015</td>\n",
       "      <td id=\"T_7d9a6_row3_col4\" class=\"data row3 col4\" >0.115828</td>\n",
       "      <td id=\"T_7d9a6_row3_col5\" class=\"data row3 col5\" >-0.058713</td>\n",
       "      <td id=\"T_7d9a6_row3_col6\" class=\"data row3 col6\" >-0.108755</td>\n",
       "      <td id=\"T_7d9a6_row3_col7\" class=\"data row3 col7\" >-0.096965</td>\n",
       "      <td id=\"T_7d9a6_row3_col8\" class=\"data row3 col8\" >-0.028302</td>\n",
       "    </tr>\n",
       "    <tr>\n",
       "      <td id=\"T_7d9a6_row4_col0\" class=\"data row4 col0\" >max</td>\n",
       "      <td id=\"T_7d9a6_row4_col1\" class=\"data row4 col1\" >1.149819</td>\n",
       "      <td id=\"T_7d9a6_row4_col2\" class=\"data row4 col2\" >2.409931</td>\n",
       "      <td id=\"T_7d9a6_row4_col3\" class=\"data row4 col3\" >2.430808</td>\n",
       "      <td id=\"T_7d9a6_row4_col4\" class=\"data row4 col4\" >22.856222</td>\n",
       "      <td id=\"T_7d9a6_row4_col5\" class=\"data row4 col5\" >4.074997</td>\n",
       "      <td id=\"T_7d9a6_row4_col6\" class=\"data row4 col6\" >5.085466</td>\n",
       "      <td id=\"T_7d9a6_row4_col7\" class=\"data row4 col7\" >5.270531</td>\n",
       "      <td id=\"T_7d9a6_row4_col8\" class=\"data row4 col8\" >5.525761</td>\n",
       "    </tr>\n",
       "  </tbody>\n",
       "</table>\n"
      ],
      "text/plain": [
       "<pandas.io.formats.style.Styler at 0x2d42d2dc8e0>"
      ]
     },
     "metadata": {},
     "output_type": "display_data"
    }
   ],
   "source": [
    "x_train_summary = datasum(xtrain)\n",
    "x_test_summary = datasum(xtest)\n",
    "x_train_scl_summary = datasum(xtrain_scl)\n",
    "x_test_scl_summary = datasum(xtest_scl)\n",
    "## convert to arrays\n",
    "xtrain_scl, ytrain = np.array(xtrain_scl), np.array(ytrain)\n",
    "xtest_scl, ytest = np.array(xtest_scl), np.array(ytest)\n",
    "## print the dataset before and after scaling\n",
    "display(x_train_summary.style.hide(axis = \"index\").set_caption(\"Statistics of the dataset - before scaling\"))\n",
    "display(x_train_scl_summary.style.hide(axis = \"index\").set_caption(\"Statistics of the dataset - after scaling\"))"
   ]
  },
  {
   "cell_type": "markdown",
   "id": "0ffa1da9-2f7c-42d9-9545-a82495751e05",
   "metadata": {},
   "source": [
    "### Step 2: Build the backpropagation algorithm"
   ]
  },
  {
   "cell_type": "markdown",
   "id": "3d1a2149-4fb3-4ddb-adb7-2078324fecbe",
   "metadata": {},
   "source": [
    "<strong>Task 9:</strong> Complete the following function to train the neural network using the gradient descent method based on backpropagation."
   ]
  },
  {
   "cell_type": "code",
   "execution_count": 24,
   "id": "fe91295f-036a-4c83-9075-2498dfaa53b2",
   "metadata": {},
   "outputs": [],
   "source": [
    "def ANN_backpro(x, ytrue, NpL, Nfx, Wts, bias, ActivFun, lr):\n",
    "    '''\n",
    "    o Shape of x: Nfx * n, where n is the number of data points, and Nfx the number of features\n",
    "    o Shape of ytrue: n * 1, where n is the number of data points.\n",
    "    \n",
    "    '''\n",
    "    #print(\"x\",x.shape)\n",
    "    #print(\"ytrue\",ytrue.shape)\n",
    "    \n",
    "    ## step 1: feed forward\n",
    "    n = x.shape[1]\n",
    "    yLm1 = x\n",
    "    z = []\n",
    "    y = []\n",
    "    for iL in np.arange(len(NpL)):\n",
    "        ## get the parameters for the current layer\n",
    "        WL = Wts[iL]\n",
    "        bL = bias[iL]\n",
    "        ## estimate zL from yLm1\n",
    "        zL = np.dot(WL, yLm1) + np.tile(bL,(n,1)).T\n",
    "        z.append(zL)\n",
    "        #print(\"zL\",zL.shape)\n",
    "\n",
    "        ## estimate yL from zL\n",
    "        sigma = globals()[ActivFun[iL]]\n",
    "        #print(\"sigma\",sigma)\n",
    "        yL = sigma(zL, mode = \"n\")\n",
    "        y.append(yL)\n",
    "\n",
    "        ## update yLm1\n",
    "        yLm1 = yL\n",
    "\n",
    "    ## step 2: backpropagation\n",
    "    ytrue = ytrue.T\n",
    "    dJ_dy = 2*(yL[-1] - ytrue)                                          ####### crochets en trop??\n",
    "\n",
    "    for iL in reversed(np.arange(len(NpL))):\n",
    "        print(\"iL\",iL)\n",
    "        ## getting zL of the current layer\n",
    "        zL = z[iL]\n",
    "\n",
    "        ## estimating dJ_dz from dJ_dy\n",
    "        sigma = globals()[ActivFun[iL]]\n",
    "        dJ_dz = dJ_dy * sigma(zL, mode = \"d\")\n",
    "\n",
    "        ## getting the parameters of current layer\n",
    "        WL = Wts[iL]\n",
    "        bL = bias[iL]\n",
    "       \n",
    "        ## estimating dJ_dW from dJ_dz\n",
    "        ## dJ_dz : (nL x n)\n",
    "        ## yLm1 : (nL-1 x n)\n",
    "        ## getting yL-1\n",
    "        if iL == 0:\n",
    "            yLm1 = x\n",
    "        else:\n",
    "            yLm1 = y[iL-1]\n",
    "\n",
    "        dJ_dW = np.dot(dJ_dz, yLm1.T)\n",
    "        \n",
    "        #print(\"dJ_dz\",dJ_dz.shape, \"nL x n\")\n",
    "        #print(\"yLm1\",yLm1.shape, \"nL-1 x n\")\n",
    "\n",
    "        # estimating dJ_db from dJ_dz\n",
    "        # J_db : nL x 1\n",
    "        # dJ_dz : nL x n\n",
    "        dJ_db = np.dot(dJ_dz, np.ones((n,1)))\n",
    "\n",
    "        #print(\"dJ_db\",dJ_db.shape, \"nL x 1\")\n",
    "        #print(\"dJ_dz\",dJ_dz.shape, \"nL x n\")\n",
    "\n",
    "        ## backpropagating the gradient from layer L to layer L-1\n",
    "        ## WL : nL x nL-1\n",
    "        ## dJ_dz : nL x n\n",
    "        ## dJ_dy (L-1) : nL-1 x n\n",
    "        dJ_dy = np.dot(WL.T, dJ_dz)\n",
    "\n",
    "        #print(\"WL\",WL.shape, \"nL x nL-1\")\n",
    "        #print(\"dJ_dz\",dJ_dz.shape, \"nL x n\")\n",
    "        #print(\"dJ_dy\",dJ_dy.shape, \"nL-1 x n\")\n",
    "        #print(\"dJ_dW\",dJ_dW.shape, \"nL x nL-1\")\n",
    "        #print(\"bL\",bL.shape, \"nL x 1\",\"avant\")\n",
    "        ## Updating the parameters\n",
    "        #print(type(np.multiply(dJ_db,lr)))\n",
    "\n",
    "        WL = WL - np.multiply(dJ_dW,lr)\n",
    "        bL = bL - np.multiply(dJ_db,lr).T\n",
    "        #print(\"WL\",WL.shape, \"nL x nL-1\")\n",
    "        #print(\"bL\",bL.shape, \"nL x 1\",\"apres\")\n",
    "        Wts[iL] = WL\n",
    "        bias[iL] = bL\n",
    "    return Wts, bias"
   ]
  },
  {
   "cell_type": "markdown",
   "id": "f8c3927e-e855-4dda-9272-c4453f22c6a9",
   "metadata": {},
   "source": [
    "<strong>Task 10:</strong> Complete the initialization of parameters (exactly the same as in part 1)."
   ]
  },
  {
   "cell_type": "code",
   "execution_count": 51,
   "id": "4d082f3a-ec71-4502-95af-6e52d8c4412a",
   "metadata": {},
   "outputs": [
    {
     "name": "stdout",
     "output_type": "stream",
     "text": [
      "Number of neurons per layer:  [6, 1]\n",
      "Number of neurons from the previous layer:  [8, 6]\n"
     ]
    }
   ],
   "source": [
    "## NL is the number of layers including the hidden layers AND the output layer\n",
    "NL = 2\n",
    "## NpL defines the number of neurones per each layer. The length of NpL should be exactly equal to NL\n",
    "NpL = [6,1]\n",
    "## Add the number of features x\n",
    "Nfx = 8\n",
    "## ActivFun defines the activation functions per each layer\n",
    "#ActivFun = ['logistic', 'relu']\n",
    "ActivFun = ['relu', 'relu']\n",
    "\n",
    "## List of size of layers -1: important for automatic definition of parameters\n",
    "NpLm1 = [Nfx]\n",
    "for iL in np.arange(len(NpL)-1):\n",
    "    NpLm1.append(NpL[iL])\n",
    "print(\"Number of neurons per layer: \", NpL)\n",
    "print(\"Number of neurons from the previous layer: \", NpLm1)\n",
    "\n",
    "## Learning rate\n",
    "lr = 0.001\n",
    "\n",
    "## Number of epochs\n",
    "epochs = 50\n",
    "\n",
    "## List of weights and biases\n",
    "Wts = []\n",
    "bias = []\n",
    "for iL in np.arange(len(NpL)):\n",
    "    ## random initialization\n",
    "    WL = (np.random.rand(NpL[iL], NpLm1[iL])-0.5)*2\n",
    "    bL = (np.random.rand(NpL[iL])-0.5)*2\n",
    "    ## appending\n",
    "    Wts.append(WL)\n",
    "    bias.append(bL)\n"
   ]
  },
  {
   "cell_type": "markdown",
   "id": "1e75e783-8bbc-4fdd-85ca-45edd9a9e8e0",
   "metadata": {},
   "source": [
    "<strong>Task 11:</strong> Complete the following lines in order to keep track of (1) epochs, (2) training error (MSE), and (3) test error."
   ]
  },
  {
   "cell_type": "code",
   "execution_count": 31,
   "id": "91a36fc6-aeec-4a24-8318-48283781d217",
   "metadata": {},
   "outputs": [
    {
     "name": "stdout",
     "output_type": "stream",
     "text": [
      "Learning rate:  0.001   Number of epochs:  50\n",
      "iL 1\n",
      "iL 0\n",
      "Epoch: 00001/00050 Training error: 0.0  Test error: 0.08iL 1\n",
      "iL 0\n",
      "Epoch: 00002/00050 Training error: 0.0  Test error: 0.08iL 1\n",
      "iL 0\n",
      "Epoch: 00003/00050 Training error: 0.0  Test error: 0.08iL 1\n",
      "iL 0\n",
      "Epoch: 00004/00050 Training error: 0.0  Test error: 0.08iL 1\n",
      "iL 0\n",
      "Epoch: 00005/00050 Training error: nan  Test error: naniL 1\n",
      "iL 0\n"
     ]
    },
    {
     "name": "stderr",
     "output_type": "stream",
     "text": [
      "C:\\Users\\grego\\AppData\\Local\\Temp\\ipykernel_10392\\3066921389.py:44: RuntimeWarning: overflow encountered in multiply\n",
      "  dJ_dz = dJ_dy * sigma(zL, mode = \"d\")\n"
     ]
    },
    {
     "name": "stdout",
     "output_type": "stream",
     "text": [
      "Epoch: 00006/00050 Training error: nan  Test error: naniL 1\n",
      "iL 0\n",
      "Epoch: 00007/00050 Training error: nan  Test error: naniL 1\n",
      "iL 0\n",
      "Epoch: 00008/00050 Training error: nan  Test error: naniL 1\n",
      "iL 0\n",
      "Epoch: 00009/00050 Training error: nan  Test error: naniL 1\n",
      "iL 0\n",
      "Epoch: 00010/00050 Training error: nan  Test error: naniL 1\n",
      "iL 0\n",
      "Epoch: 00011/00050 Training error: nan  Test error: naniL 1\n",
      "iL 0\n",
      "Epoch: 00012/00050 Training error: nan  Test error: naniL 1\n",
      "iL 0\n",
      "Epoch: 00013/00050 Training error: nan  Test error: naniL 1\n",
      "iL 0\n",
      "Epoch: 00014/00050 Training error: nan  Test error: naniL 1\n",
      "iL 0\n",
      "Epoch: 00015/00050 Training error: nan  Test error: naniL 1\n",
      "iL 0\n",
      "Epoch: 00016/00050 Training error: nan  Test error: naniL 1\n",
      "iL 0\n",
      "Epoch: 00017/00050 Training error: nan  Test error: naniL 1\n",
      "iL 0\n",
      "Epoch: 00018/00050 Training error: nan  Test error: naniL 1\n",
      "iL 0\n",
      "Epoch: 00019/00050 Training error: nan  Test error: naniL 1\n",
      "iL 0\n",
      "Epoch: 00020/00050 Training error: nan  Test error: naniL 1\n",
      "iL 0\n",
      "Epoch: 00021/00050 Training error: nan  Test error: naniL 1\n",
      "iL 0\n",
      "Epoch: 00022/00050 Training error: nan  Test error: naniL 1\n",
      "iL 0\n",
      "Epoch: 00023/00050 Training error: nan  Test error: naniL 1\n",
      "iL 0\n",
      "Epoch: 00024/00050 Training error: nan  Test error: naniL 1\n",
      "iL 0\n",
      "Epoch: 00025/00050 Training error: nan  Test error: naniL 1\n",
      "iL 0\n",
      "Epoch: 00026/00050 Training error: nan  Test error: naniL 1\n",
      "iL 0\n",
      "Epoch: 00027/00050 Training error: nan  Test error: naniL 1\n",
      "iL 0\n",
      "Epoch: 00028/00050 Training error: nan  Test error: naniL 1\n",
      "iL 0\n",
      "Epoch: 00029/00050 Training error: nan  Test error: naniL 1\n",
      "iL 0\n",
      "Epoch: 00030/00050 Training error: nan  Test error: naniL 1\n",
      "iL 0\n",
      "Epoch: 00031/00050 Training error: nan  Test error: naniL 1\n",
      "iL 0\n",
      "Epoch: 00032/00050 Training error: nan  Test error: naniL 1\n",
      "iL 0\n",
      "Epoch: 00033/00050 Training error: nan  Test error: naniL 1\n",
      "iL 0\n",
      "Epoch: 00034/00050 Training error: nan  Test error: naniL 1\n",
      "iL 0\n",
      "Epoch: 00035/00050 Training error: nan  Test error: naniL 1\n",
      "iL 0\n",
      "Epoch: 00036/00050 Training error: nan  Test error: naniL 1\n",
      "iL 0\n",
      "Epoch: 00037/00050 Training error: nan  Test error: naniL 1\n",
      "iL 0\n",
      "Epoch: 00038/00050 Training error: nan  Test error: naniL 1\n",
      "iL 0\n",
      "Epoch: 00039/00050 Training error: nan  Test error: naniL 1\n",
      "iL 0\n",
      "Epoch: 00040/00050 Training error: nan  Test error: naniL 1\n",
      "iL 0\n",
      "Epoch: 00041/00050 Training error: nan  Test error: naniL 1\n",
      "iL 0\n",
      "Epoch: 00042/00050 Training error: nan  Test error: naniL 1\n",
      "iL 0\n",
      "Epoch: 00043/00050 Training error: nan  Test error: naniL 1\n",
      "iL 0\n",
      "Epoch: 00044/00050 Training error: nan  Test error: naniL 1\n",
      "iL 0\n",
      "Epoch: 00045/00050 Training error: nan  Test error: naniL 1\n",
      "iL 0\n",
      "Epoch: 00046/00050 Training error: nan  Test error: naniL 1\n",
      "iL 0\n",
      "Epoch: 00047/00050 Training error: nan  Test error: naniL 1\n",
      "iL 0\n",
      "Epoch: 00048/00050 Training error: nan  Test error: naniL 1\n",
      "iL 0\n",
      "Epoch: 00049/00050 Training error: nan  Test error: naniL 1\n",
      "iL 0\n",
      "Epoch: 00050/00050 Training error: nan  Test error: nan"
     ]
    }
   ],
   "source": [
    "print(\"Learning rate: \", lr, \"  Number of epochs: \", epochs)\n",
    "MSEtrain = np.array([])\n",
    "MSEtest = np.array([])\n",
    "epoch = np.array([])\n",
    "sys.stdout.write('\\r')\n",
    "for iepoch in np.arange(epochs):\n",
    "    epoch = np.append(epoch, iepoch)\n",
    "    ## train the neural network\n",
    "    x_in = xtrain_scl.T \n",
    "    Wts, bias = ANN_backpro(x = x_in, ytrue = ytrain, NpL = NpL, Nfx = Nfx, Wts = Wts, bias = bias, ActivFun = ActivFun, lr = lr)\n",
    "\n",
    "    #print(\"Wts[0]\", Wts[0].shape)\n",
    "    #print(\"Wts[1]\", Wts[1].shape)\n",
    "\n",
    "    ## estimate the MSE for the train dataset\n",
    "    x_in = xtrain_scl.T\n",
    "    #print(\"x_in\",x_in.shape)\n",
    "    yout, zout = ANN(x = x_in, NpL = NpL, Nfx = Nfx, Wts = Wts, bias = bias, ActivFun = ActivFun)\n",
    "    ytrainsim = yout\n",
    "    #print(yout)\n",
    "    ntrain = ytrain.shape[0]\n",
    "    #print(\"ytrainsim\",len(ytrainsim))\n",
    "    #print(\"ytrain\",ytrain.shape)\n",
    "    Error_train = np.dot((ytrain - ytrainsim[-1]).T,(ytrain - ytrainsim[-1]))/ntrain\n",
    "    \n",
    "    ## estimate the MSE for the test dataset\n",
    "    x_in = xtest_scl.T\n",
    "    yout, zout = ANN(x = x_in, NpL = NpL, Nfx = Nfx, Wts = Wts, bias = bias, ActivFun = ActivFun)\n",
    "    ytestsim = yout\n",
    "    ntest = ytest.shape[0]\n",
    "    Error_test = np.dot((ytest - ytestsim[-1]).T,(ytest - ytestsim[-1]))/ntest\n",
    "    \n",
    "    ## keeping track of the errors\n",
    "    MSEtrain = np.append(MSEtrain, Error_train[0,0])\n",
    "    MSEtest = np.append(MSEtest, Error_test[0,0]) \n",
    "    \n",
    "    ## print the evolution\n",
    "    sys.stdout.write('\\r' \"Epoch: \" + str(int(iepoch + 1)).rjust(5,'0') + \"/\"\n",
    "                    + str(int(epochs)).rjust(5,'0') + \" \" +\n",
    "                    \"Training error: \" + str(round(Error_train[0,0],2)) + \n",
    "                    \"  Test error: \" + str(round(Error_test[0,0],2)))"
   ]
  },
  {
   "cell_type": "markdown",
   "id": "29ab8eb3-e3ca-4573-9041-347e5ab30ce1",
   "metadata": {},
   "source": [
    "Now, we can see the evolution of the training and test errors across the epochs. Note that only the RMSE (in years) is plotted."
   ]
  },
  {
   "cell_type": "code",
   "execution_count": 28,
   "id": "a917284a-2611-425a-93f6-44e6a4609b8f",
   "metadata": {},
   "outputs": [
    {
     "data": {
      "image/png": "[encoded data removed]",
      "text/plain": [
       "<Figure size 1000x500 with 1 Axes>"
      ]
     },
     "metadata": {},
     "output_type": "display_data"
    }
   ],
   "source": [
    "## initialization of the plot\n",
    "plt.grid(color='black', axis='y', linestyle='-', linewidth=0.5)    \n",
    "plt.grid(color='black', axis='x', linestyle='-', linewidth=0.5)   \n",
    "plt.grid(which='minor',color='grey', axis='x', linestyle=':', linewidth=0.5)     \n",
    "plt.grid(which='minor',color='grey', axis='y', linestyle=':', linewidth=0.5)    \n",
    "plt.xticks(fontsize=16); plt.yticks(fontsize=16)   \n",
    "plt.xlabel('epoch',fontsize=16 )\n",
    "plt.ylabel(r'$RMSE_{train}$ (yr), $RMSE_{test}$ (yr)', size = 16)\n",
    "## plotting the data\n",
    "plt.plot(epoch, MSEtrain**0.5, color = \"blue\", linewidth = 2., label = \"Training error\")\n",
    "plt.plot(epoch, MSEtest**0.5, color = \"orange\", linewidth = 2., label = \"Test error\")\n",
    "plt.title(\"Prediction error\", fontsize = 16)\n",
    "plt.gcf().set_size_inches(10, 5)\n",
    "plt.legend(loc=\"upper right\", prop={'size': 15})\n",
    "plt.savefig(\"fig01.png\", dpi = 300,  bbox_inches='tight')\n",
    "plt.show()"
   ]
  },
  {
   "cell_type": "markdown",
   "id": "3acbd929-abc0-45f4-bc9b-a37a9959e4c5",
   "metadata": {},
   "source": [
    "<strong>Task 12:</strong> Complete the code to compute the outputs on the test dataset using the optimized parameters."
   ]
  },
  {
   "cell_type": "code",
   "execution_count": 29,
   "id": "62ddcb1a-64d8-4921-aadd-92a9de3edf89",
   "metadata": {},
   "outputs": [
    {
     "ename": "ValueError",
     "evalue": "setting an array element with a sequence. The requested array has an inhomogeneous shape after 1 dimensions. The detected shape was (2,) + inhomogeneous part.",
     "output_type": "error",
     "traceback": [
      "\u001b[1;31m---------------------------------------------------------------------------\u001b[0m",
      "\u001b[1;31mValueError\u001b[0m                                Traceback (most recent call last)",
      "Cell \u001b[1;32mIn[29], line 16\u001b[0m\n\u001b[0;32m     14\u001b[0m plt\u001b[38;5;241m.\u001b[39mylabel(\u001b[38;5;124mr\u001b[39m\u001b[38;5;124m'\u001b[39m\u001b[38;5;124m$Age_\u001b[39m\u001b[38;5;132;01m{sim}\u001b[39;00m\u001b[38;5;124m$ (yr)\u001b[39m\u001b[38;5;124m'\u001b[39m,fontsize\u001b[38;5;241m=\u001b[39m\u001b[38;5;241m16\u001b[39m )\n\u001b[0;32m     15\u001b[0m \u001b[38;5;66;03m## plotting the data\u001b[39;00m\n\u001b[1;32m---> 16\u001b[0m \u001b[43mplt\u001b[49m\u001b[38;5;241;43m.\u001b[39;49m\u001b[43mscatter\u001b[49m\u001b[43m(\u001b[49m\u001b[43mytest\u001b[49m\u001b[43m,\u001b[49m\u001b[43m \u001b[49m\u001b[43mytestsim\u001b[49m\u001b[43m,\u001b[49m\u001b[43m \u001b[49m\u001b[43mcolor\u001b[49m\u001b[43m \u001b[49m\u001b[38;5;241;43m=\u001b[39;49m\u001b[43m \u001b[49m\u001b[38;5;124;43m\"\u001b[39;49m\u001b[38;5;124;43mred\u001b[39;49m\u001b[38;5;124;43m\"\u001b[39;49m\u001b[43m,\u001b[49m\u001b[43m \u001b[49m\u001b[43mmarker\u001b[49m\u001b[43m \u001b[49m\u001b[38;5;241;43m=\u001b[39;49m\u001b[43m \u001b[49m\u001b[38;5;124;43m\"\u001b[39;49m\u001b[38;5;124;43mo\u001b[39;49m\u001b[38;5;124;43m\"\u001b[39;49m\u001b[43m)\u001b[49m\n\u001b[0;32m     17\u001b[0m plt\u001b[38;5;241m.\u001b[39mplot([\u001b[38;5;241m0.\u001b[39m, \u001b[38;5;241m30.\u001b[39m], [\u001b[38;5;241m0.\u001b[39m, \u001b[38;5;241m30.\u001b[39m], color\u001b[38;5;241m=\u001b[39m\u001b[38;5;124m'\u001b[39m\u001b[38;5;124mk\u001b[39m\u001b[38;5;124m'\u001b[39m, linestyle\u001b[38;5;241m=\u001b[39m\u001b[38;5;124m'\u001b[39m\u001b[38;5;124m-\u001b[39m\u001b[38;5;124m'\u001b[39m, linewidth\u001b[38;5;241m=\u001b[39m\u001b[38;5;241m2\u001b[39m)\n\u001b[0;32m     18\u001b[0m plt\u001b[38;5;241m.\u001b[39mgcf()\u001b[38;5;241m.\u001b[39mset_size_inches(\u001b[38;5;241m6\u001b[39m, \u001b[38;5;241m6\u001b[39m)\n",
      "File \u001b[1;32m~\\Documents\\ENSEEIHT\\BigData\\tp_ann\\lib\\site-packages\\matplotlib\\pyplot.py:2798\u001b[0m, in \u001b[0;36mscatter\u001b[1;34m(x, y, s, c, marker, cmap, norm, vmin, vmax, alpha, linewidths, edgecolors, plotnonfinite, data, **kwargs)\u001b[0m\n\u001b[0;32m   2793\u001b[0m \u001b[38;5;129m@_copy_docstring_and_deprecators\u001b[39m(Axes\u001b[38;5;241m.\u001b[39mscatter)\n\u001b[0;32m   2794\u001b[0m \u001b[38;5;28;01mdef\u001b[39;00m \u001b[38;5;21mscatter\u001b[39m(\n\u001b[0;32m   2795\u001b[0m         x, y, s\u001b[38;5;241m=\u001b[39m\u001b[38;5;28;01mNone\u001b[39;00m, c\u001b[38;5;241m=\u001b[39m\u001b[38;5;28;01mNone\u001b[39;00m, marker\u001b[38;5;241m=\u001b[39m\u001b[38;5;28;01mNone\u001b[39;00m, cmap\u001b[38;5;241m=\u001b[39m\u001b[38;5;28;01mNone\u001b[39;00m, norm\u001b[38;5;241m=\u001b[39m\u001b[38;5;28;01mNone\u001b[39;00m,\n\u001b[0;32m   2796\u001b[0m         vmin\u001b[38;5;241m=\u001b[39m\u001b[38;5;28;01mNone\u001b[39;00m, vmax\u001b[38;5;241m=\u001b[39m\u001b[38;5;28;01mNone\u001b[39;00m, alpha\u001b[38;5;241m=\u001b[39m\u001b[38;5;28;01mNone\u001b[39;00m, linewidths\u001b[38;5;241m=\u001b[39m\u001b[38;5;28;01mNone\u001b[39;00m, \u001b[38;5;241m*\u001b[39m,\n\u001b[0;32m   2797\u001b[0m         edgecolors\u001b[38;5;241m=\u001b[39m\u001b[38;5;28;01mNone\u001b[39;00m, plotnonfinite\u001b[38;5;241m=\u001b[39m\u001b[38;5;28;01mFalse\u001b[39;00m, data\u001b[38;5;241m=\u001b[39m\u001b[38;5;28;01mNone\u001b[39;00m, \u001b[38;5;241m*\u001b[39m\u001b[38;5;241m*\u001b[39mkwargs):\n\u001b[1;32m-> 2798\u001b[0m     __ret \u001b[38;5;241m=\u001b[39m gca()\u001b[38;5;241m.\u001b[39mscatter(\n\u001b[0;32m   2799\u001b[0m         x, y, s\u001b[38;5;241m=\u001b[39ms, c\u001b[38;5;241m=\u001b[39mc, marker\u001b[38;5;241m=\u001b[39mmarker, cmap\u001b[38;5;241m=\u001b[39mcmap, norm\u001b[38;5;241m=\u001b[39mnorm,\n\u001b[0;32m   2800\u001b[0m         vmin\u001b[38;5;241m=\u001b[39mvmin, vmax\u001b[38;5;241m=\u001b[39mvmax, alpha\u001b[38;5;241m=\u001b[39malpha, linewidths\u001b[38;5;241m=\u001b[39mlinewidths,\n\u001b[0;32m   2801\u001b[0m         edgecolors\u001b[38;5;241m=\u001b[39medgecolors, plotnonfinite\u001b[38;5;241m=\u001b[39mplotnonfinite,\n\u001b[0;32m   2802\u001b[0m         \u001b[38;5;241m*\u001b[39m\u001b[38;5;241m*\u001b[39m({\u001b[38;5;124m\"\u001b[39m\u001b[38;5;124mdata\u001b[39m\u001b[38;5;124m\"\u001b[39m: data} \u001b[38;5;28;01mif\u001b[39;00m data \u001b[38;5;129;01mis\u001b[39;00m \u001b[38;5;129;01mnot\u001b[39;00m \u001b[38;5;28;01mNone\u001b[39;00m \u001b[38;5;28;01melse\u001b[39;00m {}), \u001b[38;5;241m*\u001b[39m\u001b[38;5;241m*\u001b[39mkwargs)\n\u001b[0;32m   2803\u001b[0m     sci(__ret)\n\u001b[0;32m   2804\u001b[0m     \u001b[38;5;28;01mreturn\u001b[39;00m __ret\n",
      "File \u001b[1;32m~\\Documents\\ENSEEIHT\\BigData\\tp_ann\\lib\\site-packages\\matplotlib\\__init__.py:1433\u001b[0m, in \u001b[0;36m_preprocess_data.<locals>.inner\u001b[1;34m(ax, data, *args, **kwargs)\u001b[0m\n\u001b[0;32m   1430\u001b[0m \u001b[38;5;129m@functools\u001b[39m\u001b[38;5;241m.\u001b[39mwraps(func)\n\u001b[0;32m   1431\u001b[0m \u001b[38;5;28;01mdef\u001b[39;00m \u001b[38;5;21minner\u001b[39m(ax, \u001b[38;5;241m*\u001b[39margs, data\u001b[38;5;241m=\u001b[39m\u001b[38;5;28;01mNone\u001b[39;00m, \u001b[38;5;241m*\u001b[39m\u001b[38;5;241m*\u001b[39mkwargs):\n\u001b[0;32m   1432\u001b[0m     \u001b[38;5;28;01mif\u001b[39;00m data \u001b[38;5;129;01mis\u001b[39;00m \u001b[38;5;28;01mNone\u001b[39;00m:\n\u001b[1;32m-> 1433\u001b[0m         \u001b[38;5;28;01mreturn\u001b[39;00m func(ax, \u001b[38;5;241m*\u001b[39m\u001b[38;5;28mmap\u001b[39m(sanitize_sequence, args), \u001b[38;5;241m*\u001b[39m\u001b[38;5;241m*\u001b[39mkwargs)\n\u001b[0;32m   1435\u001b[0m     bound \u001b[38;5;241m=\u001b[39m new_sig\u001b[38;5;241m.\u001b[39mbind(ax, \u001b[38;5;241m*\u001b[39margs, \u001b[38;5;241m*\u001b[39m\u001b[38;5;241m*\u001b[39mkwargs)\n\u001b[0;32m   1436\u001b[0m     auto_label \u001b[38;5;241m=\u001b[39m (bound\u001b[38;5;241m.\u001b[39marguments\u001b[38;5;241m.\u001b[39mget(label_namer)\n\u001b[0;32m   1437\u001b[0m                   \u001b[38;5;129;01mor\u001b[39;00m bound\u001b[38;5;241m.\u001b[39mkwargs\u001b[38;5;241m.\u001b[39mget(label_namer))\n",
      "File \u001b[1;32m~\\Documents\\ENSEEIHT\\BigData\\tp_ann\\lib\\site-packages\\matplotlib\\axes\\_axes.py:4524\u001b[0m, in \u001b[0;36mAxes.scatter\u001b[1;34m(self, x, y, s, c, marker, cmap, norm, vmin, vmax, alpha, linewidths, edgecolors, plotnonfinite, **kwargs)\u001b[0m\n\u001b[0;32m   4521\u001b[0m \u001b[38;5;66;03m# np.ma.ravel yields an ndarray, not a masked array,\u001b[39;00m\n\u001b[0;32m   4522\u001b[0m \u001b[38;5;66;03m# unless its argument is a masked array.\u001b[39;00m\n\u001b[0;32m   4523\u001b[0m x \u001b[38;5;241m=\u001b[39m np\u001b[38;5;241m.\u001b[39mma\u001b[38;5;241m.\u001b[39mravel(x)\n\u001b[1;32m-> 4524\u001b[0m y \u001b[38;5;241m=\u001b[39m \u001b[43mnp\u001b[49m\u001b[38;5;241;43m.\u001b[39;49m\u001b[43mma\u001b[49m\u001b[38;5;241;43m.\u001b[39;49m\u001b[43mravel\u001b[49m\u001b[43m(\u001b[49m\u001b[43my\u001b[49m\u001b[43m)\u001b[49m\n\u001b[0;32m   4525\u001b[0m \u001b[38;5;28;01mif\u001b[39;00m x\u001b[38;5;241m.\u001b[39msize \u001b[38;5;241m!=\u001b[39m y\u001b[38;5;241m.\u001b[39msize:\n\u001b[0;32m   4526\u001b[0m     \u001b[38;5;28;01mraise\u001b[39;00m \u001b[38;5;167;01mValueError\u001b[39;00m(\u001b[38;5;124m\"\u001b[39m\u001b[38;5;124mx and y must be the same size\u001b[39m\u001b[38;5;124m\"\u001b[39m)\n",
      "File \u001b[1;32m~\\Documents\\ENSEEIHT\\BigData\\tp_ann\\lib\\site-packages\\numpy\\ma\\core.py:6840\u001b[0m, in \u001b[0;36m_frommethod.__call__\u001b[1;34m(self, a, *args, **params)\u001b[0m\n\u001b[0;32m   6837\u001b[0m     args \u001b[38;5;241m=\u001b[39m \u001b[38;5;28mlist\u001b[39m(args)\n\u001b[0;32m   6838\u001b[0m     a, args[\u001b[38;5;241m0\u001b[39m] \u001b[38;5;241m=\u001b[39m args[\u001b[38;5;241m0\u001b[39m], a\n\u001b[1;32m-> 6840\u001b[0m marr \u001b[38;5;241m=\u001b[39m \u001b[43masanyarray\u001b[49m\u001b[43m(\u001b[49m\u001b[43ma\u001b[49m\u001b[43m)\u001b[49m\n\u001b[0;32m   6841\u001b[0m method_name \u001b[38;5;241m=\u001b[39m \u001b[38;5;28mself\u001b[39m\u001b[38;5;241m.\u001b[39m\u001b[38;5;18m__name__\u001b[39m\n\u001b[0;32m   6842\u001b[0m method \u001b[38;5;241m=\u001b[39m \u001b[38;5;28mgetattr\u001b[39m(\u001b[38;5;28mtype\u001b[39m(marr), method_name, \u001b[38;5;28;01mNone\u001b[39;00m)\n",
      "File \u001b[1;32m~\\Documents\\ENSEEIHT\\BigData\\tp_ann\\lib\\site-packages\\numpy\\ma\\core.py:8120\u001b[0m, in \u001b[0;36masanyarray\u001b[1;34m(a, dtype)\u001b[0m\n\u001b[0;32m   8118\u001b[0m \u001b[38;5;28;01mif\u001b[39;00m \u001b[38;5;28misinstance\u001b[39m(a, MaskedArray) \u001b[38;5;129;01mand\u001b[39;00m (dtype \u001b[38;5;129;01mis\u001b[39;00m \u001b[38;5;28;01mNone\u001b[39;00m \u001b[38;5;129;01mor\u001b[39;00m dtype \u001b[38;5;241m==\u001b[39m a\u001b[38;5;241m.\u001b[39mdtype):\n\u001b[0;32m   8119\u001b[0m     \u001b[38;5;28;01mreturn\u001b[39;00m a\n\u001b[1;32m-> 8120\u001b[0m \u001b[38;5;28;01mreturn\u001b[39;00m \u001b[43mmasked_array\u001b[49m\u001b[43m(\u001b[49m\u001b[43ma\u001b[49m\u001b[43m,\u001b[49m\u001b[43m \u001b[49m\u001b[43mdtype\u001b[49m\u001b[38;5;241;43m=\u001b[39;49m\u001b[43mdtype\u001b[49m\u001b[43m,\u001b[49m\u001b[43m \u001b[49m\u001b[43mcopy\u001b[49m\u001b[38;5;241;43m=\u001b[39;49m\u001b[38;5;28;43;01mFalse\u001b[39;49;00m\u001b[43m,\u001b[49m\u001b[43m \u001b[49m\u001b[43mkeep_mask\u001b[49m\u001b[38;5;241;43m=\u001b[39;49m\u001b[38;5;28;43;01mTrue\u001b[39;49;00m\u001b[43m,\u001b[49m\u001b[43m \u001b[49m\u001b[43msubok\u001b[49m\u001b[38;5;241;43m=\u001b[39;49m\u001b[38;5;28;43;01mTrue\u001b[39;49;00m\u001b[43m)\u001b[49m\n",
      "File \u001b[1;32m~\\Documents\\ENSEEIHT\\BigData\\tp_ann\\lib\\site-packages\\numpy\\ma\\core.py:2820\u001b[0m, in \u001b[0;36mMaskedArray.__new__\u001b[1;34m(cls, data, mask, dtype, copy, subok, ndmin, fill_value, keep_mask, hard_mask, shrink, order)\u001b[0m\n\u001b[0;32m   2811\u001b[0m \u001b[38;5;250m\u001b[39m\u001b[38;5;124;03m\"\"\"\u001b[39;00m\n\u001b[0;32m   2812\u001b[0m \u001b[38;5;124;03mCreate a new masked array from scratch.\u001b[39;00m\n\u001b[0;32m   2813\u001b[0m \n\u001b[1;32m   (...)\u001b[0m\n\u001b[0;32m   2817\u001b[0m \n\u001b[0;32m   2818\u001b[0m \u001b[38;5;124;03m\"\"\"\u001b[39;00m\n\u001b[0;32m   2819\u001b[0m \u001b[38;5;66;03m# Process data.\u001b[39;00m\n\u001b[1;32m-> 2820\u001b[0m _data \u001b[38;5;241m=\u001b[39m \u001b[43mnp\u001b[49m\u001b[38;5;241;43m.\u001b[39;49m\u001b[43marray\u001b[49m\u001b[43m(\u001b[49m\u001b[43mdata\u001b[49m\u001b[43m,\u001b[49m\u001b[43m \u001b[49m\u001b[43mdtype\u001b[49m\u001b[38;5;241;43m=\u001b[39;49m\u001b[43mdtype\u001b[49m\u001b[43m,\u001b[49m\u001b[43m \u001b[49m\u001b[43mcopy\u001b[49m\u001b[38;5;241;43m=\u001b[39;49m\u001b[43mcopy\u001b[49m\u001b[43m,\u001b[49m\n\u001b[0;32m   2821\u001b[0m \u001b[43m                 \u001b[49m\u001b[43morder\u001b[49m\u001b[38;5;241;43m=\u001b[39;49m\u001b[43morder\u001b[49m\u001b[43m,\u001b[49m\u001b[43m \u001b[49m\u001b[43msubok\u001b[49m\u001b[38;5;241;43m=\u001b[39;49m\u001b[38;5;28;43;01mTrue\u001b[39;49;00m\u001b[43m,\u001b[49m\u001b[43m \u001b[49m\u001b[43mndmin\u001b[49m\u001b[38;5;241;43m=\u001b[39;49m\u001b[43mndmin\u001b[49m\u001b[43m)\u001b[49m\n\u001b[0;32m   2822\u001b[0m _baseclass \u001b[38;5;241m=\u001b[39m \u001b[38;5;28mgetattr\u001b[39m(data, \u001b[38;5;124m'\u001b[39m\u001b[38;5;124m_baseclass\u001b[39m\u001b[38;5;124m'\u001b[39m, \u001b[38;5;28mtype\u001b[39m(_data))\n\u001b[0;32m   2823\u001b[0m \u001b[38;5;66;03m# Check that we're not erasing the mask.\u001b[39;00m\n",
      "\u001b[1;31mValueError\u001b[0m: setting an array element with a sequence. The requested array has an inhomogeneous shape after 1 dimensions. The detected shape was (2,) + inhomogeneous part."
     ]
    },
    {
     "data": {
      "image/png": "[encoded data removed]",
      "text/plain": [
       "<Figure size 640x480 with 1 Axes>"
      ]
     },
     "metadata": {},
     "output_type": "display_data"
    }
   ],
   "source": [
    "## Showing the results for the test dataset\n",
    "x_in = xtest_scl.T\n",
    "yout, zout = ANN(x = x_in, NpL = NpL, Nfx = Nfx, Wts = Wts, bias = bias, ActivFun = ActivFun)\n",
    "ytestsim = yout\n",
    "Error_test = np.dot((ytest - ytestsim[0]).T,(ytest - ytestsim[0]))/ntest\n",
    "## Making a scatter plot\n",
    "## initialization of the plot\n",
    "plt.grid(color='black', axis='y', linestyle='-', linewidth=0.5)    \n",
    "plt.grid(color='black', axis='x', linestyle='-', linewidth=0.5)   \n",
    "plt.grid(which='minor',color='grey', axis='x', linestyle=':', linewidth=0.5)     \n",
    "plt.grid(which='minor',color='grey', axis='y', linestyle=':', linewidth=0.5)    \n",
    "plt.xticks(fontsize=16); plt.yticks(fontsize=16)   \n",
    "plt.xlabel(r'$Age_{obs}$ (yr)',fontsize=16 )\n",
    "plt.ylabel(r'$Age_{sim}$ (yr)',fontsize=16 )\n",
    "## plotting the data\n",
    "plt.scatter(ytest, ytestsim, color = \"red\", marker = \"o\")\n",
    "plt.plot([0., 30.], [0., 30.], color='k', linestyle='-', linewidth=2)\n",
    "plt.gcf().set_size_inches(6, 6)\n",
    "plt.savefig(\"fig02.png\", dpi = 300,  bbox_inches='tight')\n",
    "plt.show()"
   ]
  },
  {
   "cell_type": "markdown",
   "id": "fcf23d2a-355f-4269-9007-e059cfe4a7d1",
   "metadata": {},
   "source": [
    "## <strong>Part 3: Make your life easier with Keras</strong>"
   ]
  },
  {
   "cell_type": "markdown",
   "id": "c6fac845-9b3c-46a7-b3d1-cebf25f94e0a",
   "metadata": {},
   "source": [
    "In this part, an implementation of a DNN using functions from Keras is shown."
   ]
  },
  {
   "cell_type": "markdown",
   "id": "8ff88e48-d89c-410b-b456-50399d21c3b5",
   "metadata": {},
   "source": [
    "### Step 1: Build the ANN architecture using Keras"
   ]
  },
  {
   "cell_type": "markdown",
   "id": "7759ba1c-824b-4b79-9246-39f3cf54ec70",
   "metadata": {},
   "source": [
    "<strong>Task 13:</strong> Modify the following function to implement the same ANN as the one implemented in Part 2."
   ]
  },
  {
   "cell_type": "code",
   "execution_count": 34,
   "id": "d365ca70-94e2-4806-8636-ae1aba182817",
   "metadata": {},
   "outputs": [],
   "source": [
    "def ANN_keras(shape):\n",
    "  \n",
    "  model = keras.models.Sequential()\n",
    "  model.add(keras.layers.Input(shape, name=\"InputLayer\"))\n",
    "  model.add(keras.layers.Dense(6, activation='sigmoid', name='HiddenLayer01'))\n",
    "  model.add(keras.layers.Dense(1, activation='sigmoid', name='HiddenLayer02'))\n",
    "  model.add(keras.layers.Dense(1, name='Output'))\n",
    "  \n",
    "  model.compile(optimizer = 'adam',\n",
    "                loss      = 'mse',\n",
    "                metrics   = ['mae', 'mse'] )\n",
    "  return model"
   ]
  },
  {
   "cell_type": "markdown",
   "id": "dd13627a-f857-49fd-bd4e-2e658d475628",
   "metadata": {},
   "source": [
    "The following lines help create and instantiate an ANN using the function ```ANN_keras```.\n",
    "\n",
    "<strong>Task 14:</strong> Use ```Nfx``` to create a \"copy\" of the ANN defined using ```ANN_keras```."
   ]
  },
  {
   "cell_type": "code",
   "execution_count": 35,
   "id": "9b572375-3211-406c-830e-66b6ed49c0a7",
   "metadata": {},
   "outputs": [
    {
     "name": "stdout",
     "output_type": "stream",
     "text": [
      "Model: \"sequential_1\"\n",
      "_________________________________________________________________\n",
      " Layer (type)                Output Shape              Param #   \n",
      "=================================================================\n",
      " HiddenLayer01 (Dense)       (None, 6)                 54        \n",
      "                                                                 \n",
      " HiddenLayer02 (Dense)       (None, 1)                 7         \n",
      "                                                                 \n",
      " Output (Dense)              (None, 1)                 2         \n",
      "                                                                 \n",
      "=================================================================\n",
      "Total params: 63\n",
      "Trainable params: 63\n",
      "Non-trainable params: 0\n",
      "_________________________________________________________________\n"
     ]
    }
   ],
   "source": [
    "model= ANN_keras( (Nfx,) )\n",
    "model.summary()"
   ]
  },
  {
   "cell_type": "markdown",
   "id": "f279dd64-51f1-443e-be11-744617509b70",
   "metadata": {},
   "source": [
    "### Step 2: Train and evaluate the model"
   ]
  },
  {
   "cell_type": "markdown",
   "id": "8df30be7-f04e-45de-8ce4-80298793b713",
   "metadata": {},
   "source": [
    "Now, the model is ready for training. The following function launches the training of the ANN network."
   ]
  },
  {
   "cell_type": "code",
   "execution_count": 47,
   "id": "b0d22521-ceb5-4f33-94f9-21abf60d973b",
   "metadata": {},
   "outputs": [
    {
     "name": "stdout",
     "output_type": "stream",
     "text": [
      "Epoch 1/50\n",
      "366/366 [==============================] - 1s 3ms/step - loss: 77.0834 - mae: 8.1515 - mse: 77.0834 - val_loss: 68.4458 - val_mae: 7.6413 - val_mse: 68.4458\n",
      "Epoch 2/50\n",
      "366/366 [==============================] - 1s 2ms/step - loss: 62.5719 - mae: 7.2186 - mse: 62.5719 - val_loss: 57.1017 - val_mae: 6.8587 - val_mse: 57.1017\n",
      "Epoch 3/50\n",
      "366/366 [==============================] - 1s 2ms/step - loss: 52.5833 - mae: 6.4937 - mse: 52.5833 - val_loss: 48.1404 - val_mae: 6.1726 - val_mse: 48.1404\n",
      "Epoch 4/50\n",
      "366/366 [==============================] - 1s 2ms/step - loss: 44.4216 - mae: 5.8397 - mse: 44.4216 - val_loss: 40.6406 - val_mae: 5.5409 - val_mse: 40.6406\n",
      "Epoch 5/50\n",
      "366/366 [==============================] - 1s 2ms/step - loss: 37.5541 - mae: 5.2397 - mse: 37.5541 - val_loss: 34.3131 - val_mae: 4.9497 - val_mse: 34.3131\n",
      "Epoch 6/50\n",
      "366/366 [==============================] - 1s 2ms/step - loss: 31.7560 - mae: 4.6932 - mse: 31.7560 - val_loss: 28.9862 - val_mae: 4.4229 - val_mse: 28.9862\n",
      "Epoch 7/50\n",
      "366/366 [==============================] - 1s 2ms/step - loss: 26.8962 - mae: 4.1847 - mse: 26.8962 - val_loss: 24.5492 - val_mae: 3.9427 - val_mse: 24.5492\n",
      "Epoch 8/50\n",
      "366/366 [==============================] - 1s 2ms/step - loss: 22.8806 - mae: 3.7482 - mse: 22.8806 - val_loss: 20.9065 - val_mae: 3.5398 - val_mse: 20.9065\n",
      "Epoch 9/50\n",
      "366/366 [==============================] - 1s 2ms/step - loss: 19.6056 - mae: 3.3596 - mse: 19.6056 - val_loss: 17.9475 - val_mae: 3.1862 - val_mse: 17.9475\n",
      "Epoch 10/50\n",
      "366/366 [==============================] - 1s 2ms/step - loss: 16.9854 - mae: 3.0582 - mse: 16.9854 - val_loss: 15.6165 - val_mae: 2.9149 - val_mse: 15.6165\n",
      "Epoch 11/50\n",
      "366/366 [==============================] - 1s 2ms/step - loss: 14.9589 - mae: 2.7971 - mse: 14.9589 - val_loss: 13.8407 - val_mae: 2.6727 - val_mse: 13.8407\n",
      "Epoch 12/50\n",
      "366/366 [==============================] - 1s 2ms/step - loss: 13.4331 - mae: 2.6131 - mse: 13.4331 - val_loss: 12.5245 - val_mae: 2.5568 - val_mse: 12.5245\n",
      "Epoch 13/50\n",
      "366/366 [==============================] - 1s 2ms/step - loss: 12.3238 - mae: 2.4953 - mse: 12.3238 - val_loss: 11.5913 - val_mae: 2.4531 - val_mse: 11.5913\n",
      "Epoch 14/50\n",
      "366/366 [==============================] - 1s 2ms/step - loss: 11.5627 - mae: 2.3886 - mse: 11.5627 - val_loss: 10.9670 - val_mae: 2.3736 - val_mse: 10.9670\n",
      "Epoch 15/50\n",
      "366/366 [==============================] - 1s 2ms/step - loss: 11.0789 - mae: 2.3524 - mse: 11.0789 - val_loss: 10.5811 - val_mae: 2.3694 - val_mse: 10.5811\n",
      "Epoch 16/50\n",
      "366/366 [==============================] - 1s 2ms/step - loss: 10.7920 - mae: 2.3583 - mse: 10.7920 - val_loss: 10.3619 - val_mae: 2.3659 - val_mse: 10.3619\n",
      "Epoch 17/50\n",
      "366/366 [==============================] - 1s 2ms/step - loss: 10.6281 - mae: 2.3567 - mse: 10.6281 - val_loss: 10.2358 - val_mae: 2.3628 - val_mse: 10.2358\n",
      "Epoch 18/50\n",
      "366/366 [==============================] - 1s 2ms/step - loss: 10.5374 - mae: 2.3569 - mse: 10.5374 - val_loss: 10.1648 - val_mae: 2.3591 - val_mse: 10.1648\n",
      "Epoch 19/50\n",
      "366/366 [==============================] - 1s 2ms/step - loss: 10.4620 - mae: 2.3525 - mse: 10.4620 - val_loss: 10.0481 - val_mae: 2.3447 - val_mse: 10.0481\n",
      "Epoch 20/50\n",
      "366/366 [==============================] - 1s 2ms/step - loss: 9.9871 - mae: 2.2673 - mse: 9.9871 - val_loss: 9.0415 - val_mae: 2.1544 - val_mse: 9.0415\n",
      "Epoch 21/50\n",
      "366/366 [==============================] - 1s 2ms/step - loss: 8.8071 - mae: 2.0491 - mse: 8.8071 - val_loss: 8.0087 - val_mae: 1.9660 - val_mse: 8.0087\n",
      "Epoch 22/50\n",
      "366/366 [==============================] - 1s 2ms/step - loss: 8.0395 - mae: 1.9417 - mse: 8.0395 - val_loss: 7.4169 - val_mae: 1.9017 - val_mse: 7.4169\n",
      "Epoch 23/50\n",
      "366/366 [==============================] - 1s 2ms/step - loss: 7.6102 - mae: 1.9106 - mse: 7.6102 - val_loss: 7.0772 - val_mae: 1.8610 - val_mse: 7.0772\n",
      "Epoch 24/50\n",
      "366/366 [==============================] - 1s 2ms/step - loss: 7.3688 - mae: 1.8893 - mse: 7.3688 - val_loss: 6.8755 - val_mae: 1.8536 - val_mse: 6.8755\n",
      "Epoch 25/50\n",
      "366/366 [==============================] - 1s 2ms/step - loss: 7.2268 - mae: 1.8821 - mse: 7.2268 - val_loss: 6.7564 - val_mae: 1.8363 - val_mse: 6.7564\n",
      "Epoch 26/50\n",
      "366/366 [==============================] - 1s 2ms/step - loss: 7.1365 - mae: 1.8790 - mse: 7.1365 - val_loss: 6.6750 - val_mae: 1.8547 - val_mse: 6.6750\n",
      "Epoch 27/50\n",
      "366/366 [==============================] - 1s 2ms/step - loss: 7.0758 - mae: 1.8949 - mse: 7.0758 - val_loss: 6.6290 - val_mae: 1.8386 - val_mse: 6.6290\n",
      "Epoch 28/50\n",
      "366/366 [==============================] - 1s 2ms/step - loss: 7.0343 - mae: 1.8972 - mse: 7.0343 - val_loss: 6.5933 - val_mae: 1.8387 - val_mse: 6.5933\n",
      "Epoch 29/50\n",
      "366/366 [==============================] - 1s 2ms/step - loss: 7.0034 - mae: 1.8926 - mse: 7.0034 - val_loss: 6.5561 - val_mae: 1.8482 - val_mse: 6.5561\n",
      "Epoch 30/50\n",
      "366/366 [==============================] - 1s 2ms/step - loss: 6.9725 - mae: 1.8955 - mse: 6.9725 - val_loss: 6.5240 - val_mae: 1.8579 - val_mse: 6.5240\n",
      "Epoch 31/50\n",
      "366/366 [==============================] - 1s 2ms/step - loss: 6.9435 - mae: 1.8962 - mse: 6.9435 - val_loss: 6.5004 - val_mae: 1.8523 - val_mse: 6.5004\n",
      "Epoch 32/50\n",
      "366/366 [==============================] - 1s 2ms/step - loss: 6.9190 - mae: 1.8945 - mse: 6.9190 - val_loss: 6.4727 - val_mae: 1.8559 - val_mse: 6.4727\n",
      "Epoch 33/50\n",
      "366/366 [==============================] - 1s 2ms/step - loss: 6.8877 - mae: 1.8887 - mse: 6.8877 - val_loss: 6.4516 - val_mae: 1.8745 - val_mse: 6.4516\n",
      "Epoch 34/50\n",
      "366/366 [==============================] - 1s 2ms/step - loss: 6.8647 - mae: 1.8944 - mse: 6.8647 - val_loss: 6.4339 - val_mae: 1.8421 - val_mse: 6.4339\n",
      "Epoch 35/50\n",
      "366/366 [==============================] - 1s 2ms/step - loss: 6.8389 - mae: 1.8855 - mse: 6.8389 - val_loss: 6.4050 - val_mae: 1.8473 - val_mse: 6.4050\n",
      "Epoch 36/50\n",
      "366/366 [==============================] - 1s 2ms/step - loss: 6.8120 - mae: 1.8819 - mse: 6.8120 - val_loss: 6.3872 - val_mae: 1.8333 - val_mse: 6.3872\n",
      "Epoch 37/50\n",
      "366/366 [==============================] - 1s 2ms/step - loss: 6.7824 - mae: 1.8778 - mse: 6.7824 - val_loss: 6.3635 - val_mae: 1.8268 - val_mse: 6.3635\n",
      "Epoch 38/50\n",
      "366/366 [==============================] - 1s 2ms/step - loss: 6.7509 - mae: 1.8700 - mse: 6.7509 - val_loss: 6.3330 - val_mae: 1.8275 - val_mse: 6.3330\n",
      "Epoch 39/50\n",
      "366/366 [==============================] - 1s 2ms/step - loss: 6.7171 - mae: 1.8612 - mse: 6.7171 - val_loss: 6.3015 - val_mae: 1.8227 - val_mse: 6.3015\n",
      "Epoch 40/50\n",
      "366/366 [==============================] - 1s 2ms/step - loss: 6.6861 - mae: 1.8610 - mse: 6.6861 - val_loss: 6.2703 - val_mae: 1.8189 - val_mse: 6.2703\n",
      "Epoch 41/50\n",
      "366/366 [==============================] - 1s 2ms/step - loss: 6.6496 - mae: 1.8544 - mse: 6.6496 - val_loss: 6.2408 - val_mae: 1.8069 - val_mse: 6.2408\n",
      "Epoch 42/50\n",
      "366/366 [==============================] - 1s 2ms/step - loss: 6.6147 - mae: 1.8446 - mse: 6.6147 - val_loss: 6.2021 - val_mae: 1.8091 - val_mse: 6.2021\n",
      "Epoch 43/50\n",
      "366/366 [==============================] - 1s 2ms/step - loss: 6.5685 - mae: 1.8372 - mse: 6.5685 - val_loss: 6.1645 - val_mae: 1.8131 - val_mse: 6.1645\n",
      "Epoch 44/50\n",
      "366/366 [==============================] - 1s 2ms/step - loss: 6.5351 - mae: 1.8354 - mse: 6.5351 - val_loss: 6.1323 - val_mae: 1.7944 - val_mse: 6.1323\n",
      "Epoch 45/50\n",
      "366/366 [==============================] - 1s 2ms/step - loss: 6.4868 - mae: 1.8256 - mse: 6.4868 - val_loss: 6.0978 - val_mae: 1.7882 - val_mse: 6.0978\n",
      "Epoch 46/50\n",
      "366/366 [==============================] - 1s 2ms/step - loss: 6.4385 - mae: 1.8136 - mse: 6.4385 - val_loss: 6.0428 - val_mae: 1.8057 - val_mse: 6.0428\n",
      "Epoch 47/50\n",
      "366/366 [==============================] - 1s 2ms/step - loss: 6.3940 - mae: 1.8142 - mse: 6.3940 - val_loss: 6.0012 - val_mae: 1.7778 - val_mse: 6.0012\n",
      "Epoch 48/50\n",
      "366/366 [==============================] - 1s 2ms/step - loss: 6.3367 - mae: 1.7979 - mse: 6.3367 - val_loss: 5.9539 - val_mae: 1.7899 - val_mse: 5.9539\n",
      "Epoch 49/50\n",
      "366/366 [==============================] - 1s 2ms/step - loss: 6.2877 - mae: 1.8003 - mse: 6.2877 - val_loss: 5.9214 - val_mae: 1.7432 - val_mse: 5.9214\n",
      "Epoch 50/50\n",
      "366/366 [==============================] - 1s 2ms/step - loss: 6.2460 - mae: 1.7847 - mse: 6.2460 - val_loss: 5.8704 - val_mae: 1.7382 - val_mse: 5.8704\n"
     ]
    }
   ],
   "source": [
    "history = model.fit(xtrain,\n",
    "                    ytrain,\n",
    "                    epochs          = 50,\n",
    "                    batch_size      = xtrain.shape[1],\n",
    "                    validation_data = (xtest, ytest))"
   ]
  },
  {
   "cell_type": "markdown",
   "id": "552f2dab-fec3-4497-94a2-a1460c8f02dc",
   "metadata": {},
   "source": [
    "The test scores are computed using the optimized parameter set on the test dataset."
   ]
  },
  {
   "cell_type": "code",
   "execution_count": 48,
   "id": "dd647516-9782-44a6-831a-f3d1d220d3d6",
   "metadata": {},
   "outputs": [
    {
     "name": "stdout",
     "output_type": "stream",
     "text": [
      "test / loss      : 11.6285\n",
      "test / mae       : 2.7330\n",
      "test / mse       : 11.6285\n"
     ]
    }
   ],
   "source": [
    "score = model.evaluate(xtest_scl, ytest, verbose=0)\n",
    "\n",
    "print('test / loss      : {:5.4f}'.format(score[0]))\n",
    "print('test / mae       : {:5.4f}'.format(score[1]))\n",
    "print('test / mse       : {:5.4f}'.format(score[2]))"
   ]
  },
  {
   "cell_type": "markdown",
   "id": "d2bbe857-d3fd-48da-a9dc-a75e686f8b68",
   "metadata": {},
   "source": [
    "We can make a prediction with the Keras-built ANN and compare it with that from your own ANN."
   ]
  },
  {
   "cell_type": "code",
   "execution_count": 49,
   "id": "f17b3e22-cd95-4261-bd58-acef44622bc3",
   "metadata": {},
   "outputs": [
    {
     "name": "stdout",
     "output_type": "stream",
     "text": [
      "(1, 8)\n",
      "1/1 [==============================] - 0s 24ms/step\n",
      "predicted age using Keras-built network:  5.37 yr\n",
      "predicted age using your neural network:  nan yr\n"
     ]
    }
   ],
   "source": [
    "mydata = [ 1, 0.3, 0.1, 0.2, 0.2, 0.5, 0.7, -1. ]\n",
    "mydata = np.array(mydata).reshape(1,8)\n",
    "print(mydata.shape)\n",
    "predictions = model.predict(mydata)\n",
    "print(\"predicted age using Keras-built network: \", round(predictions[0,0],2), \"yr\")\n",
    "yout, zout = ANN(x = mydata.T, NpL = NpL, Nfx = Nfx, Wts = Wts, bias = bias, ActivFun = ActivFun)\n",
    "print(\"predicted age using your neural network: \", round(yout[NL-1][0,0], 2), \"yr\")"
   ]
  },
  {
   "cell_type": "markdown",
   "id": "6e237b49-85bd-475d-b536-3cfc4f1f67b0",
   "metadata": {},
   "source": [
    "Finally, we can use parameters estimated by Keras and your neural network to test whether you get the same estimates."
   ]
  },
  {
   "cell_type": "code",
   "execution_count": 58,
   "id": "4813e857-e6b8-4da4-92df-d8f406849736",
   "metadata": {},
   "outputs": [
    {
     "ename": "IndexError",
     "evalue": "list index out of range",
     "output_type": "error",
     "traceback": [
      "\u001b[1;31m---------------------------------------------------------------------------\u001b[0m",
      "\u001b[1;31mIndexError\u001b[0m                                Traceback (most recent call last)",
      "Cell \u001b[1;32mIn[58], line 8\u001b[0m\n\u001b[0;32m      6\u001b[0m NpL_Keras \u001b[38;5;241m=\u001b[39m [\u001b[38;5;241m16\u001b[39m,\u001b[38;5;241m32\u001b[39m,\u001b[38;5;241m16\u001b[39m,\u001b[38;5;241m1\u001b[39m]\n\u001b[0;32m      7\u001b[0m Nfx \u001b[38;5;241m=\u001b[39m \u001b[38;5;241m8\u001b[39m\n\u001b[1;32m----> 8\u001b[0m yout_k, zout_k \u001b[38;5;241m=\u001b[39m \u001b[43mANN\u001b[49m\u001b[43m(\u001b[49m\u001b[43mx\u001b[49m\u001b[43m \u001b[49m\u001b[38;5;241;43m=\u001b[39;49m\u001b[43m \u001b[49m\u001b[43mmydata\u001b[49m\u001b[38;5;241;43m.\u001b[39;49m\u001b[43mT\u001b[49m\u001b[43m,\u001b[49m\u001b[43m \u001b[49m\u001b[43mNpL\u001b[49m\u001b[43m \u001b[49m\u001b[38;5;241;43m=\u001b[39;49m\u001b[43m \u001b[49m\u001b[43mNpL_Keras\u001b[49m\u001b[43m,\u001b[49m\u001b[43m \u001b[49m\u001b[43mNfx\u001b[49m\u001b[43m \u001b[49m\u001b[38;5;241;43m=\u001b[39;49m\u001b[43m \u001b[49m\u001b[43mNfx\u001b[49m\u001b[43m,\u001b[49m\u001b[43m \u001b[49m\u001b[43mWts\u001b[49m\u001b[43m \u001b[49m\u001b[38;5;241;43m=\u001b[39;49m\u001b[43m \u001b[49m\u001b[43mwts_keras\u001b[49m\u001b[43m,\u001b[49m\u001b[43m \u001b[49m\u001b[43mbias\u001b[49m\u001b[43m \u001b[49m\u001b[38;5;241;43m=\u001b[39;49m\u001b[43m \u001b[49m\u001b[43mbias_keras\u001b[49m\u001b[43m,\u001b[49m\u001b[43m \u001b[49m\u001b[43mActivFun\u001b[49m\u001b[43m \u001b[49m\u001b[38;5;241;43m=\u001b[39;49m\u001b[43m \u001b[49m\u001b[43mActivFun_Keras\u001b[49m\u001b[43m)\u001b[49m\n\u001b[0;32m      9\u001b[0m \u001b[38;5;28mprint\u001b[39m(\u001b[38;5;124m\"\u001b[39m\u001b[38;5;124mpredicted age using Keras-built network: \u001b[39m\u001b[38;5;124m\"\u001b[39m, \u001b[38;5;28mround\u001b[39m(predictions[\u001b[38;5;241m0\u001b[39m,\u001b[38;5;241m0\u001b[39m],\u001b[38;5;241m2\u001b[39m), \u001b[38;5;124m\"\u001b[39m\u001b[38;5;124myr\u001b[39m\u001b[38;5;124m\"\u001b[39m)\n\u001b[0;32m     10\u001b[0m \u001b[38;5;28mprint\u001b[39m(\u001b[38;5;124m\"\u001b[39m\u001b[38;5;124mpredicted age using your neural network and Keras-estimated parameters: \u001b[39m\u001b[38;5;124m\"\u001b[39m, \u001b[38;5;28mround\u001b[39m(yout_k[\u001b[38;5;28mlen\u001b[39m(NpL_Keras)\u001b[38;5;241m-\u001b[39m\u001b[38;5;241m1\u001b[39m][\u001b[38;5;241m0\u001b[39m,\u001b[38;5;241m0\u001b[39m], \u001b[38;5;241m2\u001b[39m), \u001b[38;5;124m\"\u001b[39m\u001b[38;5;124myr\u001b[39m\u001b[38;5;124m\"\u001b[39m)\n",
      "Cell \u001b[1;32mIn[14], line 32\u001b[0m, in \u001b[0;36mANN\u001b[1;34m(x, NpL, Nfx, Wts, bias, ActivFun)\u001b[0m\n\u001b[0;32m     29\u001b[0m y \u001b[38;5;241m=\u001b[39m []\n\u001b[0;32m     30\u001b[0m \u001b[38;5;28;01mfor\u001b[39;00m iL \u001b[38;5;129;01min\u001b[39;00m np\u001b[38;5;241m.\u001b[39marange(\u001b[38;5;28mlen\u001b[39m(NpL)):\n\u001b[0;32m     31\u001b[0m     \u001b[38;5;66;03m## parameters\u001b[39;00m\n\u001b[1;32m---> 32\u001b[0m     WL \u001b[38;5;241m=\u001b[39m \u001b[43mWts\u001b[49m\u001b[43m[\u001b[49m\u001b[43miL\u001b[49m\u001b[43m]\u001b[49m\n\u001b[0;32m     33\u001b[0m     bL \u001b[38;5;241m=\u001b[39m bias[iL]\n\u001b[0;32m     34\u001b[0m     \u001b[38;5;66;03m## multiplication\u001b[39;00m\n\u001b[0;32m     35\u001b[0m     \u001b[38;5;66;03m## make sure that the operation is correct for n individual points.\u001b[39;00m\n\u001b[0;32m     36\u001b[0m     \u001b[38;5;66;03m## the dimension of zL should be nL x n. Since bL is nL x 1, use np.tile to overcome this issue.\u001b[39;00m\n\u001b[0;32m     37\u001b[0m     \u001b[38;5;66;03m#print('WL shape:', WL.shape)\u001b[39;00m\n\u001b[0;32m     38\u001b[0m     \u001b[38;5;66;03m#print('yLm1 shape:', yLm1.shape)\u001b[39;00m\n\u001b[0;32m     39\u001b[0m     \u001b[38;5;66;03m#print('bL shape:', bL.shape)\u001b[39;00m\n",
      "\u001b[1;31mIndexError\u001b[0m: list index out of range"
     ]
    }
   ],
   "source": [
    "param_keras = model.get_weights()\n",
    "len_par = len(param_keras)\n",
    "wts_keras = [param_keras[i].T for i in np.arange(0, len_par, 2)]\n",
    "bias_keras = [param_keras[i].reshape(param_keras[i].shape[0], 1) for i in np.arange(1, len_par, 2)]\n",
    "ActivFun_Keras = ['relu', 'relu', 'relu', 'linear']\n",
    "NpL_Keras = [16,32,16,1]\n",
    "Nfx = 8\n",
    "yout_k, zout_k = ANN(x = mydata.T, NpL = NpL_Keras, Nfx = Nfx, Wts = wts_keras, bias = bias_keras, ActivFun = ActivFun_Keras)\n",
    "print(\"predicted age using Keras-built network: \", round(predictions[0,0],2), \"yr\")\n",
    "print(\"predicted age using your neural network and Keras-estimated parameters: \", round(yout_k[len(NpL_Keras)-1][0,0], 2), \"yr\")"
   ]
  },
  {
   "cell_type": "code",
   "execution_count": 60,
   "id": "474848b7-26c0-4fed-9b73-445ce75f6c9e",
   "metadata": {},
   "outputs": [
    {
     "name": "stdout",
     "output_type": "stream",
     "text": [
      "3\n",
      "4\n"
     ]
    }
   ],
   "source": [
    "print(len(wts_keras))\n",
    "#print(Wts[0])\n",
    "print(len(NpL_Keras))"
   ]
  },
  {
   "cell_type": "code",
   "execution_count": null,
   "id": "36247469-d846-4830-a6ea-ed55b915e7af",
   "metadata": {},
   "outputs": [],
   "source": []
  }
 ],
 "metadata": {
  "kernelspec": {
   "display_name": "Python 3 (ipykernel)",
   "language": "python",
   "name": "python3"
  },
  "language_info": {
   "codemirror_mode": {
    "name": "ipython",
    "version": 3
   },
   "file_extension": ".py",
   "mimetype": "text/x-python",
   "name": "python",
   "nbconvert_exporter": "python",
   "pygments_lexer": "ipython3",
   "version": "3.10.9"
  }
 },
 "nbformat": 4,
 "nbformat_minor": 5
}
