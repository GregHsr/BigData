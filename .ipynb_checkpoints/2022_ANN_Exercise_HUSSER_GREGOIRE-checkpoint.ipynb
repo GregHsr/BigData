{
 "cells": [
  {
   "cell_type": "markdown",
   "id": "dad1ce57-67fb-4b22-bc02-8bd8b7aad9eb",
   "metadata": {
    "tags": []
   },
   "source": [
    " # <strong> Introduction to artificial neural networks </strong>\n",
    " Spring 2023 - Toulouse INP/ENSEEIHT<br /> \n",
    " by Ruming PAN & Mohamed SAADI<br /> \n",
    " Last update: 20-01-2023<br /> \n",
    " \n",
    " This notebook contains three parts:<br />\n",
    " <ol>\n",
    "  <li><strong>Part 1: Building a neural network</strong>, in which a function ```ANN``` builds a DNN (dense neural network) knowing the number of layers (hidden + output), the number of neurons per layer, and given the parameters (weights and biases) for each layer. You are asked to implement an additional activation function (e.g., linear, ReLU) following the example given for the logistic function and test them in new ANN.</li>\n",
    "  <li><strong>Part 2: Training a neural network</strong>, where a set of data \"abalone_data.xlsx\" is given to train a DNN by back-propagating the gradient of a loss function with respect to the network parameters. You are required to do three things: (1) define the training and test datasets, (2) scale the features, and most importantly (3) complete the function ```ANN_backpro``` to successfully run the algorithm. </li>\n",
    "  <li><strong>Part 3: Make your life easier with Keras</strong>, where you are asked to implement a similar DNN using ```keras```, which is a high-level interface for ```TensorFlow```, a famous framework for deep machine learning. The objective here is to present one of the most used libraries in python-based machine learning eco-system. As you will notice, the implementation is very friendly and easy.</li>\n",
    "</ol> \n",
    " "
   ]
  },
  {
   "cell_type": "markdown",
   "id": "96d764ef-555f-4788-a195-a33fdd3767bf",
   "metadata": {
    "tags": []
   },
   "source": [
    "## <strong>Part 1: Building a neural network</strong>\n",
    " In this part, you are required to understand the structure of a neural network and build one given a number of layer ```NL``` and a list of number of neurons per layer ```NpL```."
   ]
  },
  {
   "cell_type": "markdown",
   "id": "6d8aae1b-d6d9-4cb8-97a9-c9fae30f3fe0",
   "metadata": {
    "tags": []
   },
   "source": [
    "### Step 1: Import libraries, define global functions and hyperparameters"
   ]
  },
  {
   "cell_type": "markdown",
   "id": "8b14d628-1419-4e93-9930-a70e5f6f87e3",
   "metadata": {},
   "source": [
    "<strong>Task 1:</strong> Based on the example provided for the logistic function, build new activation functions (tanh, ReLU, and linear) in order to use them later for the neural network."
   ]
  },
  {
   "cell_type": "code",
   "execution_count": 1,
   "id": "c3523df9-46de-4f00-95be-12eb6bf168d8",
   "metadata": {},
   "outputs": [],
   "source": [
    "import numpy as np\n",
    "import pandas as pd\n",
    "import matplotlib.pyplot as plt \n",
    "import sys\n",
    "import tensorflow as tf\n",
    "from tensorflow import keras\n",
    "\n",
    "## a function that takes a dataframe and returns some basic stastics of its columns\n",
    "def datasum(df):\n",
    "    dfmin = df.apply(np.min, 0)\n",
    "    dfmedian = df.apply(np.median, 0)\n",
    "    dfmean = df.apply(np.mean,0)\n",
    "    dfmax = df.apply(np.max, 0)\n",
    "    dfstd = df.apply(np.std, 0)\n",
    "    dfsummary = pd.DataFrame(np.array([dfmean, dfstd, dfmin, dfmedian, dfmax]), columns=list(df.columns[:]))\n",
    "    dfsummary[\"Statistic\"] = [\"mean\", \"std\", \"min\", \"median\", \"max\"]\n",
    "    xcol = dfsummary.shape[1]\n",
    "    colarr = [dfsummary.columns[xcol-1]]\n",
    "    for item in dfsummary.columns[0:(xcol-1)]:\n",
    "        colarr.append(item)\n",
    "    dfto = dfsummary[colarr]\n",
    "    return dfto\n",
    "\n",
    "## activation functions and their derivatives\n",
    "def logistic(x, mode = \"n\"):\n",
    "    '''\n",
    "    mode = \"n\" : returns f(x)\n",
    "    mode = \"d\": returns f'(x)\n",
    "    '''\n",
    "    t = np.exp(-x)\n",
    "    if mode == \"n\":\n",
    "        fx = 1/(1+t)\n",
    "    if mode == \"d\":\n",
    "        fx = t/(1+t)**2\n",
    "    return fx\n",
    "\n",
    "## define new functions here\n",
    "\n",
    "def tanh(x, mode = \"n\"):\n",
    "    '''\n",
    "    mode = \"n\" : returns f(x)\n",
    "    mode = \"d\": returns f'(x)\n",
    "    '''\n",
    "    p = np.exp(x)\n",
    "    n = np.exp(-x)\n",
    "    if mode == \"n\":\n",
    "        fx = p-n/(p+n)\n",
    "    if mode == \"d\":\n",
    "        fx = 1- (p-n/(p+n))**2\n",
    "    return fx\n",
    "\n",
    "def relu(x, mode = \"n\"):\n",
    "    '''\n",
    "    mode = \"n\" : returns f(x)\n",
    "    mode = \"d\": returns f'(x)\n",
    "    '''\n",
    "    if mode == \"n\":\n",
    "        fx = np.where(x < 0, 0, x)\n",
    "    if mode == \"d\":\n",
    "        fx = np.where(x < 0, 0, 1)\n",
    "    return fx\n",
    "\n",
    "def Linear(x, mode = \"n\"):\n",
    "    '''\n",
    "    mode = \"n\" : returns f(x)\n",
    "    mode = \"d\": returns f'(x)\n",
    "    '''\n",
    "    if mode == \"n\":\n",
    "        fx = x\n",
    "    if mode == \"d\":\n",
    "        fx = 1\n",
    "    return fx"
   ]
  },
  {
   "cell_type": "markdown",
   "id": "9756a2c4-d0aa-406c-83e5-7cb7612118f8",
   "metadata": {},
   "source": [
    "#### Hyperparameters: number of layers, size of each layer, and activation function per layer\n",
    "<strong>Indication:</strong> The hyperparameters ```NL```, ```NpL``` and ```Nfx``` are very important throughout the code. They define the number of layers, the number of neurons per each layer, and the number of input features. Always make sure that the size of ```NpL``` and ```ActivFun``` is equal to ```NL```."
   ]
  },
  {
   "cell_type": "code",
   "execution_count": 2,
   "id": "f9ad18c0-1f28-4b53-a7ed-d7afc91d3cc5",
   "metadata": {},
   "outputs": [
    {
     "name": "stdout",
     "output_type": "stream",
     "text": [
      "Number of neurons per layer:  [3, 1]\n",
      "Number of neurons from the previous layer:  [2, 3]\n"
     ]
    }
   ],
   "source": [
    "## NL is the number of layers including the hidden layers AND the output layer\n",
    "NL = 2\n",
    "## NpL defines the number of neurones per each layer. The length of NpL should be exactly equal to NL\n",
    "NpL = [3, 1]\n",
    "## ActivFun defines the activation functions per each layer\n",
    "ActivFun = ['logistic', 'logistic']\n",
    "\n",
    "## Add the number of features x\n",
    "Nfx = 2\n",
    "## List of size of layers -1: important for automatic definition of parameters\n",
    "NpLm1 = [Nfx]\n",
    "for iL in np.arange(len(NpL)-1):\n",
    "    NpLm1.append(NpL[iL])\n",
    "print(\"Number of neurons per layer: \", NpL)\n",
    "print(\"Number of neurons from the previous layer: \", NpLm1)"
   ]
  },
  {
   "cell_type": "markdown",
   "id": "5534c71d-16a5-4983-91ca-a17eaf93d704",
   "metadata": {},
   "source": [
    "#### Initialization of parameters\n",
    "<strong>Task 2:</strong> Initialize the parameters (weights and biases) using the function ```np.random.rand``` (https://numpy.org/doc/stable/reference/random/generated/numpy.random.rand.html). Convenient initial parameter values should be between -1 and 1."
   ]
  },
  {
   "cell_type": "code",
   "execution_count": 3,
   "id": "f87b7284-6901-4ebb-ad03-7a4f084b38ad",
   "metadata": {},
   "outputs": [
    {
     "name": "stdout",
     "output_type": "stream",
     "text": [
      "(3, 2)\n",
      "(3, 1)\n"
     ]
    }
   ],
   "source": [
    "## List of weights and biases\n",
    "Wts = []\n",
    "bias = []\n",
    "for iL in np.arange(len(NpL)):\n",
    "    ## random initialization\n",
    "    ## the initial parameters should be between -1 and 1\n",
    "    ## use the function np.random.rand to make random initializations (but these will be between 0 and 1)\n",
    "    WL = (np.random.rand(NpL[iL], NpLm1[iL])-0.5)*2\n",
    "    bL = (np.random.rand(NpL[iL], 1)-0.5)*2\n",
    "    ## appending\n",
    "    Wts.append(WL)\n",
    "    bias.append(bL)\n",
    "print(Wts[0].shape)\n",
    "print(bias[0].shape)"
   ]
  },
  {
   "cell_type": "markdown",
   "id": "b1489f56-3100-4d8d-b896-ec61e8fefd23",
   "metadata": {
    "tags": []
   },
   "source": [
    "### Step 2: Construct the neural network"
   ]
  },
  {
   "cell_type": "markdown",
   "id": "f2d8ca49-503a-42b0-aff5-8ac97870d7f3",
   "metadata": {},
   "source": [
    "<strong>Task 3:</strong> Complete this function with the equations for each layer to compute the vectors $z_{L}$ and their activation $y_{L} = \\sigma(z_{L})$. The function should return a list ```z``` and a list ```y``` that have ```NpL``` arrays each."
   ]
  },
  {
   "cell_type": "code",
   "execution_count": 4,
   "id": "394fa3c3-b925-4139-94bf-d8926b19a5ff",
   "metadata": {},
   "outputs": [],
   "source": [
    "def ANN(x, NpL, Nfx, Wts, bias, ActivFun):\n",
    "    '''\n",
    "    This function computes the output of a neural network containing NL layers\n",
    "    where NL is the length of NpL. \n",
    "    o NpL contains the number of neurons per each hidden layer + the output layer. \n",
    "    o Nfx is the number of input features.\n",
    "    o Wts is a list that contains the 2D arrays of weights for each layer.\n",
    "    Each 2D array of weights has dimensions nL x nL-1, nL being the number of neurons\n",
    "    of current layer L, and nL-1 the number of neurons (or features) of layer L-1.\n",
    "    o bias is a list of 1D arrays of weights for each layer.\n",
    "    Each 1D array has dimensions nL x 1. When there are many data points (or members), say\n",
    "    n data points, the bias should be repeated using the function np.tile.\n",
    "    o ActivFun contains the name of the activation function for each layer.\n",
    "    '''\n",
    "    #print('x shape:', x.shape)\n",
    "    #print('NpL:', NpL)\n",
    "    #print('Nfx:', Nfx)\n",
    "    #print('Wts:', len(Wts))\n",
    "\n",
    "    n = x.shape[1]\n",
    "    yLm1 = x\n",
    "\n",
    "    #print('n vaut:', n)\n",
    "    #print('NL vaut:', len(NpL))\n",
    "    \n",
    "    ## z is a list that saves the zL arrays for each hidden and output layer\n",
    "    z = []\n",
    "    ## similarly, y is a list that saves the yL arrays. Specifically, yL[NL-1] contains the output.\n",
    "    y = []\n",
    "    for iL in np.arange(len(NpL)):\n",
    "        ## parameters\n",
    "        WL = Wts[iL]\n",
    "        bL = bias[iL]\n",
    "        ## multiplication\n",
    "        ## make sure that the operation is correct for n individual points.\n",
    "        ## the dimension of zL should be nL x n. Since bL is nL x 1, use np.tile to overcome this issue.\n",
    "        #print('WL shape:', WL.shape)\n",
    "        #print('yLm1 shape:', yLm1.shape)\n",
    "        #print('bL shape:', bL.shape)\n",
    "        \n",
    "        zL = np.dot(WL, yLm1) + np.tile(bL,n)          ### simplifié\n",
    "        z.append(zL)\n",
    "\n",
    "        #print('zL shape:', zL.shape)\n",
    "        #print('bL shape:', bL.shape)\n",
    "        #print(\"n\",n)\n",
    "\n",
    "        ## activation\n",
    "        ## to call a function given its name, use the function fx = globals()[\"fun_name\"]\n",
    "        sigma = globals()[ActivFun[iL]]\n",
    "        yL = sigma(zL)\n",
    "        y.append(yL)\n",
    "        ## move to next layer\n",
    "        yLm1 = yL\n",
    "    return y,z"
   ]
  },
  {
   "cell_type": "markdown",
   "id": "71d5a04e-934c-4581-959a-80a248f88955",
   "metadata": {
    "tags": []
   },
   "source": [
    "### Step 3: Verify that the ANN works for a simple example"
   ]
  },
  {
   "cell_type": "code",
   "execution_count": 5,
   "id": "974c4cfb-ec16-4965-bb56-4c58f0ed574f",
   "metadata": {},
   "outputs": [
    {
     "name": "stdout",
     "output_type": "stream",
     "text": [
      "(4, 2)\n",
      "[[0 0]\n",
      " [0 1]\n",
      " [1 0]\n",
      " [1 1]]\n"
     ]
    }
   ],
   "source": [
    "## Input: 4 data points x 2 features (Nfx = 2)\n",
    "input_features = np.array([[0,0], \n",
    "                           [0,1], \n",
    "                           [1,0], \n",
    "                           [1,1]])\n",
    "print(input_features.shape)\n",
    "print(input_features)"
   ]
  },
  {
   "cell_type": "code",
   "execution_count": 6,
   "id": "114e5650-c1ab-45b5-964c-ae5fa86d1049",
   "metadata": {},
   "outputs": [
    {
     "name": "stdout",
     "output_type": "stream",
     "text": [
      "(4, 1)\n",
      "[[0]\n",
      " [1]\n",
      " [1]\n",
      " [1]]\n"
     ]
    }
   ],
   "source": [
    "# Output: 4 data points x 1 feature\n",
    "target_output = np.array([[0], [1], [1], [1]])\n",
    "print(target_output.shape)\n",
    "print(target_output)"
   ]
  },
  {
   "cell_type": "markdown",
   "id": "a3007438-db04-41c0-b8ff-f8979d623d60",
   "metadata": {
    "tags": []
   },
   "source": [
    "#### Generate outputs for the 4 individuals\n",
    "Run this cell to test your neural network. It should deliver an output ysim of shape (n,1), where n is the number of data points (NOT features)."
   ]
  },
  {
   "cell_type": "code",
   "execution_count": 7,
   "id": "1bd5b6d4-42df-4369-b1cb-7c810591382a",
   "metadata": {},
   "outputs": [
    {
     "name": "stdout",
     "output_type": "stream",
     "text": [
      "(4, 1)\n"
     ]
    }
   ],
   "source": [
    "## This where you can test your neural network\n",
    "x_in = input_features.T\n",
    "y,z = ANN(x = x_in, NpL = NpL, Nfx = Nfx, Wts = Wts, bias = bias, ActivFun = ActivFun)\n",
    "ysim = y[NL-1].T\n",
    "print(ysim.shape)"
   ]
  },
  {
   "cell_type": "markdown",
   "id": "970e5665-4ef6-4d0f-ac01-b433335d741b",
   "metadata": {},
   "source": [
    "#### Goodness of fit: MSE and RMSE\n",
    "<strong>Task 4:</strong> Complete the equation of MSE and RMSE to estimate the errors of the simulation output of the neural network. Use the matrix product to compute the MSE."
   ]
  },
  {
   "cell_type": "code",
   "execution_count": 8,
   "id": "566beb62-ba89-4d96-9296-0cdb112551d9",
   "metadata": {},
   "outputs": [
    {
     "name": "stdout",
     "output_type": "stream",
     "text": [
      "MSE =  [[0.19794152]]\n",
      "RMSE =  [[0.44490619]]\n"
     ]
    }
   ],
   "source": [
    "n = target_output.shape[0]\n",
    "MSE = np.dot((target_output - ysim).T,(target_output - ysim))/n\n",
    "print(\"MSE = \", MSE)\n",
    "\n",
    "RMSE = np.sqrt(MSE)\n",
    "print(\"RMSE = \", RMSE)"
   ]
  },
  {
   "cell_type": "markdown",
   "id": "1342e97d-0aa0-425d-a088-5d56c0e91205",
   "metadata": {},
   "source": [
    "## <strong>Part 2: Training a neural network</strong>\n",
    " In this part, a backpropagation algorithm is implemented to train the neural network."
   ]
  },
  {
   "cell_type": "markdown",
   "id": "b60de4bf-e0f8-43e4-b46e-c19178980f89",
   "metadata": {
    "tags": []
   },
   "source": [
    "### Step 1: Read the data, define the training and the test datasets"
   ]
  },
  {
   "cell_type": "markdown",
   "id": "81668774-7c27-4b55-bb2d-56c847cb8dec",
   "metadata": {
    "tags": []
   },
   "source": [
    "#### Reading the dataset\n",
    "Any machine learning task involves preparing/preprocessing the data to make it ready for digestion by the machine learning algorithm.\n",
    "\n",
    "At this stage, the data has a 2D shape (lines = individuals or data points, columns = features). The dimensions of the shape of the data help you define the structure of your neural network.\n",
    "\n",
    "The \"abalone_data.xlsx\" dataset that are used for this exercise can be downloaded from https://archive.ics.uci.edu/ml/machine-learning-databases/abalone/. They contain measurements of the following properties of 4177 members of marine snails (<em>haliotis</em>):\n",
    "<ol>\n",
    "  <li><em>Type</em>: male (1), immature (0), female (-1); </li>\n",
    "  <li><em>LongestShell_mm</em>: longest shell measurement in mm; </li>\n",
    "  <li><em>Diameter_mm</em>: length perpendicular to LongestShell in mm;</li>\n",
    "  <li><em>Height_mm</em>: height of the member with meat in shell in mm;</li>\n",
    "  <li><em>WholeWeight_g</em>: mass of the whole abalone in g;</li>\n",
    "  <li><em>ShuckedWeight_g</em>: weight of meat in the abalone in g;</li>  \n",
    "  <li><em>VisceraWeight_g</em>: gut weight of the abalone (after bleeding) in g;</li>\n",
    "  <li><em>ShellWeight_g</em>: weight of the abalone after being dried in g;</li>\n",
    "  <li><em>Age_yr</em>: age of the abalone in years.</li>\n",
    "</ol> \n",
    " \n",
    "The objective of the exercise is to succeed at predicting the age of the abalone knowing its gender, form, and weight."
   ]
  },
  {
   "cell_type": "markdown",
   "id": "b042e30d-1c19-4ec6-9a06-cf99eb3998b8",
   "metadata": {},
   "source": [
    "<strong>Task 5:</strong> Complete the first instruction ```pd.read_excel``` to read the dataset."
   ]
  },
  {
   "cell_type": "code",
   "execution_count": 9,
   "id": "0fa2512e-0bad-4597-99f8-f38ec666b99f",
   "metadata": {},
   "outputs": [
    {
     "data": {
      "text/html": [
       "<style type=\"text/css\">\n",
       "</style>\n",
       "<table id=\"T_ffed2\">\n",
       "  <caption>Few lines of the dataset :</caption>\n",
       "  <thead>\n",
       "    <tr>\n",
       "      <th class=\"blank level0\" >&nbsp;</th>\n",
       "      <th id=\"T_ffed2_level0_col0\" class=\"col_heading level0 col0\" >Type</th>\n",
       "      <th id=\"T_ffed2_level0_col1\" class=\"col_heading level0 col1\" >LongestShell_mm</th>\n",
       "      <th id=\"T_ffed2_level0_col2\" class=\"col_heading level0 col2\" >Diameter_mm</th>\n",
       "      <th id=\"T_ffed2_level0_col3\" class=\"col_heading level0 col3\" >Height_mm</th>\n",
       "      <th id=\"T_ffed2_level0_col4\" class=\"col_heading level0 col4\" >WholeWeight_g</th>\n",
       "      <th id=\"T_ffed2_level0_col5\" class=\"col_heading level0 col5\" >ShuckedWeight_g</th>\n",
       "      <th id=\"T_ffed2_level0_col6\" class=\"col_heading level0 col6\" >VisceraWeight_g</th>\n",
       "      <th id=\"T_ffed2_level0_col7\" class=\"col_heading level0 col7\" >ShellWeight_g</th>\n",
       "      <th id=\"T_ffed2_level0_col8\" class=\"col_heading level0 col8\" >Age_yr</th>\n",
       "    </tr>\n",
       "  </thead>\n",
       "  <tbody>\n",
       "    <tr>\n",
       "      <th id=\"T_ffed2_level0_row0\" class=\"row_heading level0 row0\" >0</th>\n",
       "      <td id=\"T_ffed2_row0_col0\" class=\"data row0 col0\" >1.00</td>\n",
       "      <td id=\"T_ffed2_row0_col1\" class=\"data row0 col1\" >0.46</td>\n",
       "      <td id=\"T_ffed2_row0_col2\" class=\"data row0 col2\" >0.36</td>\n",
       "      <td id=\"T_ffed2_row0_col3\" class=\"data row0 col3\" >0.10</td>\n",
       "      <td id=\"T_ffed2_row0_col4\" class=\"data row0 col4\" >0.51</td>\n",
       "      <td id=\"T_ffed2_row0_col5\" class=\"data row0 col5\" >0.22</td>\n",
       "      <td id=\"T_ffed2_row0_col6\" class=\"data row0 col6\" >0.10</td>\n",
       "      <td id=\"T_ffed2_row0_col7\" class=\"data row0 col7\" >0.15</td>\n",
       "      <td id=\"T_ffed2_row0_col8\" class=\"data row0 col8\" >15.00</td>\n",
       "    </tr>\n",
       "    <tr>\n",
       "      <th id=\"T_ffed2_level0_row1\" class=\"row_heading level0 row1\" >1</th>\n",
       "      <td id=\"T_ffed2_row1_col0\" class=\"data row1 col0\" >1.00</td>\n",
       "      <td id=\"T_ffed2_row1_col1\" class=\"data row1 col1\" >0.35</td>\n",
       "      <td id=\"T_ffed2_row1_col2\" class=\"data row1 col2\" >0.27</td>\n",
       "      <td id=\"T_ffed2_row1_col3\" class=\"data row1 col3\" >0.09</td>\n",
       "      <td id=\"T_ffed2_row1_col4\" class=\"data row1 col4\" >0.23</td>\n",
       "      <td id=\"T_ffed2_row1_col5\" class=\"data row1 col5\" >0.10</td>\n",
       "      <td id=\"T_ffed2_row1_col6\" class=\"data row1 col6\" >0.05</td>\n",
       "      <td id=\"T_ffed2_row1_col7\" class=\"data row1 col7\" >0.07</td>\n",
       "      <td id=\"T_ffed2_row1_col8\" class=\"data row1 col8\" >7.00</td>\n",
       "    </tr>\n",
       "    <tr>\n",
       "      <th id=\"T_ffed2_level0_row2\" class=\"row_heading level0 row2\" >2</th>\n",
       "      <td id=\"T_ffed2_row2_col0\" class=\"data row2 col0\" >-1.00</td>\n",
       "      <td id=\"T_ffed2_row2_col1\" class=\"data row2 col1\" >0.53</td>\n",
       "      <td id=\"T_ffed2_row2_col2\" class=\"data row2 col2\" >0.42</td>\n",
       "      <td id=\"T_ffed2_row2_col3\" class=\"data row2 col3\" >0.14</td>\n",
       "      <td id=\"T_ffed2_row2_col4\" class=\"data row2 col4\" >0.68</td>\n",
       "      <td id=\"T_ffed2_row2_col5\" class=\"data row2 col5\" >0.26</td>\n",
       "      <td id=\"T_ffed2_row2_col6\" class=\"data row2 col6\" >0.14</td>\n",
       "      <td id=\"T_ffed2_row2_col7\" class=\"data row2 col7\" >0.21</td>\n",
       "      <td id=\"T_ffed2_row2_col8\" class=\"data row2 col8\" >9.00</td>\n",
       "    </tr>\n",
       "    <tr>\n",
       "      <th id=\"T_ffed2_level0_row3\" class=\"row_heading level0 row3\" >3</th>\n",
       "      <td id=\"T_ffed2_row3_col0\" class=\"data row3 col0\" >1.00</td>\n",
       "      <td id=\"T_ffed2_row3_col1\" class=\"data row3 col1\" >0.44</td>\n",
       "      <td id=\"T_ffed2_row3_col2\" class=\"data row3 col2\" >0.36</td>\n",
       "      <td id=\"T_ffed2_row3_col3\" class=\"data row3 col3\" >0.12</td>\n",
       "      <td id=\"T_ffed2_row3_col4\" class=\"data row3 col4\" >0.52</td>\n",
       "      <td id=\"T_ffed2_row3_col5\" class=\"data row3 col5\" >0.22</td>\n",
       "      <td id=\"T_ffed2_row3_col6\" class=\"data row3 col6\" >0.11</td>\n",
       "      <td id=\"T_ffed2_row3_col7\" class=\"data row3 col7\" >0.15</td>\n",
       "      <td id=\"T_ffed2_row3_col8\" class=\"data row3 col8\" >10.00</td>\n",
       "    </tr>\n",
       "    <tr>\n",
       "      <th id=\"T_ffed2_level0_row4\" class=\"row_heading level0 row4\" >4</th>\n",
       "      <td id=\"T_ffed2_row4_col0\" class=\"data row4 col0\" >0.00</td>\n",
       "      <td id=\"T_ffed2_row4_col1\" class=\"data row4 col1\" >0.33</td>\n",
       "      <td id=\"T_ffed2_row4_col2\" class=\"data row4 col2\" >0.26</td>\n",
       "      <td id=\"T_ffed2_row4_col3\" class=\"data row4 col3\" >0.08</td>\n",
       "      <td id=\"T_ffed2_row4_col4\" class=\"data row4 col4\" >0.20</td>\n",
       "      <td id=\"T_ffed2_row4_col5\" class=\"data row4 col5\" >0.09</td>\n",
       "      <td id=\"T_ffed2_row4_col6\" class=\"data row4 col6\" >0.04</td>\n",
       "      <td id=\"T_ffed2_row4_col7\" class=\"data row4 col7\" >0.06</td>\n",
       "      <td id=\"T_ffed2_row4_col8\" class=\"data row4 col8\" >7.00</td>\n",
       "    </tr>\n",
       "  </tbody>\n",
       "</table>\n"
      ],
      "text/plain": [
       "<pandas.io.formats.style.Styler at 0x187df50c460>"
      ]
     },
     "metadata": {},
     "output_type": "display_data"
    },
    {
     "data": {
      "text/html": [
       "<style type=\"text/css\">\n",
       "</style>\n",
       "<table id=\"T_13ba3\">\n",
       "  <caption>Statistics of the dataset</caption>\n",
       "  <thead>\n",
       "    <tr>\n",
       "      <th id=\"T_13ba3_level0_col0\" class=\"col_heading level0 col0\" >Statistic</th>\n",
       "      <th id=\"T_13ba3_level0_col1\" class=\"col_heading level0 col1\" >Type</th>\n",
       "      <th id=\"T_13ba3_level0_col2\" class=\"col_heading level0 col2\" >LongestShell_mm</th>\n",
       "      <th id=\"T_13ba3_level0_col3\" class=\"col_heading level0 col3\" >Diameter_mm</th>\n",
       "      <th id=\"T_13ba3_level0_col4\" class=\"col_heading level0 col4\" >Height_mm</th>\n",
       "      <th id=\"T_13ba3_level0_col5\" class=\"col_heading level0 col5\" >WholeWeight_g</th>\n",
       "      <th id=\"T_13ba3_level0_col6\" class=\"col_heading level0 col6\" >ShuckedWeight_g</th>\n",
       "      <th id=\"T_13ba3_level0_col7\" class=\"col_heading level0 col7\" >VisceraWeight_g</th>\n",
       "      <th id=\"T_13ba3_level0_col8\" class=\"col_heading level0 col8\" >ShellWeight_g</th>\n",
       "      <th id=\"T_13ba3_level0_col9\" class=\"col_heading level0 col9\" >Age_yr</th>\n",
       "    </tr>\n",
       "  </thead>\n",
       "  <tbody>\n",
       "    <tr>\n",
       "      <td id=\"T_13ba3_row0_col0\" class=\"data row0 col0\" >mean</td>\n",
       "      <td id=\"T_13ba3_row0_col1\" class=\"data row0 col1\" >0.052909</td>\n",
       "      <td id=\"T_13ba3_row0_col2\" class=\"data row0 col2\" >0.523992</td>\n",
       "      <td id=\"T_13ba3_row0_col3\" class=\"data row0 col3\" >0.407881</td>\n",
       "      <td id=\"T_13ba3_row0_col4\" class=\"data row0 col4\" >0.139516</td>\n",
       "      <td id=\"T_13ba3_row0_col5\" class=\"data row0 col5\" >0.828742</td>\n",
       "      <td id=\"T_13ba3_row0_col6\" class=\"data row0 col6\" >0.359367</td>\n",
       "      <td id=\"T_13ba3_row0_col7\" class=\"data row0 col7\" >0.180594</td>\n",
       "      <td id=\"T_13ba3_row0_col8\" class=\"data row0 col8\" >0.238831</td>\n",
       "      <td id=\"T_13ba3_row0_col9\" class=\"data row0 col9\" >9.933684</td>\n",
       "    </tr>\n",
       "    <tr>\n",
       "      <td id=\"T_13ba3_row1_col0\" class=\"data row1 col0\" >std</td>\n",
       "      <td id=\"T_13ba3_row1_col1\" class=\"data row1 col1\" >0.822142</td>\n",
       "      <td id=\"T_13ba3_row1_col2\" class=\"data row1 col2\" >0.120079</td>\n",
       "      <td id=\"T_13ba3_row1_col3\" class=\"data row1 col3\" >0.099228</td>\n",
       "      <td id=\"T_13ba3_row1_col4\" class=\"data row1 col4\" >0.041822</td>\n",
       "      <td id=\"T_13ba3_row1_col5\" class=\"data row1 col5\" >0.490330</td>\n",
       "      <td id=\"T_13ba3_row1_col6\" class=\"data row1 col6\" >0.221936</td>\n",
       "      <td id=\"T_13ba3_row1_col7\" class=\"data row1 col7\" >0.109601</td>\n",
       "      <td id=\"T_13ba3_row1_col8\" class=\"data row1 col8\" >0.139186</td>\n",
       "      <td id=\"T_13ba3_row1_col9\" class=\"data row1 col9\" >3.223783</td>\n",
       "    </tr>\n",
       "    <tr>\n",
       "      <td id=\"T_13ba3_row2_col0\" class=\"data row2 col0\" >min</td>\n",
       "      <td id=\"T_13ba3_row2_col1\" class=\"data row2 col1\" >-1.000000</td>\n",
       "      <td id=\"T_13ba3_row2_col2\" class=\"data row2 col2\" >0.075000</td>\n",
       "      <td id=\"T_13ba3_row2_col3\" class=\"data row2 col3\" >0.055000</td>\n",
       "      <td id=\"T_13ba3_row2_col4\" class=\"data row2 col4\" >0.000000</td>\n",
       "      <td id=\"T_13ba3_row2_col5\" class=\"data row2 col5\" >0.002000</td>\n",
       "      <td id=\"T_13ba3_row2_col6\" class=\"data row2 col6\" >0.001000</td>\n",
       "      <td id=\"T_13ba3_row2_col7\" class=\"data row2 col7\" >0.000500</td>\n",
       "      <td id=\"T_13ba3_row2_col8\" class=\"data row2 col8\" >0.001500</td>\n",
       "      <td id=\"T_13ba3_row2_col9\" class=\"data row2 col9\" >1.000000</td>\n",
       "    </tr>\n",
       "    <tr>\n",
       "      <td id=\"T_13ba3_row3_col0\" class=\"data row3 col0\" >median</td>\n",
       "      <td id=\"T_13ba3_row3_col1\" class=\"data row3 col1\" >0.000000</td>\n",
       "      <td id=\"T_13ba3_row3_col2\" class=\"data row3 col2\" >0.545000</td>\n",
       "      <td id=\"T_13ba3_row3_col3\" class=\"data row3 col3\" >0.425000</td>\n",
       "      <td id=\"T_13ba3_row3_col4\" class=\"data row3 col4\" >0.140000</td>\n",
       "      <td id=\"T_13ba3_row3_col5\" class=\"data row3 col5\" >0.799500</td>\n",
       "      <td id=\"T_13ba3_row3_col6\" class=\"data row3 col6\" >0.336000</td>\n",
       "      <td id=\"T_13ba3_row3_col7\" class=\"data row3 col7\" >0.171000</td>\n",
       "      <td id=\"T_13ba3_row3_col8\" class=\"data row3 col8\" >0.234000</td>\n",
       "      <td id=\"T_13ba3_row3_col9\" class=\"data row3 col9\" >9.000000</td>\n",
       "    </tr>\n",
       "    <tr>\n",
       "      <td id=\"T_13ba3_row4_col0\" class=\"data row4 col0\" >max</td>\n",
       "      <td id=\"T_13ba3_row4_col1\" class=\"data row4 col1\" >1.000000</td>\n",
       "      <td id=\"T_13ba3_row4_col2\" class=\"data row4 col2\" >0.815000</td>\n",
       "      <td id=\"T_13ba3_row4_col3\" class=\"data row4 col3\" >0.650000</td>\n",
       "      <td id=\"T_13ba3_row4_col4\" class=\"data row4 col4\" >1.130000</td>\n",
       "      <td id=\"T_13ba3_row4_col5\" class=\"data row4 col5\" >2.825500</td>\n",
       "      <td id=\"T_13ba3_row4_col6\" class=\"data row4 col6\" >1.488000</td>\n",
       "      <td id=\"T_13ba3_row4_col7\" class=\"data row4 col7\" >0.760000</td>\n",
       "      <td id=\"T_13ba3_row4_col8\" class=\"data row4 col8\" >1.005000</td>\n",
       "      <td id=\"T_13ba3_row4_col9\" class=\"data row4 col9\" >29.000000</td>\n",
       "    </tr>\n",
       "  </tbody>\n",
       "</table>\n"
      ],
      "text/plain": [
       "<pandas.io.formats.style.Styler at 0x187df545a80>"
      ]
     },
     "metadata": {},
     "output_type": "display_data"
    }
   ],
   "source": [
    "df = pd.read_excel(\"abalone_data.xlsx\", sheet_name=\"Sheet1\")\n",
    "display(df.head(5).style.format(\"{0:.2f}\").set_caption(\"Few lines of the dataset :\"))\n",
    "dfsum = datasum(df)\n",
    "pd.options.display.float_format = '{:,.2f}'.format\n",
    "display(dfsum.style.hide(axis = \"index\").set_caption(\"Statistics of the dataset\"))"
   ]
  },
  {
   "cell_type": "markdown",
   "id": "aa151f77-adf9-44d7-abcf-dd0138ac06d9",
   "metadata": {},
   "source": [
    "#### Training and test datasets"
   ]
  },
  {
   "cell_type": "markdown",
   "id": "ad7b7b25-91fa-42b1-8199-668c2197ca6f",
   "metadata": {},
   "source": [
    "<strong>Task 6:</strong> After reading the dataset, complete the instructions using ```df.sample``` and ```df.drop``` to split the data into train and test datasets."
   ]
  },
  {
   "cell_type": "code",
   "execution_count": 10,
   "id": "870a38bc-be46-4b48-8b6d-99e0793f23e2",
   "metadata": {},
   "outputs": [
    {
     "name": "stdout",
     "output_type": "stream",
     "text": [
      "percTrain 0.7000239406272444\n",
      "percTest 0.29997605937275557\n"
     ]
    }
   ],
   "source": [
    "## percentage of data to be used for training\n",
    "percTrain = 0.7\n",
    "\n",
    "## index of training and test\n",
    "#trainindex = np.random.rand(len(df)) < percTrain\n",
    "dftrain = df.sample(frac = percTrain, axis = 0)\n",
    "dftest = df.drop(dftrain.index)\n",
    "\n",
    "print(\"percTrain\",len(dftrain)/len(df))\n",
    "print(\"percTest\",len(dftest)/len(df))"
   ]
  },
  {
   "cell_type": "markdown",
   "id": "f79be5dc-1211-4f43-a0d5-4c003f50cf03",
   "metadata": {},
   "source": [
    "#### Defining features and output variables"
   ]
  },
  {
   "cell_type": "markdown",
   "id": "85a21213-5d5a-48eb-9ccf-0c0b4702365f",
   "metadata": {},
   "source": [
    "<strong>Task 7:</strong> Complete the instructions to define the target/output/dependent variable (age of the abalone) and the attributes/input/independent variables (remaining variables). "
   ]
  },
  {
   "cell_type": "code",
   "execution_count": 11,
   "id": "a2686eaf-5431-45fe-9c35-a4423890b367",
   "metadata": {},
   "outputs": [
    {
     "name": "stdout",
     "output_type": "stream",
     "text": [
      "xtrain.head       Type  LongestShell_mm  Diameter_mm  Height_mm  WholeWeight_g  \\\n",
      "3531     0             0.36         0.28       0.09           0.23   \n",
      "643      1             0.33         0.26       0.10           0.19   \n",
      "2991     1             0.59         0.48       0.15           1.08   \n",
      "150      1             0.59         0.47       0.14           1.05   \n",
      "1347     0             0.59         0.45       0.14           0.77   \n",
      "\n",
      "      ShuckedWeight_g  VisceraWeight_g  ShellWeight_g  \n",
      "3531             0.11             0.05           0.06  \n",
      "643              0.07             0.04           0.06  \n",
      "2991             0.53             0.23           0.28  \n",
      "150              0.44             0.26           0.33  \n",
      "1347             0.33             0.17           0.23  \n",
      "Shape of original data :  (4177, 9)\n",
      "xtrain :  (2924, 8) ytrain :  (2924,)\n",
      "xtest  :  (1253, 8) ytest  :  (1253,)\n"
     ]
    }
   ],
   "source": [
    "ytrain = dftrain.Age_yr\n",
    "xtrain = dftrain.drop(\"Age_yr\", axis = 1)\n",
    "\n",
    "print(\"xtrain.head\" ,xtrain.head())\n",
    "\n",
    "ytest = dftest.Age_yr\n",
    "xtest = dftest.drop(\"Age_yr\", axis = 1)\n",
    " \n",
    "## printing some information\n",
    "print('Shape of original data : ', df.shape)\n",
    "print('xtrain : ',xtrain.shape, 'ytrain : ',ytrain.shape)\n",
    "print('xtest  : ',xtest.shape,  'ytest  : ',ytest.shape)"
   ]
  },
  {
   "cell_type": "markdown",
   "id": "0fe48c69-9b0f-425f-9bde-f197b6985645",
   "metadata": {},
   "source": [
    "#### Scaling the data"
   ]
  },
  {
   "cell_type": "markdown",
   "id": "bd11566c-b3bd-402f-a72e-9edac0bcb137",
   "metadata": {},
   "source": [
    "<strong>Task 8:</strong> Estimate the mean and standard deviation for each column/feature from the <ins>train</ins> dataset and use them to scale both the train and the test datasets."
   ]
  },
  {
   "cell_type": "code",
   "execution_count": 12,
   "id": "da817fc5-9145-4ce1-8e01-e681db1ee91c",
   "metadata": {},
   "outputs": [],
   "source": [
    "## estimate the mean and the standard deviation from the train dataset\n",
    "xmean = xtrain.mean()\n",
    "xstd = xtrain.std()\n",
    "## scaling\n",
    "xtrain_scl = (xtrain - xmean)/xstd\n",
    "xtest_scl = (xtest - xmean)/xstd "
   ]
  },
  {
   "cell_type": "code",
   "execution_count": 13,
   "id": "20de3846-0fc6-4bed-bc0b-e3f24db3398a",
   "metadata": {},
   "outputs": [
    {
     "data": {
      "text/html": [
       "<style type=\"text/css\">\n",
       "</style>\n",
       "<table id=\"T_58e51\">\n",
       "  <caption>Statistics of the dataset - before scaling</caption>\n",
       "  <thead>\n",
       "    <tr>\n",
       "      <th id=\"T_58e51_level0_col0\" class=\"col_heading level0 col0\" >Statistic</th>\n",
       "      <th id=\"T_58e51_level0_col1\" class=\"col_heading level0 col1\" >Type</th>\n",
       "      <th id=\"T_58e51_level0_col2\" class=\"col_heading level0 col2\" >LongestShell_mm</th>\n",
       "      <th id=\"T_58e51_level0_col3\" class=\"col_heading level0 col3\" >Diameter_mm</th>\n",
       "      <th id=\"T_58e51_level0_col4\" class=\"col_heading level0 col4\" >Height_mm</th>\n",
       "      <th id=\"T_58e51_level0_col5\" class=\"col_heading level0 col5\" >WholeWeight_g</th>\n",
       "      <th id=\"T_58e51_level0_col6\" class=\"col_heading level0 col6\" >ShuckedWeight_g</th>\n",
       "      <th id=\"T_58e51_level0_col7\" class=\"col_heading level0 col7\" >VisceraWeight_g</th>\n",
       "      <th id=\"T_58e51_level0_col8\" class=\"col_heading level0 col8\" >ShellWeight_g</th>\n",
       "    </tr>\n",
       "  </thead>\n",
       "  <tbody>\n",
       "    <tr>\n",
       "      <td id=\"T_58e51_row0_col0\" class=\"data row0 col0\" >mean</td>\n",
       "      <td id=\"T_58e51_row0_col1\" class=\"data row0 col1\" >0.054036</td>\n",
       "      <td id=\"T_58e51_row0_col2\" class=\"data row0 col2\" >0.523222</td>\n",
       "      <td id=\"T_58e51_row0_col3\" class=\"data row0 col3\" >0.407438</td>\n",
       "      <td id=\"T_58e51_row0_col4\" class=\"data row0 col4\" >0.139061</td>\n",
       "      <td id=\"T_58e51_row0_col5\" class=\"data row0 col5\" >0.827846</td>\n",
       "      <td id=\"T_58e51_row0_col6\" class=\"data row0 col6\" >0.358692</td>\n",
       "      <td id=\"T_58e51_row0_col7\" class=\"data row0 col7\" >0.180471</td>\n",
       "      <td id=\"T_58e51_row0_col8\" class=\"data row0 col8\" >0.238890</td>\n",
       "    </tr>\n",
       "    <tr>\n",
       "      <td id=\"T_58e51_row1_col0\" class=\"data row1 col0\" >std</td>\n",
       "      <td id=\"T_58e51_row1_col1\" class=\"data row1 col1\" >0.824443</td>\n",
       "      <td id=\"T_58e51_row1_col2\" class=\"data row1 col2\" >0.120756</td>\n",
       "      <td id=\"T_58e51_row1_col3\" class=\"data row1 col3\" >0.099721</td>\n",
       "      <td id=\"T_58e51_row1_col4\" class=\"data row1 col4\" >0.038272</td>\n",
       "      <td id=\"T_58e51_row1_col5\" class=\"data row1 col5\" >0.493687</td>\n",
       "      <td id=\"T_58e51_row1_col6\" class=\"data row1 col6\" >0.223725</td>\n",
       "      <td id=\"T_58e51_row1_col7\" class=\"data row1 col7\" >0.109842</td>\n",
       "      <td id=\"T_58e51_row1_col8\" class=\"data row1 col8\" >0.140617</td>\n",
       "    </tr>\n",
       "    <tr>\n",
       "      <td id=\"T_58e51_row2_col0\" class=\"data row2 col0\" >min</td>\n",
       "      <td id=\"T_58e51_row2_col1\" class=\"data row2 col1\" >-1.000000</td>\n",
       "      <td id=\"T_58e51_row2_col2\" class=\"data row2 col2\" >0.075000</td>\n",
       "      <td id=\"T_58e51_row2_col3\" class=\"data row2 col3\" >0.055000</td>\n",
       "      <td id=\"T_58e51_row2_col4\" class=\"data row2 col4\" >0.000000</td>\n",
       "      <td id=\"T_58e51_row2_col5\" class=\"data row2 col5\" >0.002000</td>\n",
       "      <td id=\"T_58e51_row2_col6\" class=\"data row2 col6\" >0.001000</td>\n",
       "      <td id=\"T_58e51_row2_col7\" class=\"data row2 col7\" >0.000500</td>\n",
       "      <td id=\"T_58e51_row2_col8\" class=\"data row2 col8\" >0.001500</td>\n",
       "    </tr>\n",
       "    <tr>\n",
       "      <td id=\"T_58e51_row3_col0\" class=\"data row3 col0\" >median</td>\n",
       "      <td id=\"T_58e51_row3_col1\" class=\"data row3 col1\" >0.000000</td>\n",
       "      <td id=\"T_58e51_row3_col2\" class=\"data row3 col2\" >0.540000</td>\n",
       "      <td id=\"T_58e51_row3_col3\" class=\"data row3 col3\" >0.425000</td>\n",
       "      <td id=\"T_58e51_row3_col4\" class=\"data row3 col4\" >0.140000</td>\n",
       "      <td id=\"T_58e51_row3_col5\" class=\"data row3 col5\" >0.797000</td>\n",
       "      <td id=\"T_58e51_row3_col6\" class=\"data row3 col6\" >0.334500</td>\n",
       "      <td id=\"T_58e51_row3_col7\" class=\"data row3 col7\" >0.169500</td>\n",
       "      <td id=\"T_58e51_row3_col8\" class=\"data row3 col8\" >0.232750</td>\n",
       "    </tr>\n",
       "    <tr>\n",
       "      <td id=\"T_58e51_row4_col0\" class=\"data row4 col0\" >max</td>\n",
       "      <td id=\"T_58e51_row4_col1\" class=\"data row4 col1\" >1.000000</td>\n",
       "      <td id=\"T_58e51_row4_col2\" class=\"data row4 col2\" >0.815000</td>\n",
       "      <td id=\"T_58e51_row4_col3\" class=\"data row4 col3\" >0.650000</td>\n",
       "      <td id=\"T_58e51_row4_col4\" class=\"data row4 col4\" >0.250000</td>\n",
       "      <td id=\"T_58e51_row4_col5\" class=\"data row4 col5\" >2.825500</td>\n",
       "      <td id=\"T_58e51_row4_col6\" class=\"data row4 col6\" >1.488000</td>\n",
       "      <td id=\"T_58e51_row4_col7\" class=\"data row4 col7\" >0.760000</td>\n",
       "      <td id=\"T_58e51_row4_col8\" class=\"data row4 col8\" >1.005000</td>\n",
       "    </tr>\n",
       "  </tbody>\n",
       "</table>\n"
      ],
      "text/plain": [
       "<pandas.io.formats.style.Styler at 0x187c449bee0>"
      ]
     },
     "metadata": {},
     "output_type": "display_data"
    },
    {
     "data": {
      "text/html": [
       "<style type=\"text/css\">\n",
       "</style>\n",
       "<table id=\"T_9cbca\">\n",
       "  <caption>Statistics of the dataset - after scaling</caption>\n",
       "  <thead>\n",
       "    <tr>\n",
       "      <th id=\"T_9cbca_level0_col0\" class=\"col_heading level0 col0\" >Statistic</th>\n",
       "      <th id=\"T_9cbca_level0_col1\" class=\"col_heading level0 col1\" >Type</th>\n",
       "      <th id=\"T_9cbca_level0_col2\" class=\"col_heading level0 col2\" >LongestShell_mm</th>\n",
       "      <th id=\"T_9cbca_level0_col3\" class=\"col_heading level0 col3\" >Diameter_mm</th>\n",
       "      <th id=\"T_9cbca_level0_col4\" class=\"col_heading level0 col4\" >Height_mm</th>\n",
       "      <th id=\"T_9cbca_level0_col5\" class=\"col_heading level0 col5\" >WholeWeight_g</th>\n",
       "      <th id=\"T_9cbca_level0_col6\" class=\"col_heading level0 col6\" >ShuckedWeight_g</th>\n",
       "      <th id=\"T_9cbca_level0_col7\" class=\"col_heading level0 col7\" >VisceraWeight_g</th>\n",
       "      <th id=\"T_9cbca_level0_col8\" class=\"col_heading level0 col8\" >ShellWeight_g</th>\n",
       "    </tr>\n",
       "  </thead>\n",
       "  <tbody>\n",
       "    <tr>\n",
       "      <td id=\"T_9cbca_row0_col0\" class=\"data row0 col0\" >mean</td>\n",
       "      <td id=\"T_9cbca_row0_col1\" class=\"data row0 col1\" >-0.000000</td>\n",
       "      <td id=\"T_9cbca_row0_col2\" class=\"data row0 col2\" >-0.000000</td>\n",
       "      <td id=\"T_9cbca_row0_col3\" class=\"data row0 col3\" >-0.000000</td>\n",
       "      <td id=\"T_9cbca_row0_col4\" class=\"data row0 col4\" >-0.000000</td>\n",
       "      <td id=\"T_9cbca_row0_col5\" class=\"data row0 col5\" >0.000000</td>\n",
       "      <td id=\"T_9cbca_row0_col6\" class=\"data row0 col6\" >0.000000</td>\n",
       "      <td id=\"T_9cbca_row0_col7\" class=\"data row0 col7\" >-0.000000</td>\n",
       "      <td id=\"T_9cbca_row0_col8\" class=\"data row0 col8\" >-0.000000</td>\n",
       "    </tr>\n",
       "    <tr>\n",
       "      <td id=\"T_9cbca_row1_col0\" class=\"data row1 col0\" >std</td>\n",
       "      <td id=\"T_9cbca_row1_col1\" class=\"data row1 col1\" >0.999829</td>\n",
       "      <td id=\"T_9cbca_row1_col2\" class=\"data row1 col2\" >0.999829</td>\n",
       "      <td id=\"T_9cbca_row1_col3\" class=\"data row1 col3\" >0.999829</td>\n",
       "      <td id=\"T_9cbca_row1_col4\" class=\"data row1 col4\" >0.999829</td>\n",
       "      <td id=\"T_9cbca_row1_col5\" class=\"data row1 col5\" >0.999829</td>\n",
       "      <td id=\"T_9cbca_row1_col6\" class=\"data row1 col6\" >0.999829</td>\n",
       "      <td id=\"T_9cbca_row1_col7\" class=\"data row1 col7\" >0.999829</td>\n",
       "      <td id=\"T_9cbca_row1_col8\" class=\"data row1 col8\" >0.999829</td>\n",
       "    </tr>\n",
       "    <tr>\n",
       "      <td id=\"T_9cbca_row2_col0\" class=\"data row2 col0\" >min</td>\n",
       "      <td id=\"T_9cbca_row2_col1\" class=\"data row2 col1\" >-1.278263</td>\n",
       "      <td id=\"T_9cbca_row2_col2\" class=\"data row2 col2\" >-3.711146</td>\n",
       "      <td id=\"T_9cbca_row2_col3\" class=\"data row2 col3\" >-3.533626</td>\n",
       "      <td id=\"T_9cbca_row2_col4\" class=\"data row2 col4\" >-3.632842</td>\n",
       "      <td id=\"T_9cbca_row2_col5\" class=\"data row2 col5\" >-1.672528</td>\n",
       "      <td id=\"T_9cbca_row2_col6\" class=\"data row2 col6\" >-1.598526</td>\n",
       "      <td id=\"T_9cbca_row2_col7\" class=\"data row2 col7\" >-1.638165</td>\n",
       "      <td id=\"T_9cbca_row2_col8\" class=\"data row2 col8\" >-1.687918</td>\n",
       "    </tr>\n",
       "    <tr>\n",
       "      <td id=\"T_9cbca_row3_col0\" class=\"data row3 col0\" >median</td>\n",
       "      <td id=\"T_9cbca_row3_col1\" class=\"data row3 col1\" >-0.065531</td>\n",
       "      <td id=\"T_9cbca_row3_col2\" class=\"data row3 col2\" >0.138920</td>\n",
       "      <td id=\"T_9cbca_row3_col3\" class=\"data row3 col3\" >0.176076</td>\n",
       "      <td id=\"T_9cbca_row3_col4\" class=\"data row3 col4\" >0.024525</td>\n",
       "      <td id=\"T_9cbca_row3_col5\" class=\"data row3 col5\" >-0.062471</td>\n",
       "      <td id=\"T_9cbca_row3_col6\" class=\"data row3 col6\" >-0.108112</td>\n",
       "      <td id=\"T_9cbca_row3_col7\" class=\"data row3 col7\" >-0.099859</td>\n",
       "      <td id=\"T_9cbca_row3_col8\" class=\"data row3 col8\" >-0.043655</td>\n",
       "    </tr>\n",
       "    <tr>\n",
       "      <td id=\"T_9cbca_row4_col0\" class=\"data row4 col0\" >max</td>\n",
       "      <td id=\"T_9cbca_row4_col1\" class=\"data row4 col1\" >1.147202</td>\n",
       "      <td id=\"T_9cbca_row4_col2\" class=\"data row4 col2\" >2.415841</td>\n",
       "      <td id=\"T_9cbca_row4_col3\" class=\"data row4 col3\" >2.431976</td>\n",
       "      <td id=\"T_9cbca_row4_col4\" class=\"data row4 col4\" >2.898170</td>\n",
       "      <td id=\"T_9cbca_row4_col5\" class=\"data row4 col5\" >4.045707</td>\n",
       "      <td id=\"T_9cbca_row4_col6\" class=\"data row4 col6\" >5.046888</td>\n",
       "      <td id=\"T_9cbca_row4_col7\" class=\"data row4 col7\" >5.275111</td>\n",
       "      <td id=\"T_9cbca_row4_col8\" class=\"data row4 col8\" >5.447292</td>\n",
       "    </tr>\n",
       "  </tbody>\n",
       "</table>\n"
      ],
      "text/plain": [
       "<pandas.io.formats.style.Styler at 0x187df726c80>"
      ]
     },
     "metadata": {},
     "output_type": "display_data"
    }
   ],
   "source": [
    "x_train_summary = datasum(xtrain)\n",
    "x_test_summary = datasum(xtest)\n",
    "x_train_scl_summary = datasum(xtrain_scl)\n",
    "x_test_scl_summary = datasum(xtest_scl)\n",
    "## convert to arrays\n",
    "xtrain_scl, ytrain = np.array(xtrain_scl), np.array(ytrain)\n",
    "xtest_scl, ytest = np.array(xtest_scl), np.array(ytest)\n",
    "## print the dataset before and after scaling\n",
    "display(x_train_summary.style.hide(axis = \"index\").set_caption(\"Statistics of the dataset - before scaling\"))\n",
    "display(x_train_scl_summary.style.hide(axis = \"index\").set_caption(\"Statistics of the dataset - after scaling\"))"
   ]
  },
  {
   "cell_type": "markdown",
   "id": "0ffa1da9-2f7c-42d9-9545-a82495751e05",
   "metadata": {},
   "source": [
    "### Step 2: Build the backpropagation algorithm"
   ]
  },
  {
   "cell_type": "markdown",
   "id": "3d1a2149-4fb3-4ddb-adb7-2078324fecbe",
   "metadata": {},
   "source": [
    "<strong>Task 9:</strong> Complete the following function to train the neural network using the gradient descent method based on backpropagation."
   ]
  },
  {
   "cell_type": "code",
   "execution_count": 14,
   "id": "fe91295f-036a-4c83-9075-2498dfaa53b2",
   "metadata": {},
   "outputs": [],
   "source": [
    "def ANN_backpro(x, ytrue, NpL, Nfx, Wts, bias, ActivFun, lr):\n",
    "    '''\n",
    "    o Shape of x: Nfx * n, where n is the number of data points, and Nfx the number of features\n",
    "    o Shape of ytrue: n * 1, where n is the number of data points.\n",
    "    \n",
    "    '''\n",
    "    #print(\"x\",x.shape)\n",
    "    #print(\"ytrue\",ytrue.shape)\n",
    "    \n",
    "    ## step 1: feed forward\n",
    "    n = x.shape[1]\n",
    "    yLm1 = x\n",
    "    z = []\n",
    "    y = []\n",
    "    for iL in np.arange(len(NpL)):\n",
    "        ## get the parameters for the current layer\n",
    "        WL = Wts[iL]\n",
    "        bL = bias[iL]\n",
    "        ## estimate zL from yLm1\n",
    "        zL = np.dot(WL, yLm1) + np.tile(bL,n)         ##### simplifié\n",
    "        z.append(zL)\n",
    "        #print(\"zL\",zL.shape)\n",
    "\n",
    "        ## estimate yL from zL\n",
    "        sigma = globals()[ActivFun[iL]]\n",
    "        #print(\"sigma\",sigma)\n",
    "        yL = sigma(zL, mode = \"n\")\n",
    "        y.append(yL)\n",
    "\n",
    "        ## update yLm1\n",
    "        yLm1 = yL\n",
    "\n",
    "    ## step 2: backpropagation\n",
    "    ytrue = ytrue.T\n",
    "    dJ_dy = 2*(yL - ytrue)/n                   \n",
    "\n",
    "    for iL in reversed(np.arange(len(NpL))):\n",
    "        #print(\"iL\",iL)\n",
    "        ## getting zL of the current layer\n",
    "        zL = z[iL]\n",
    "\n",
    "        ## estimating dJ_dz from dJ_dy\n",
    "        sigma = globals()[ActivFun[iL]]\n",
    "        dJ_dz = dJ_dy * sigma(zL, mode = \"d\")\n",
    "\n",
    "        ## getting the parameters of current layer\n",
    "        WL = Wts[iL]\n",
    "        bL = bias[iL]\n",
    "       \n",
    "        ## estimating dJ_dW from dJ_dz\n",
    "        ## dJ_dz : (nL x n)\n",
    "        ## yLm1 : (nL-1 x n)\n",
    "        ## getting yL-1\n",
    "        if iL == 0:\n",
    "            yLm1 = x\n",
    "        else:\n",
    "            yLm1 = y[iL-1]\n",
    "\n",
    "        dJ_dW = np.dot(dJ_dz, yLm1.T)\n",
    "        \n",
    "        #print(\"dJ_dz\",dJ_dz.shape, \"nL x n\")\n",
    "        #print(\"yLm1\",yLm1.shape, \"nL-1 x n\")\n",
    "\n",
    "        # estimating dJ_db from dJ_dz\n",
    "        # J_db : nL x 1\n",
    "        # dJ_dz : nL x n\n",
    "        dJ_db = np.dot(dJ_dz, np.ones((n,1)))\n",
    "\n",
    "        #print(\"dJ_db\",dJ_db.shape, \"nL x 1\")\n",
    "        #print(\"dJ_dz\",dJ_dz.shape, \"nL x n\")\n",
    "\n",
    "        ## backpropagating the gradient from layer L to layer L-1\n",
    "        ## WL : nL x nL-1\n",
    "        ## dJ_dz : nL x n\n",
    "        ## dJ_dy (L-1) : nL-1 x n\n",
    "        dJ_dy = np.dot(WL.T, dJ_dz)\n",
    "\n",
    "        #print(\"WL\",WL.shape, \"nL x nL-1\")\n",
    "        #print(\"dJ_dz\",dJ_dz.shape, \"nL x n\")\n",
    "        #print(\"dJ_dy\",dJ_dy.shape, \"nL-1 x n\")\n",
    "        #print(\"dJ_dW\",dJ_dW.shape, \"nL x nL-1\")\n",
    "        #print(\"bL\",bL.shape, \"nL x 1\",\"avant\")\n",
    "        ## Updating the parameters\n",
    "        #print(type(np.multiply(dJ_db,lr)))\n",
    "\n",
    "        WL = WL - np.multiply(dJ_dW,lr)\n",
    "        bL = bL - np.multiply(dJ_db,lr)                 #.T\n",
    "        #print(\"WL\",WL.shape, \"nL x nL-1\")\n",
    "        #print(\"bL\",bL.shape, \"nL x 1\",\"apres\")\n",
    "        Wts[iL] = WL\n",
    "        bias[iL] = bL\n",
    "    return Wts, bias"
   ]
  },
  {
   "cell_type": "markdown",
   "id": "f8c3927e-e855-4dda-9272-c4453f22c6a9",
   "metadata": {},
   "source": [
    "<strong>Task 10:</strong> Complete the initialization of parameters (exactly the same as in part 1)."
   ]
  },
  {
   "cell_type": "code",
   "execution_count": 15,
   "id": "4d082f3a-ec71-4502-95af-6e52d8c4412a",
   "metadata": {},
   "outputs": [
    {
     "name": "stdout",
     "output_type": "stream",
     "text": [
      "Number of neurons per layer:  [7, 5, 1]\n",
      "Number of neurons from the previous layer:  [8, 7, 5]\n"
     ]
    }
   ],
   "source": [
    "## NL is the number of layers including the hidden layers AND the output layer\n",
    "NL = 3\n",
    "## NpL defines the number of neurones per each layer. The length of NpL should be exactly equal to NL\n",
    "NpL = [7,5,1]\n",
    "## Add the number of features x\n",
    "Nfx = 8\n",
    "## ActivFun defines the activation functions per each layer\n",
    "ActivFun = ['relu', 'logistic', 'Linear']\n",
    "#ActivFun = ['relu', 'relu']\n",
    "\n",
    "## List of size of layers -1: important for automatic definition of parameters\n",
    "NpLm1 = [Nfx]\n",
    "for iL in np.arange(len(NpL)-1):\n",
    "    NpLm1.append(NpL[iL])\n",
    "print(\"Number of neurons per layer: \", NpL)\n",
    "print(\"Number of neurons from the previous layer: \", NpLm1)\n",
    "\n",
    "## Learning rate\n",
    "lr = 0.01\n",
    "\n",
    "## Number of epochs\n",
    "epochs = 50\n",
    "## List of weights and biases\n",
    "Wts = []\n",
    "bias = []\n",
    "for iL in np.arange(len(NpL)):\n",
    "    ## random initialization\n",
    "    WL = (np.random.rand(NpL[iL], NpLm1[iL])-0.5)*2\n",
    "    bL = (np.random.rand(NpL[iL], 1)-0.5)*2\n",
    "    ## appending\n",
    "    Wts.append(WL)\n",
    "    bias.append(bL)\n"
   ]
  },
  {
   "cell_type": "markdown",
   "id": "1e75e783-8bbc-4fdd-85ca-45edd9a9e8e0",
   "metadata": {},
   "source": [
    "<strong>Task 11:</strong> Complete the following lines in order to keep track of (1) epochs, (2) training error (MSE), and (3) test error."
   ]
  },
  {
   "cell_type": "code",
   "execution_count": 16,
   "id": "91a36fc6-aeec-4a24-8318-48283781d217",
   "metadata": {},
   "outputs": [
    {
     "name": "stdout",
     "output_type": "stream",
     "text": [
      "Learning rate:  0.01   Number of epochs:  50\n",
      "\r"
     ]
    }
   ],
   "source": [
    "print(\"Learning rate: \", lr, \"  Number of epochs: \", epochs)\n",
    "MSEtrain = np.array([])\n",
    "MSEtest = np.array([])\n",
    "epoch = np.array([])\n",
    "sys.stdout.write('\\r')\n",
    "for iepoch in np.arange(epochs):\n",
    "    epoch = np.append(epoch, iepoch)\n",
    "    ## train the neural network\n",
    "    x_in = xtrain_scl.T \n",
    "    Wts, bias = ANN_backpro(x = x_in, ytrue = ytrain, NpL = NpL, Nfx = Nfx, Wts = Wts, bias = bias, ActivFun = ActivFun, lr = lr)\n",
    "\n",
    "    #print(\"Wts[0]\", Wts[0].shape)\n",
    "    #print(\"Wts[1]\", Wts[1].shape)\n",
    "\n",
    "    ## estimate the MSE for the train dataset\n",
    "    x_in = xtrain_scl.T\n",
    "    #print(\"x_in\",x_in.shape)\n",
    "    yout, zout = ANN(x = x_in, NpL = NpL, Nfx = Nfx, Wts = Wts, bias = bias, ActivFun = ActivFun)\n",
    "    ytrainsim = yout\n",
    "    #print(yout)\n",
    "    ntrain = ytrain.shape[0]\n",
    "    #print(\"ytrainsim\",len(ytrainsim))\n",
    "    #print(\"ytrain\",ytrain.shape)\n",
    "    Error_train = np.dot((ytrain - ytrainsim[-1]).T,(ytrain - ytrainsim[-1]))/ntrain\n",
    "    \n",
    "    ## estimate the MSE for the test dataset\n",
    "    x_in = xtest_scl.T\n",
    "    yout, zout = ANN(x = x_in, NpL = NpL, Nfx = Nfx, Wts = Wts, bias = bias, ActivFun = ActivFun)\n",
    "    ytestsim = yout\n",
    "    ntest = ytest.shape[0]\n",
    "    Error_test = np.dot((ytest - ytestsim[-1]).T,(ytest - ytestsim[-1]))/ntest\n",
    "    \n",
    "    ## keeping track of the errors\n",
    "    MSEtrain = np.append(MSEtrain, Error_train[0,0])\n",
    "    MSEtest = np.append(MSEtest, Error_test[0,0]) \n",
    "    \n",
    "    ## print the evolution\n",
    "    #sys.stdout.write('\\r' \"Epoch: \" + str(int(iepoch + 1)).rjust(5,'0') + \"/\"\n",
    "    #                + str(int(epochs)).rjust(5,'0') + \" \" +\n",
    "    #                \"Training error: \" + str(round(Error_train[0,0],2)) + \n",
    "    #                \"  Test error: \" + str(round(Error_test[0,0],2)))"
   ]
  },
  {
   "cell_type": "markdown",
   "id": "29ab8eb3-e3ca-4573-9041-347e5ab30ce1",
   "metadata": {},
   "source": [
    "Now, we can see the evolution of the training and test errors across the epochs. Note that only the RMSE (in years) is plotted."
   ]
  },
  {
   "cell_type": "code",
   "execution_count": 17,
   "id": "a917284a-2611-425a-93f6-44e6a4609b8f",
   "metadata": {},
   "outputs": [
    {
     "data": {
      "image/png": "[encoded data removed]",
      "text/plain": [
       "<Figure size 1000x500 with 1 Axes>"
      ]
     },
     "metadata": {},
     "output_type": "display_data"
    }
   ],
   "source": [
    "## initialization of the plot\n",
    "plt.grid(color='black', axis='y', linestyle='-', linewidth=0.5)    \n",
    "plt.grid(color='black', axis='x', linestyle='-', linewidth=0.5)   \n",
    "plt.grid(which='minor',color='grey', axis='x', linestyle=':', linewidth=0.5)     \n",
    "plt.grid(which='minor',color='grey', axis='y', linestyle=':', linewidth=0.5)    \n",
    "plt.xticks(fontsize=16); plt.yticks(fontsize=16)   \n",
    "plt.xlabel('epoch',fontsize=16 )\n",
    "plt.ylabel(r'$RMSE_{train}$ (yr), $RMSE_{test}$ (yr)', size = 16)\n",
    "## plotting the data\n",
    "plt.plot(epoch, MSEtrain**0.5, color = \"blue\", linewidth = 2., label = \"Training error\")\n",
    "plt.plot(epoch, MSEtest**0.5, color = \"orange\", linewidth = 2., label = \"Test error\")\n",
    "plt.title(\"Prediction error\", fontsize = 16)\n",
    "plt.gcf().set_size_inches(10, 5)\n",
    "plt.legend(loc=\"upper right\", prop={'size': 15})\n",
    "plt.savefig(\"fig01.png\", dpi = 300,  bbox_inches='tight')\n",
    "plt.show()"
   ]
  },
  {
   "cell_type": "markdown",
   "id": "3acbd929-abc0-45f4-bc9b-a37a9959e4c5",
   "metadata": {},
   "source": [
    "<strong>Task 12:</strong> Complete the code to compute the outputs on the test dataset using the optimized parameters."
   ]
  },
  {
   "cell_type": "code",
   "execution_count": 18,
   "id": "62ddcb1a-64d8-4921-aadd-92a9de3edf89",
   "metadata": {},
   "outputs": [
    {
     "data": {
      "image/png": "[encoded data removed]",
      "text/plain": [
       "<Figure size 600x600 with 1 Axes>"
      ]
     },
     "metadata": {},
     "output_type": "display_data"
    }
   ],
   "source": [
    "## Showing the results for the test dataset\n",
    "x_in = xtest_scl.T\n",
    "yout, zout = ANN(x = x_in, NpL = NpL, Nfx = Nfx, Wts = Wts, bias = bias, ActivFun = ActivFun)\n",
    "ytestsim = yout[-1]\n",
    "Error_test = np.dot((ytest.T - ytestsim).T,(ytest.T - ytestsim))*(1/ntest)\n",
    "## Making a scatter plot\n",
    "## initialization of the plot\n",
    "plt.grid(color='black', axis='y', linestyle='-', linewidth=0.5)    \n",
    "plt.grid(color='black', axis='x', linestyle='-', linewidth=0.5)   \n",
    "plt.grid(which='minor',color='grey', axis='x', linestyle=':', linewidth=0.5)     \n",
    "plt.grid(which='minor',color='grey', axis='y', linestyle=':', linewidth=0.5)    \n",
    "plt.xticks(fontsize=16); plt.yticks(fontsize=16)   \n",
    "plt.xlabel(r'$Age_{obs}$ (yr)',fontsize=16 )\n",
    "plt.ylabel(r'$Age_{sim}$ (yr)',fontsize=16 )\n",
    "## plotting the data\n",
    "plt.scatter(ytest, ytestsim, color = \"red\", marker = \"o\")\n",
    "plt.plot([0., 30.], [0., 30.], color='k', linestyle='-', linewidth=2)\n",
    "plt.gcf().set_size_inches(6, 6)\n",
    "plt.savefig(\"fig02.png\", dpi = 300,  bbox_inches='tight')\n",
    "plt.show()"
   ]
  },
  {
   "cell_type": "markdown",
   "id": "fcf23d2a-355f-4269-9007-e059cfe4a7d1",
   "metadata": {},
   "source": [
    "## <strong>Part 3: Make your life easier with Keras</strong>"
   ]
  },
  {
   "cell_type": "markdown",
   "id": "c6fac845-9b3c-46a7-b3d1-cebf25f94e0a",
   "metadata": {},
   "source": [
    "In this part, an implementation of a DNN using functions from Keras is shown."
   ]
  },
  {
   "cell_type": "markdown",
   "id": "8ff88e48-d89c-410b-b456-50399d21c3b5",
   "metadata": {},
   "source": [
    "### Step 1: Build the ANN architecture using Keras"
   ]
  },
  {
   "cell_type": "markdown",
   "id": "7759ba1c-824b-4b79-9246-39f3cf54ec70",
   "metadata": {},
   "source": [
    "<strong>Task 13:</strong> Modify the following function to implement the same ANN as the one implemented in Part 2."
   ]
  },
  {
   "cell_type": "code",
   "execution_count": 19,
   "id": "d365ca70-94e2-4806-8636-ae1aba182817",
   "metadata": {},
   "outputs": [],
   "source": [
    "def ANN_keras(shape):\n",
    "  \n",
    "  model = keras.models.Sequential()\n",
    "  model.add(keras.layers.Input(shape, name=\"InputLayer\"))\n",
    "  model.add(keras.layers.Dense(7, activation='relu', name='HiddenLayer01'))\n",
    "  model.add(keras.layers.Dense(5, activation='sigmoid', name='HiddenLayer02'))\n",
    "  model.add(keras.layers.Dense(1, name='Output'))\n",
    "  \n",
    "  model.compile(optimizer = 'adam',\n",
    "                loss      = 'mse',\n",
    "                metrics   = ['mae', 'mse'] )\n",
    "  return model"
   ]
  },
  {
   "cell_type": "markdown",
   "id": "dd13627a-f857-49fd-bd4e-2e658d475628",
   "metadata": {},
   "source": [
    "The following lines help create and instantiate an ANN using the function ```ANN_keras```.\n",
    "\n",
    "<strong>Task 14:</strong> Use ```Nfx``` to create a \"copy\" of the ANN defined using ```ANN_keras```."
   ]
  },
  {
   "cell_type": "code",
   "execution_count": 20,
   "id": "9b572375-3211-406c-830e-66b6ed49c0a7",
   "metadata": {},
   "outputs": [
    {
     "name": "stdout",
     "output_type": "stream",
     "text": [
      "Model: \"sequential\"\n",
      "_________________________________________________________________\n",
      " Layer (type)                Output Shape              Param #   \n",
      "=================================================================\n",
      " HiddenLayer01 (Dense)       (None, 7)                 63        \n",
      "                                                                 \n",
      " HiddenLayer02 (Dense)       (None, 5)                 40        \n",
      "                                                                 \n",
      " Output (Dense)              (None, 1)                 6         \n",
      "                                                                 \n",
      "=================================================================\n",
      "Total params: 109\n",
      "Trainable params: 109\n",
      "Non-trainable params: 0\n",
      "_________________________________________________________________\n"
     ]
    }
   ],
   "source": [
    "model= ANN_keras( (Nfx,) )\n",
    "model.summary()"
   ]
  },
  {
   "cell_type": "markdown",
   "id": "f279dd64-51f1-443e-be11-744617509b70",
   "metadata": {},
   "source": [
    "### Step 2: Train and evaluate the model"
   ]
  },
  {
   "cell_type": "markdown",
   "id": "8df30be7-f04e-45de-8ce4-80298793b713",
   "metadata": {},
   "source": [
    "Now, the model is ready for training. The following function launches the training of the ANN network."
   ]
  },
  {
   "cell_type": "code",
   "execution_count": 21,
   "id": "b0d22521-ceb5-4f33-94f9-21abf60d973b",
   "metadata": {},
   "outputs": [
    {
     "name": "stdout",
     "output_type": "stream",
     "text": [
      "Epoch 1/50\n",
      "366/366 [==============================] - 2s 4ms/step - loss: 81.4978 - mae: 8.3867 - mse: 81.4978 - val_loss: 57.4896 - val_mae: 6.9297 - val_mse: 57.4896\n",
      "Epoch 2/50\n",
      "366/366 [==============================] - 1s 3ms/step - loss: 47.8092 - mae: 6.1238 - mse: 47.8092 - val_loss: 38.8562 - val_mae: 5.4168 - val_mse: 38.8562\n",
      "Epoch 3/50\n",
      "366/366 [==============================] - 2s 4ms/step - loss: 33.4265 - mae: 4.8438 - mse: 33.4265 - val_loss: 27.5166 - val_mae: 4.2966 - val_mse: 27.5166\n",
      "Epoch 4/50\n",
      "366/366 [==============================] - 2s 5ms/step - loss: 24.1254 - mae: 3.8760 - mse: 24.1254 - val_loss: 20.0231 - val_mae: 3.4519 - val_mse: 20.0231\n",
      "Epoch 5/50\n",
      "366/366 [==============================] - 1s 2ms/step - loss: 18.0816 - mae: 3.1641 - mse: 18.0816 - val_loss: 15.2792 - val_mae: 2.8843 - val_mse: 15.2792\n",
      "Epoch 6/50\n",
      "366/366 [==============================] - 1s 2ms/step - loss: 14.3608 - mae: 2.7129 - mse: 14.3608 - val_loss: 12.4402 - val_mae: 2.5368 - val_mse: 12.4402\n",
      "Epoch 7/50\n",
      "366/366 [==============================] - 1s 2ms/step - loss: 12.2022 - mae: 2.4686 - mse: 12.2022 - val_loss: 10.8393 - val_mae: 2.3377 - val_mse: 10.8393\n",
      "Epoch 8/50\n",
      "366/366 [==============================] - 1s 2ms/step - loss: 10.8806 - mae: 2.3059 - mse: 10.8806 - val_loss: 9.7029 - val_mae: 2.2193 - val_mse: 9.7029\n",
      "Epoch 9/50\n",
      "366/366 [==============================] - 1s 4ms/step - loss: 9.7370 - mae: 2.1721 - mse: 9.7370 - val_loss: 8.5903 - val_mae: 2.0723 - val_mse: 8.5903\n",
      "Epoch 10/50\n",
      "366/366 [==============================] - 2s 5ms/step - loss: 8.6599 - mae: 2.0122 - mse: 8.6599 - val_loss: 7.6454 - val_mae: 1.9116 - val_mse: 7.6454\n",
      "Epoch 11/50\n",
      "366/366 [==============================] - 1s 4ms/step - loss: 7.8628 - mae: 1.9098 - mse: 7.8628 - val_loss: 7.0608 - val_mae: 1.8651 - val_mse: 7.0608\n",
      "Epoch 12/50\n",
      "366/366 [==============================] - 1s 3ms/step - loss: 7.4125 - mae: 1.8724 - mse: 7.4125 - val_loss: 6.7539 - val_mae: 1.8596 - val_mse: 6.7539\n",
      "Epoch 13/50\n",
      "366/366 [==============================] - 1s 4ms/step - loss: 7.1660 - mae: 1.8622 - mse: 7.1660 - val_loss: 6.5790 - val_mae: 1.8053 - val_mse: 6.5790\n",
      "Epoch 14/50\n",
      "366/366 [==============================] - 2s 5ms/step - loss: 7.0083 - mae: 1.8474 - mse: 7.0083 - val_loss: 6.4680 - val_mae: 1.8481 - val_mse: 6.4680\n",
      "Epoch 15/50\n",
      "366/366 [==============================] - 2s 6ms/step - loss: 6.9016 - mae: 1.8594 - mse: 6.9016 - val_loss: 6.3656 - val_mae: 1.8166 - val_mse: 6.3656\n",
      "Epoch 16/50\n",
      "366/366 [==============================] - 1s 4ms/step - loss: 6.8164 - mae: 1.8479 - mse: 6.8164 - val_loss: 6.2919 - val_mae: 1.8214 - val_mse: 6.2919\n",
      "Epoch 17/50\n",
      "366/366 [==============================] - 2s 4ms/step - loss: 6.7295 - mae: 1.8491 - mse: 6.7295 - val_loss: 6.2418 - val_mae: 1.7804 - val_mse: 6.2418\n",
      "Epoch 18/50\n",
      "366/366 [==============================] - 2s 5ms/step - loss: 6.6573 - mae: 1.8270 - mse: 6.6573 - val_loss: 6.1625 - val_mae: 1.8029 - val_mse: 6.1625\n",
      "Epoch 19/50\n",
      "366/366 [==============================] - 2s 5ms/step - loss: 6.5805 - mae: 1.8194 - mse: 6.5805 - val_loss: 6.1027 - val_mae: 1.7880 - val_mse: 6.1027\n",
      "Epoch 20/50\n",
      "366/366 [==============================] - 1s 3ms/step - loss: 6.5009 - mae: 1.8090 - mse: 6.5009 - val_loss: 6.0419 - val_mae: 1.7696 - val_mse: 6.0419\n",
      "Epoch 21/50\n",
      "366/366 [==============================] - 1s 3ms/step - loss: 6.4255 - mae: 1.8012 - mse: 6.4255 - val_loss: 5.9695 - val_mae: 1.7545 - val_mse: 5.9695\n",
      "Epoch 22/50\n",
      "366/366 [==============================] - 2s 5ms/step - loss: 6.3420 - mae: 1.7797 - mse: 6.3420 - val_loss: 5.8918 - val_mae: 1.7321 - val_mse: 5.8918\n",
      "Epoch 23/50\n",
      "366/366 [==============================] - 1s 4ms/step - loss: 6.2399 - mae: 1.7663 - mse: 6.2399 - val_loss: 5.8095 - val_mae: 1.7050 - val_mse: 5.8095\n",
      "Epoch 24/50\n",
      "366/366 [==============================] - 2s 4ms/step - loss: 6.1361 - mae: 1.7438 - mse: 6.1361 - val_loss: 5.6931 - val_mae: 1.7148 - val_mse: 5.6931\n",
      "Epoch 25/50\n",
      "366/366 [==============================] - 2s 5ms/step - loss: 6.0127 - mae: 1.7265 - mse: 6.0127 - val_loss: 5.5726 - val_mae: 1.6859 - val_mse: 5.5726\n",
      "Epoch 26/50\n",
      "366/366 [==============================] - 2s 5ms/step - loss: 5.8811 - mae: 1.7053 - mse: 5.8811 - val_loss: 5.4512 - val_mae: 1.6521 - val_mse: 5.4512\n",
      "Epoch 27/50\n",
      "366/366 [==============================] - 1s 3ms/step - loss: 5.7514 - mae: 1.6851 - mse: 5.7514 - val_loss: 5.3611 - val_mae: 1.6186 - val_mse: 5.3611\n",
      "Epoch 28/50\n",
      "366/366 [==============================] - 1s 3ms/step - loss: 5.6150 - mae: 1.6593 - mse: 5.6150 - val_loss: 5.2174 - val_mae: 1.6241 - val_mse: 5.2174\n",
      "Epoch 29/50\n",
      "366/366 [==============================] - 2s 6ms/step - loss: 5.4980 - mae: 1.6463 - mse: 5.4980 - val_loss: 5.1236 - val_mae: 1.5933 - val_mse: 5.1236\n",
      "Epoch 30/50\n",
      "366/366 [==============================] - 1s 3ms/step - loss: 5.3824 - mae: 1.6303 - mse: 5.3824 - val_loss: 5.0073 - val_mae: 1.5928 - val_mse: 5.0073\n",
      "Epoch 31/50\n",
      "366/366 [==============================] - 2s 5ms/step - loss: 5.2804 - mae: 1.6139 - mse: 5.2804 - val_loss: 4.9275 - val_mae: 1.5709 - val_mse: 4.9275\n",
      "Epoch 32/50\n",
      "366/366 [==============================] - 1s 4ms/step - loss: 5.1855 - mae: 1.6035 - mse: 5.1855 - val_loss: 4.8407 - val_mae: 1.5658 - val_mse: 4.8407\n",
      "Epoch 33/50\n",
      "366/366 [==============================] - 2s 6ms/step - loss: 5.1040 - mae: 1.5936 - mse: 5.1040 - val_loss: 4.7736 - val_mae: 1.5629 - val_mse: 4.7736\n",
      "Epoch 34/50\n",
      "366/366 [==============================] - 2s 6ms/step - loss: 5.0332 - mae: 1.5796 - mse: 5.0332 - val_loss: 4.7128 - val_mae: 1.5530 - val_mse: 4.7128\n",
      "Epoch 35/50\n",
      "366/366 [==============================] - 1s 3ms/step - loss: 4.9833 - mae: 1.5748 - mse: 4.9833 - val_loss: 4.6782 - val_mae: 1.5435 - val_mse: 4.6782\n",
      "Epoch 36/50\n",
      "366/366 [==============================] - 1s 2ms/step - loss: 4.9369 - mae: 1.5698 - mse: 4.9369 - val_loss: 4.6396 - val_mae: 1.5343 - val_mse: 4.6396\n",
      "Epoch 37/50\n",
      "366/366 [==============================] - 1s 3ms/step - loss: 4.8893 - mae: 1.5611 - mse: 4.8893 - val_loss: 4.6027 - val_mae: 1.5416 - val_mse: 4.6027\n",
      "Epoch 38/50\n",
      "366/366 [==============================] - 1s 2ms/step - loss: 4.8646 - mae: 1.5612 - mse: 4.8646 - val_loss: 4.5811 - val_mae: 1.5397 - val_mse: 4.5811\n",
      "Epoch 39/50\n",
      "366/366 [==============================] - 1s 4ms/step - loss: 4.8260 - mae: 1.5530 - mse: 4.8260 - val_loss: 4.5890 - val_mae: 1.5636 - val_mse: 4.5890\n",
      "Epoch 40/50\n",
      "366/366 [==============================] - 2s 5ms/step - loss: 4.8076 - mae: 1.5556 - mse: 4.8076 - val_loss: 4.5517 - val_mae: 1.5267 - val_mse: 4.5517\n",
      "Epoch 41/50\n",
      "366/366 [==============================] - 2s 4ms/step - loss: 4.7830 - mae: 1.5487 - mse: 4.7830 - val_loss: 4.5492 - val_mae: 1.5159 - val_mse: 4.5492\n",
      "Epoch 42/50\n",
      "366/366 [==============================] - 2s 4ms/step - loss: 4.7752 - mae: 1.5465 - mse: 4.7752 - val_loss: 4.5178 - val_mae: 1.5342 - val_mse: 4.5178\n",
      "Epoch 43/50\n",
      "366/366 [==============================] - 1s 4ms/step - loss: 4.7532 - mae: 1.5445 - mse: 4.7532 - val_loss: 4.5278 - val_mae: 1.5545 - val_mse: 4.5278\n",
      "Epoch 44/50\n",
      "366/366 [==============================] - 2s 5ms/step - loss: 4.7417 - mae: 1.5428 - mse: 4.7417 - val_loss: 4.4858 - val_mae: 1.5292 - val_mse: 4.4858\n",
      "Epoch 45/50\n",
      "366/366 [==============================] - 2s 5ms/step - loss: 4.7353 - mae: 1.5412 - mse: 4.7353 - val_loss: 4.4933 - val_mae: 1.5128 - val_mse: 4.4933\n",
      "Epoch 46/50\n",
      "366/366 [==============================] - 2s 5ms/step - loss: 4.7038 - mae: 1.5383 - mse: 4.7038 - val_loss: 4.5157 - val_mae: 1.5615 - val_mse: 4.5157\n",
      "Epoch 47/50\n",
      "366/366 [==============================] - 2s 5ms/step - loss: 4.6968 - mae: 1.5362 - mse: 4.6968 - val_loss: 4.4937 - val_mae: 1.5541 - val_mse: 4.4937\n",
      "Epoch 48/50\n",
      "366/366 [==============================] - 2s 6ms/step - loss: 4.6991 - mae: 1.5380 - mse: 4.6991 - val_loss: 4.4607 - val_mae: 1.5134 - val_mse: 4.4607\n",
      "Epoch 49/50\n",
      "366/366 [==============================] - 2s 6ms/step - loss: 4.6832 - mae: 1.5330 - mse: 4.6832 - val_loss: 4.4535 - val_mae: 1.5087 - val_mse: 4.4535\n",
      "Epoch 50/50\n",
      "366/366 [==============================] - 2s 6ms/step - loss: 4.6765 - mae: 1.5356 - mse: 4.6765 - val_loss: 4.4528 - val_mae: 1.5385 - val_mse: 4.4528\n"
     ]
    }
   ],
   "source": [
    "history = model.fit(xtrain,\n",
    "                    ytrain,\n",
    "                    epochs          = 50,\n",
    "                    batch_size      = xtrain.shape[1],\n",
    "                    validation_data = (xtest, ytest))"
   ]
  },
  {
   "cell_type": "markdown",
   "id": "552f2dab-fec3-4497-94a2-a1460c8f02dc",
   "metadata": {},
   "source": [
    "The test scores are computed using the optimized parameter set on the test dataset."
   ]
  },
  {
   "cell_type": "code",
   "execution_count": 22,
   "id": "dd647516-9782-44a6-831a-f3d1d220d3d6",
   "metadata": {},
   "outputs": [
    {
     "name": "stdout",
     "output_type": "stream",
     "text": [
      "test / loss      : 36.9298\n",
      "test / mae       : 5.3761\n",
      "test / mse       : 36.9298\n"
     ]
    }
   ],
   "source": [
    "score = model.evaluate(xtest_scl, ytest, verbose=0)\n",
    "\n",
    "print('test / loss      : {:5.4f}'.format(score[0]))\n",
    "print('test / mae       : {:5.4f}'.format(score[1]))\n",
    "print('test / mse       : {:5.4f}'.format(score[2]))"
   ]
  },
  {
   "cell_type": "markdown",
   "id": "d2bbe857-d3fd-48da-a9dc-a75e686f8b68",
   "metadata": {},
   "source": [
    "We can make a prediction with the Keras-built ANN and compare it with that from your own ANN."
   ]
  },
  {
   "cell_type": "code",
   "execution_count": 23,
   "id": "f17b3e22-cd95-4261-bd58-acef44622bc3",
   "metadata": {},
   "outputs": [
    {
     "name": "stdout",
     "output_type": "stream",
     "text": [
      "(1, 8)\n",
      "1/1 [==============================] - 0s 99ms/step\n",
      "predicted age using Keras-built network:  5.01 yr\n",
      "predicted age using your neural network:  10.51 yr\n"
     ]
    }
   ],
   "source": [
    "mydata = [ 1, 0.3, 0.1, 0.2, 0.2, 0.5, 0.7, -1. ]\n",
    "mydata = np.array(mydata).reshape(1,8)\n",
    "print(mydata.shape)\n",
    "predictions = model.predict(mydata)\n",
    "print(\"predicted age using Keras-built network: \", round(predictions[0,0],2), \"yr\")\n",
    "yout, zout = ANN(x = mydata.T, NpL = NpL, Nfx = Nfx, Wts = Wts, bias = bias, ActivFun = ActivFun)\n",
    "print(\"predicted age using your neural network: \", round(yout[NL-1][0,0], 2), \"yr\")"
   ]
  },
  {
   "cell_type": "markdown",
   "id": "6e237b49-85bd-475d-b536-3cfc4f1f67b0",
   "metadata": {},
   "source": [
    "Finally, we can use parameters estimated by Keras and your neural network to test whether you get the same estimates."
   ]
  },
  {
   "cell_type": "code",
   "execution_count": 24,
   "id": "4813e857-e6b8-4da4-92df-d8f406849736",
   "metadata": {},
   "outputs": [
    {
     "name": "stdout",
     "output_type": "stream",
     "text": [
      "predicted age using Keras-built network:  5.01 yr\n",
      "predicted age using your neural network and Keras-estimated parameters:  5.01 yr\n"
     ]
    }
   ],
   "source": [
    "param_keras = model.get_weights()\n",
    "len_par = len(param_keras)\n",
    "wts_keras = [param_keras[i].T for i in np.arange(0, len_par, 2)]\n",
    "bias_keras = [param_keras[i].reshape(param_keras[i].shape[0], 1) for i in np.arange(1, len_par, 2)]\n",
    "ActivFun_Keras = ['relu','logistic','Linear']\n",
    "NpL_Keras = [7,5,1]\n",
    "Nfx = 8\n",
    "yout_k, zout_k = ANN(x = mydata.T, NpL = NpL_Keras, Nfx = Nfx, Wts = wts_keras, bias = bias_keras, ActivFun = ActivFun_Keras)\n",
    "print(\"predicted age using Keras-built network: \", round(predictions[0,0],2), \"yr\")\n",
    "print(\"predicted age using your neural network and Keras-estimated parameters: \", round(yout_k[len(NpL_Keras)-1][0,0], 2), \"yr\")"
   ]
  },
  {
   "cell_type": "code",
   "execution_count": 25,
   "id": "474848b7-26c0-4fed-9b73-445ce75f6c9e",
   "metadata": {},
   "outputs": [
    {
     "name": "stdout",
     "output_type": "stream",
     "text": [
      "3\n",
      "3\n"
     ]
    }
   ],
   "source": [
    "print(len(wts_keras))\n",
    "#print(Wts[0])\n",
    "print(len(NpL_Keras))"
   ]
  }
 ],
 "metadata": {
  "kernelspec": {
   "display_name": "Python 3 (ipykernel)",
   "language": "python",
   "name": "python3"
  },
  "language_info": {
   "codemirror_mode": {
    "name": "ipython",
    "version": 3
   },
   "file_extension": ".py",
   "mimetype": "text/x-python",
   "name": "python",
   "nbconvert_exporter": "python",
   "pygments_lexer": "ipython3",
   "version": "3.10.10"
  }
 },
 "nbformat": 4,
 "nbformat_minor": 5
}
